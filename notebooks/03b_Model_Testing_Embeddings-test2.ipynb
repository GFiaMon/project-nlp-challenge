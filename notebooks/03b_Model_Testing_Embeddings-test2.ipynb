{
 "cells": [
  {
   "cell_type": "markdown",
   "id": "78f4570e",
   "metadata": {},
   "source": [
    "\n",
    "---\n",
    "\n",
    "# **🔤  03 b - Model Testing: Modern Embedding Approaches**\n",
    "\n",
    "## **📑 Table of Contents**\n",
    "1.  [🎯 Objectives](#-objectives)\n",
    "2.  [⚙️ Setup & Imports](#-setup--imports)\n",
    "3.  [📥 Load Cleaned Data](#-load-cleaned-data)\n",
    "4.  [🔤 Sentence Transformer Embeddings](#-sentence-transformer-embeddings)\n",
    "5.  [🤖 Model Training](#-model-training)\n",
    "6.  [📊 Comprehensive Model Evaluation](#-comprehensive-model-evaluation)\n",
    "7.  [📈 Advanced Visualizations](#-advanced-visualizations)\n",
    "8.  [🏆 Best Model Selection](#-best-model-selection)\n",
    "9.  [💾 Save Results](#-save-results)\n",
    "\n",
    "---\n",
    "\n",
    "## **🎯 Objectives**\n",
    "- Test modern sentence embedding techniques\n",
    "- Compare multiple classification models\n",
    "- Perform comprehensive evaluation with multiple metrics\n",
    "- Select and save the best performing model\n"
   ]
  },
  {
   "cell_type": "markdown",
   "id": "1f3cde45",
   "metadata": {},
   "source": [
    "---\n",
    "\n",
    "## **⚙️ 1. Setup & Imports**\n"
   ]
  },
  {
   "cell_type": "code",
   "execution_count": 1,
   "id": "8f89cc75",
   "metadata": {},
   "outputs": [
    {
     "name": "stdout",
     "output_type": "stream",
     "text": [
      "✅ All libraries imported successfully!\n"
     ]
    }
   ],
   "source": [
    "# Add project root to path\n",
    "import sys\n",
    "import os\n",
    "sys.path.append(os.path.abspath('..'))\n",
    "\n",
    "# Core libraries\n",
    "import pandas as pd\n",
    "import numpy as np\n",
    "import matplotlib.pyplot as plt\n",
    "import seaborn as sns\n",
    "import datetime\n",
    "\n",
    "import warnings\n",
    "warnings.filterwarnings(\"ignore\")\n",
    "\n",
    "# Model training\n",
    "from sklearn.model_selection import train_test_split\n",
    "from sklearn.ensemble import RandomForestClassifier\n",
    "from sklearn.linear_model import LogisticRegression\n",
    "from sklearn.svm import SVC\n",
    "\n",
    "# Enhanced evaluation metrics\n",
    "from sklearn.metrics import (accuracy_score, precision_score, recall_score, f1_score, \n",
    "                            roc_auc_score, roc_curve, confusion_matrix, classification_report,\n",
    "                            precision_recall_curve, auc)\n",
    "from sklearn.calibration import calibration_curve\n",
    "\n",
    "# Sentence Transformers (modern embedding approach)\n",
    "from sentence_transformers import SentenceTransformer\n",
    "\n",
    "# Model persistence\n",
    "import joblib\n",
    "\n",
    "print(\"✅ All libraries imported successfully!\")\n",
    "\n",
    "### **🔧 Import Enhanced Functions from modeling_utils.py**\n",
    "\n",
    "from src.modeling_utils import (\n",
    "    engineer_time_features, combine_text_features, \n",
    "    evaluate_model_comprehensive, plot_experiment_results, plot_model_comparison, plot_feature_analysis\n",
    ")\n",
    "\n",
    "# Unified experiment tracker\n",
    "from src.experiment_tracker import log_experiment, create_experiment_id\n",
    "\n",
    "\n",
    "%matplotlib inline\n",
    "plt.style.use('default')"
   ]
  },
  {
   "cell_type": "markdown",
   "id": "406fd30f",
   "metadata": {},
   "source": [
    "---\n",
    "\n",
    "## **📥 2. Load Cleaned Data & Experimental Setup**\n"
   ]
  },
  {
   "cell_type": "code",
   "execution_count": 2,
   "id": "4e8985f3",
   "metadata": {},
   "outputs": [
    {
     "name": "stdout",
     "output_type": "stream",
     "text": [
      "📁 Loading cleaned datasets...\n",
      "✅ Datasets loaded:\n",
      "   - Basic cleaning: (39942, 13)\n",
      "   - Aggressive cleaning: (39942, 13)\n",
      "\n",
      "�� Available columns: ['label', 'title', 'text', 'subject', 'clean_title', 'clean_text', 'title_length', 'title_word_count', 'text_length', 'text_word_count', 'year', 'quarter', 'is_weekend']\n"
     ]
    }
   ],
   "source": [
    "print(\"📁 Loading cleaned datasets...\")\n",
    "\n",
    "# Load different cleaning strategies\n",
    "df_basic = pd.read_csv('../dataset/01_interim/cleaned_data_basic.csv')\n",
    "df_aggressive = pd.read_csv('../dataset/01_interim/cleaned_data_aggressive.csv')\n",
    "\n",
    "val_basic = pd.read_csv('../dataset/01_interim/cleaned_validation_basic.csv')\n",
    "val_aggressive = pd.read_csv('../dataset/01_interim/cleaned_validation_aggressive.csv')\n",
    "\n",
    "print(f\"✅ Datasets loaded:\")\n",
    "print(f\"   - Basic cleaning: {df_basic.shape}\")\n",
    "print(f\"   - Aggressive cleaning: {df_aggressive.shape}\")\n",
    "\n",
    "# Check available columns\n",
    "print(f\"\\n�� Available columns: {df_basic.columns.tolist()}\")\n"
   ]
  },
  {
   "cell_type": "markdown",
   "id": "7ea41712",
   "metadata": {},
   "source": [
    "\n",
    "---\n",
    "\n",
    "## **🧪 3. Experiment Design Framework**\n"
   ]
  },
  {
   "cell_type": "markdown",
   "id": "b6a3c83a",
   "metadata": {},
   "source": [
    "### **Engineer Time Features** v1, 2 & 3\n",
    "\n"
   ]
  },
  {
   "cell_type": "code",
   "execution_count": null,
   "id": "db2307d2",
   "metadata": {},
   "outputs": [
    {
     "name": "stdout",
     "output_type": "stream",
     "text": [
      "🕒 Engineering time-based features...\n",
      "🕒 Engineering time-based features...\n",
      "   ✅ Added time features: is_recent, is_medium_age, is_old\n",
      "🕒 Engineering time-based features...\n",
      "   ✅ Added time features: is_recent, is_medium_age, is_old\n",
      "\n",
      "📊 Updated dataset shapes:\n",
      "   - Basic cleaning: (39942, 13)\n",
      "   - Aggressive cleaning: (39942, 13)\n"
     ]
    }
   ],
   "source": [
    "# # Add after loading datasets:\n",
    "# print(\"🕒 Engineering time-based features...\")\n",
    "# df_basic = engineer_time_features(df_basic)\n",
    "# df_aggressive = engineer_time_features(df_aggressive)\n",
    "\n",
    "# print(f\"\\n📊 Updated dataset shapes:\")\n",
    "# print(f\"   - Basic cleaning: {df_basic.shape}\")\n",
    "# print(f\"   - Aggressive cleaning: {df_aggressive.shape}\")"
   ]
  },
  {
   "cell_type": "markdown",
   "id": "d5ff45f7",
   "metadata": {},
   "source": [
    "### **Experiment Matrix**\n",
    "\n",
    "We'll systematically test combinations of:\n",
    "1. **Feature Types**: title only, text only, title+text combined, time features\n",
    "2. **Cleaning Strategies**: basic (preserves context) vs aggressive (removes noise)  \n",
    "3. **Models**: Logistic Regression, Random Forest, SVM\n",
    "4. **Embeddings**: Sentence Transformers (all-MiniLM-L6-v2)"
   ]
  },
  {
   "cell_type": "markdown",
   "id": "d0917ac2",
   "metadata": {},
   "source": [
    "### 1. **Experiment Matrix v1 - many Experimental Configurations**\n",
    "\n",
    "1. Batch of experiments:\n",
    "\n",
    "(CURSOR V. - No Subject, Added Time Features)\n"
   ]
  },
  {
   "cell_type": "code",
   "execution_count": null,
   "id": "1afc4976",
   "metadata": {},
   "outputs": [],
   "source": [
    "## 1st Batch of experiments:\n",
    "\n",
    "# # Define experimental configurations\n",
    "# experimental_configs = [\n",
    "#     # Feature combinations with BASIC cleaning\n",
    "#     {'name': 'Title_Basic', 'data': df_basic, 'features': ['clean_title'], 'cleaning': 'basic'},\n",
    "#     {'name': 'Text_Basic', 'data': df_basic, 'features': ['clean_text'], 'cleaning': 'basic'},\n",
    "#     {'name': 'Title+Text_Basic', 'data': df_basic, 'features': ['clean_title', 'clean_text'], 'cleaning': 'basic'},\n",
    "#     {'name': 'Title+Time_Basic', 'data': df_basic, 'features': ['clean_title', 'is_recent', 'is_medium_age', 'is_old'], 'cleaning': 'basic'},\n",
    "#     {'name': 'Title+Text+Time_Basic', 'data': df_basic, 'features': ['clean_title', 'clean_text', 'is_recent', 'is_medium_age', 'is_old'], 'cleaning': 'basic'},\n",
    "    \n",
    "#     # Feature combinations with AGGRESSIVE cleaning\n",
    "#     {'name': 'Title_Aggressive', 'data': df_aggressive, 'features': ['clean_title'], 'cleaning': 'aggressive'},\n",
    "#     {'name': 'Text_Aggressive', 'data': df_aggressive, 'features': ['clean_text'], 'cleaning': 'aggressive'},\n",
    "#     {'name': 'Title+Text_Aggressive', 'data': df_aggressive, 'features': ['clean_title', 'clean_text'], 'cleaning': 'aggressive'},\n",
    "#     {'name': 'Title+Time_Aggressive', 'data': df_aggressive, 'features': ['clean_title', 'is_recent', 'is_medium_age', 'is_old'], 'cleaning': 'aggressive'},\n",
    "#     {'name': 'Title+Text+Time_Aggressive', 'data': df_aggressive, 'features': ['clean_title', 'clean_text', 'is_recent', 'is_medium_age', 'is_old'], 'cleaning': 'aggressive'},\n",
    "# ]\n"
   ]
  },
  {
   "cell_type": "markdown",
   "id": "a96cf65a",
   "metadata": {},
   "source": [
    "\n",
    "### 2. **Experiment Matrix v2.1 - Focused Subset**\n",
    "2. Batch, less amount of experiments\n"
   ]
  },
  {
   "cell_type": "code",
   "execution_count": null,
   "id": "74914b42",
   "metadata": {},
   "outputs": [],
   "source": [
    "# # We'll test only these specific configurations:\n",
    "# focused_configs = [\n",
    "#     # Text with Aggressive cleaning\n",
    "#     {'name': 'Text_Aggressive', 'data': df_aggressive, 'features': ['clean_text'], 'cleaning': 'aggressive'},\n",
    "#     # Text with Basic cleaning  \n",
    "#     {'name': 'Text_Basic', 'data': df_basic, 'features': ['clean_text'], 'cleaning': 'basic'},\n",
    "#     # Title+Text+Time with Basic cleaning\n",
    "#     {'name': 'Title+Text+Time_Basic', 'data': df_basic, 'features': ['clean_title', 'clean_text', 'is_recent', 'is_medium_age', 'is_old'], 'cleaning': 'basic'},\n",
    "# ]"
   ]
  },
  {
   "cell_type": "markdown",
   "id": "350554c1",
   "metadata": {},
   "source": [
    "### 3. **Experiment Matrix v3.1 - Focused Subset**\n",
    "1. 3rd Batch, less amount of experiments\n",
    "2. wining settings with 2 other models\n"
   ]
  },
  {
   "cell_type": "code",
   "execution_count": null,
   "id": "9a7f3e43",
   "metadata": {},
   "outputs": [],
   "source": [
    "# ### **Experiment Matrix - Focused on Winning Combination**\n",
    "# # Only test the winning configuration with additional models\n",
    "# focused_configs = [\n",
    "#     {'name': 'Text_Aggressive', 'data': df_aggressive, 'features': ['clean_text'], 'cleaning': 'aggressive'}\n",
    "# ]"
   ]
  },
  {
   "cell_type": "markdown",
   "id": "bdcc6597",
   "metadata": {},
   "source": [
    "### 4. **🧪 Experiment Matrix v4.1 - Focused Subset**\n",
    "\n",
    "**Objective:** 4th Batch with optimized, focused experiments testing the winning configuration with new feature combinations on SVC model only.\n",
    "\n",
    "**Strategy:**\n",
    "- Build upon previous winning configuration: `Text_Aggressive` \n",
    "- Test systematic addition of new engineered features\n",
    "- Use only SVC model (best performer from previous batches)\n",
    "- Minimal, targeted experiments for maximum insight\n",
    "\n",
    "**Hypothesis:** The new engineered features (text lengths + time features) will improve upon the baseline text-only performance."
   ]
  },
  {
   "cell_type": "code",
   "execution_count": 3,
   "id": "3b6125b2",
   "metadata": {},
   "outputs": [
    {
     "name": "stdout",
     "output_type": "stream",
     "text": [
      "🧪 Configuring Experiment Matrix v3.1 - Focused Feature Testing\n",
      "✅ Experiment Matrix configured:\n",
      "   Total experiments: 5\n",
      "   Feature combinations tested:\n",
      "   1. Text_only: Baseline - text only\n",
      "   2. Text+Lengths: Text + length features\n",
      "   3. Text+Time: Text + time features\n",
      "   4. Text+All: Text + all engineered features\n",
      "   5. Engineered_only: Engineered features only (no text)\n"
     ]
    }
   ],
   "source": [
    "### **🧪 Experiment Matrix v3.1 - Focused Feature Testing**\n",
    "print(\"🧪 Configuring Experiment Matrix v3.1 - Focused Feature Testing\")\n",
    "\n",
    "# Winning base configuration\n",
    "base_config = {\n",
    "    'name': 'Text_Aggressive', \n",
    "    'data': df_aggressive,\n",
    "    'features': ['clean_text'],  # Winning feature\n",
    "    'cleaning': 'aggressive'     # Winning preprocessing\n",
    "}\n",
    "\n",
    "# New feature combinations to test\n",
    "feature_combinations = [\n",
    "    # Baseline: text only (replicate winning result)\n",
    "    {'name': 'Text_only', 'features': ['clean_text'], 'description': 'Baseline - text only'},\n",
    "    \n",
    "    # Text + Text length features\n",
    "    {'name': 'Text+Lengths', 'features': ['clean_text', 'title_length', 'title_word_count', 'text_length', 'text_word_count'], \n",
    "     'description': 'Text + length features'},\n",
    "    \n",
    "    # Text + Time features  \n",
    "    {'name': 'Text+Time', 'features': ['clean_text', 'year', 'quarter', 'is_weekend'],\n",
    "     'description': 'Text + time features'},\n",
    "    \n",
    "    # Text + All engineered features\n",
    "    {'name': 'Text+All', 'features': ['clean_text', 'title_length', 'title_word_count', 'text_length', 'text_word_count', 'year', 'quarter', 'is_weekend'],\n",
    "     'description': 'Text + all engineered features'},\n",
    "    \n",
    "    # All engineered features only (no text)\n",
    "    {'name': 'Engineered_only', 'features': ['title_length', 'title_word_count', 'text_length', 'text_word_count', 'year', 'quarter', 'is_weekend'],\n",
    "     'description': 'Engineered features only (no text)'}\n",
    "]\n",
    "\n",
    "# Create experimental configs\n",
    "experimental_configs = []\n",
    "for combo in feature_combinations:\n",
    "    config = base_config.copy()\n",
    "    config['name'] = combo['name']\n",
    "    config['features'] = combo['features']\n",
    "    config['description'] = combo['description']\n",
    "    experimental_configs.append(config)\n",
    "\n",
    "print(\"✅ Experiment Matrix configured:\")\n",
    "print(f\"   Total experiments: {len(experimental_configs)}\")\n",
    "print(f\"   Feature combinations tested:\")\n",
    "for i, config in enumerate(experimental_configs, 1):\n",
    "    print(f\"   {i}. {config['name']}: {config['description']}\")"
   ]
  },
  {
   "cell_type": "markdown",
   "id": "4a6c2040",
   "metadata": {},
   "source": [
    "## Models to test\n"
   ]
  },
  {
   "cell_type": "markdown",
   "id": "f20a1122",
   "metadata": {},
   "source": [
    "### 1. Enhanced Experimental v1.0"
   ]
  },
  {
   "cell_type": "code",
   "execution_count": null,
   "id": "e3133fe9",
   "metadata": {},
   "outputs": [
    {
     "name": "stdout",
     "output_type": "stream",
     "text": [
      "🔬 Enhanced Experimental Design:\n",
      "   - 10 feature combinations\n",
      "   - 3 models\n",
      "   - Total experiments: 30\n",
      "   - NEW: Time-based features included\n",
      "   - REMOVED: Subject feature (as requested)\n",
      "✅ Enhanced experimental framework initialized!\n"
     ]
    }
   ],
   "source": [
    "# # Models to test v1.0 CURSOR V.\n",
    "\n",
    "# models_to_test = {\n",
    "#     'Logistic Regression': LogisticRegression(max_iter=1000, random_state=42),\n",
    "#     'Random Forest': RandomForestClassifier(n_estimators=100, random_state=42),\n",
    "#     'SVM': SVC(kernel='linear', probability=True, random_state=42)\n",
    "# }\n",
    "\n",
    "# print(f\"🔬 Enhanced Experimental Design:\")\n",
    "# print(f\"   - {len(experimental_configs)} feature combinations\")\n",
    "# print(f\"   - {len(models_to_test)} models\")\n",
    "# print(f\"   - Total experiments: {len(experimental_configs) * len(models_to_test)}\")\n",
    "# print(f\"   - NEW: Time-based features included\")\n",
    "# print(f\"   - REMOVED: Subject feature (as requested)\")\n",
    "\n",
    "# # Initialize results storage\n",
    "# all_results = []\n",
    "# embeddings_cache = {}  # Cache embeddings to avoid recomputation\n",
    "\n",
    "# print(\"✅ Enhanced experimental framework initialized!\")"
   ]
  },
  {
   "cell_type": "markdown",
   "id": "aac32ff8",
   "metadata": {},
   "source": [
    "### 2. Focused models V2.1 & v 4.1\n",
    "- Only SVM but with 3 configuration possibilities."
   ]
  },
  {
   "cell_type": "code",
   "execution_count": null,
   "id": "bab1d07e",
   "metadata": {},
   "outputs": [
    {
     "name": "stdout",
     "output_type": "stream",
     "text": [
      "🎯 Running focused experiment set:\n",
      "   Configurations: 3\n",
      "   Models: ['SVM']\n"
     ]
    }
   ],
   "source": [
    "# # Use only SVM model\n",
    "# focused_models = {\n",
    "#     'SVM': SVC(kernel='linear', probability=True, random_state=42)\n",
    "# }\n",
    "\n",
    "# # Replace the original variables\n",
    "# experimental_configs = focused_configs\n",
    "# models_to_test = focused_models\n",
    "\n",
    "# print(\"🎯 Running focused experiment set:\")\n",
    "# print(f\"   Configurations: {len(experimental_configs)}\")\n",
    "# print(f\"   Models: {list(models_to_test.keys())}\")"
   ]
  },
  {
   "cell_type": "markdown",
   "id": "7ac3a102",
   "metadata": {},
   "source": [
    "### 3. Focused models V3.1\n",
    "1. 3rd Batch, less amount of experiments\n",
    "2. wining settings with 2 other models"
   ]
  },
  {
   "cell_type": "code",
   "execution_count": 5,
   "id": "41660674",
   "metadata": {},
   "outputs": [
    {
     "name": "stdout",
     "output_type": "stream",
     "text": [
      "🤖 Adding XGBoost and LightGBM models...\n"
     ]
    }
   ],
   "source": [
    "# Add these imports at the top of your notebook with other imports\n",
    "from xgboost import XGBClassifier\n",
    "from lightgbm import LGBMClassifier\n",
    "\n",
    "# Then in your model definition section, add the new models:\n",
    "print(\"🤖 Adding XGBoost and LightGBM models...\")\n"
   ]
  },
  {
   "cell_type": "code",
   "execution_count": 10,
   "id": "e54017e1",
   "metadata": {},
   "outputs": [
    {
     "name": "stdout",
     "output_type": "stream",
     "text": [
      "🎯 Running focused experiment set v3.1:\n",
      "✅ Total models to test: 2\n",
      "   Models: ['XGBoost', 'LightGBM']\n",
      "   Configuration: Text_Aggressive\n",
      "   Total experiments: 2\n"
     ]
    }
   ],
   "source": [
    "# Add to your existing models_to_test dictionary\n",
    "focused_models = {\n",
    "    'XGBoost': XGBClassifier(\n",
    "        n_estimators=100,\n",
    "        learning_rate=0.1,\n",
    "        max_depth=6,\n",
    "        random_state=42,\n",
    "        use_label_encoder=False,\n",
    "        eval_metric='logloss'\n",
    "    ),\n",
    "    'LightGBM': LGBMClassifier(\n",
    "        n_estimators=100,\n",
    "        learning_rate=0.1,\n",
    "        max_depth=6,\n",
    "        random_state=42,\n",
    "        verbosity=-1  # Reduces output noise\n",
    "    )\n",
    "}\n",
    "\n",
    "# Replace the original variables\n",
    "experimental_configs = focused_configs\n",
    "models_to_test = focused_models\n",
    "\n",
    "print(\"🎯 Running focused experiment set v3.1:\")\n",
    "print(f\"✅ Total models to test: {len(models_to_test)}\")\n",
    "print(f\"   Models: {list(models_to_test.keys())}\")\n",
    "print(f\"   Configuration: {experimental_configs[0]['name']}\")\n",
    "print(f\"   Total experiments: {len(experimental_configs) * len(models_to_test)}\")"
   ]
  },
  {
   "cell_type": "markdown",
   "id": "c92a8b48",
   "metadata": {},
   "source": [
    "### 4. Focused models 4.1 SVC Only"
   ]
  },
  {
   "cell_type": "code",
   "execution_count": 4,
   "id": "5ff5f116",
   "metadata": {},
   "outputs": [
    {
     "name": "stdout",
     "output_type": "stream",
     "text": [
      "🤖 Configuring models to test - SVC only\n",
      "✅ Models configured:\n",
      "   Single model: SVC\n",
      "   Total experiment runs: 5 configurations × 1 model = 5 total runs\n",
      "\n",
      "🎯 Experiment Goals:\n",
      "   1. Establish baseline with text-only (replicate previous win)\n",
      "   2. Test incremental value of length features\n",
      "   3. Test incremental value of time features\n",
      "   4. Test combined value of all features\n",
      "   5. Test engineered features without text (ablation)\n"
     ]
    }
   ],
   "source": [
    "## 🤖 Models to Test - SVC Only\n",
    "print(\"🤖 Configuring models to test - SVC only\")\n",
    "\n",
    "# Only test SVC model (best performer from previous batches)\n",
    "models_to_test = {\n",
    "    'SVC': SVC(kernel='linear', probability=True, random_state=42)\n",
    "}\n",
    "\n",
    "print(\"✅ Models configured:\")\n",
    "print(f\"   Single model: SVC\")\n",
    "print(f\"   Total experiment runs: {len(experimental_configs)} configurations × 1 model = {len(experimental_configs)} total runs\")\n",
    "\n",
    "print(\"\\n🎯 Experiment Goals:\")\n",
    "print(\"   1. Establish baseline with text-only (replicate previous win)\")\n",
    "print(\"   2. Test incremental value of length features\")  \n",
    "print(\"   3. Test incremental value of time features\")\n",
    "print(\"   4. Test combined value of all features\")\n",
    "print(\"   5. Test engineered features without text (ablation)\")"
   ]
  },
  {
   "cell_type": "markdown",
   "id": "20fb40f1",
   "metadata": {},
   "source": [
    "\n",
    "---\n",
    "\n",
    "## **🧪 3. Experimental Design Framework**\n"
   ]
  },
  {
   "cell_type": "code",
   "execution_count": 5,
   "id": "6c9d2aef",
   "metadata": {},
   "outputs": [],
   "source": [
    "\n",
    "### **Helper Functions**\n",
    "\n",
    "def combine_text_features(data, feature_columns):\n",
    "    \"\"\"Combine multiple text columns into a single string for embedding\"\"\"\n",
    "    if len(feature_columns) == 1:\n",
    "        # Single feature\n",
    "        return data[feature_columns[0]].fillna('').astype(str)\n",
    "    else:\n",
    "        # Multiple features - combine them\n",
    "        combined = data[feature_columns].fillna('').astype(str)\n",
    "        return combined.apply(lambda x: ' | '.join(x), axis=1)\n",
    "\n",
    "def evaluate_model_comprehensive(model, X_test, y_test, model_name, config_name):\n",
    "    \"\"\"Comprehensive model evaluation with multiple metrics\"\"\"\n",
    "    y_pred = model.predict(X_test)\n",
    "    y_pred_proba = model.predict_proba(X_test)[:, 1]\n",
    "    \n",
    "    results = {\n",
    "        'experiment': config_name,\n",
    "        'model': model_name,\n",
    "        'accuracy': accuracy_score(y_test, y_pred),\n",
    "        'precision': precision_score(y_test, y_pred),\n",
    "        'recall': recall_score(y_test, y_pred),\n",
    "        'f1': f1_score(y_test, y_pred),\n",
    "        'roc_auc': roc_auc_score(y_test, y_pred_proba)\n",
    "    }\n",
    "    return results\n"
   ]
  },
  {
   "cell_type": "markdown",
   "id": "81dab83f",
   "metadata": {},
   "source": [
    "---\n",
    "\n",
    "## **🔤 4. Sentence Transformer Embeddings & Model Training**\n",
    "\n",
    "### **Load Sentence Transformer Model**"
   ]
  },
  {
   "cell_type": "code",
   "execution_count": 6,
   "id": "6f75e74d",
   "metadata": {},
   "outputs": [
    {
     "name": "stdout",
     "output_type": "stream",
     "text": [
      "🔤 Loading Sentence Transformer model...\n",
      "✅ Model loaded successfully!\n",
      "📐 Model embedding dimension: 384\n"
     ]
    }
   ],
   "source": [
    "print(\"🔤 Loading Sentence Transformer model...\")\n",
    "# 'all-MiniLM-L6-v2' - good balance between speed and quality\n",
    "# Other options: 'all-mpnet-base-v2' (better quality), 'paraphrase-MiniLM-L3-v2' (faster)\n",
    "\n",
    "# Using a balanced model for speed and quality\n",
    "sentence_model = SentenceTransformer('all-MiniLM-L6-v2')\n",
    "\n",
    "print(\"✅ Model loaded successfully!\")\n",
    "print(f\"📐 Model embedding dimension: {sentence_model.get_sentence_embedding_dimension()}\")\n"
   ]
  },
  {
   "cell_type": "markdown",
   "id": "ffc71f4d",
   "metadata": {},
   "source": [
    "### **Run All Experiments**"
   ]
  },
  {
   "cell_type": "code",
   "execution_count": 7,
   "id": "a1565c5a",
   "metadata": {},
   "outputs": [
    {
     "name": "stdout",
     "output_type": "stream",
     "text": [
      "🚀 Starting experimental runs at 20250903_190142\n",
      "======================================================================\n",
      "\n",
      "🧪 EXPERIMENT 1/5: Text_only\n",
      "   Features: ['clean_text']\n",
      "   Cleaning: aggressive\n",
      "   📝 Preparing text data...\n",
      "   🔄 Creating embeddings...\n",
      "   📊 Embeddings shape: (31953, 384)\n",
      "   🤖 Training SVC...\n",
      "✅ Experiment logged: se_s_20250903_191402\n",
      "      ✅ Accuracy: 0.9553 | F1: 0.9557 | ROC-AUC: 0.9907\n",
      "\n",
      "🧪 EXPERIMENT 2/5: Text+Lengths\n",
      "   Features: ['clean_text', 'title_length', 'title_word_count', 'text_length', 'text_word_count']\n",
      "   Cleaning: aggressive\n",
      "   📝 Preparing text data...\n",
      "   🔄 Creating embeddings...\n",
      "   📊 Embeddings shape: (31953, 384)\n",
      "   🤖 Training SVC...\n",
      "✅ Experiment logged: se_s_20250903_195414\n",
      "      ✅ Accuracy: 0.9541 | F1: 0.9545 | ROC-AUC: 0.9902\n",
      "\n",
      "🧪 EXPERIMENT 3/5: Text+Time\n",
      "   Features: ['clean_text', 'year', 'quarter', 'is_weekend']\n",
      "   Cleaning: aggressive\n",
      "   📝 Preparing text data...\n",
      "   🔄 Creating embeddings...\n",
      "   📊 Embeddings shape: (31953, 384)\n",
      "   🤖 Training SVC...\n",
      "✅ Experiment logged: se_s_20250903_202343\n",
      "      ✅ Accuracy: 0.9548 | F1: 0.9552 | ROC-AUC: 0.9903\n",
      "\n",
      "🧪 EXPERIMENT 4/5: Text+All\n",
      "   Features: ['clean_text', 'title_length', 'title_word_count', 'text_length', 'text_word_count', 'year', 'quarter', 'is_weekend']\n",
      "   Cleaning: aggressive\n",
      "   📝 Preparing text data...\n",
      "   🔄 Creating embeddings...\n",
      "   📊 Embeddings shape: (31953, 384)\n",
      "   🤖 Training SVC...\n",
      "✅ Experiment logged: se_s_20250903_204847\n",
      "      ✅ Accuracy: 0.9542 | F1: 0.9546 | ROC-AUC: 0.9904\n",
      "\n",
      "🧪 EXPERIMENT 5/5: Engineered_only\n",
      "   Features: ['title_length', 'title_word_count', 'text_length', 'text_word_count', 'year', 'quarter', 'is_weekend']\n",
      "   Cleaning: aggressive\n",
      "   📝 Preparing text data...\n",
      "   🔄 Creating embeddings...\n",
      "   📊 Embeddings shape: (31953, 384)\n",
      "   🤖 Training SVC...\n",
      "✅ Experiment logged: se_s_20250903_205733\n",
      "      ✅ Accuracy: 0.8875 | F1: 0.8902 | ROC-AUC: 0.9536\n",
      "\n",
      "======================================================================\n",
      "🎉 All experiments completed!\n"
     ]
    }
   ],
   "source": [
    "## DSeek new Version wedns.\n",
    "\n",
    "### **Run All Experiments**\n",
    "timestamp = datetime.datetime.now().strftime(\"%Y%m%d_%H%M%S\")\n",
    "print(f\"🚀 Starting experimental runs at {timestamp}\")\n",
    "print(\"=\" * 70)\n",
    "\n",
    "# Initialize results storage\n",
    "all_results = []\n",
    "embeddings_cache = {}  # Cache embeddings to avoid recomputation\n",
    "\n",
    "for i, config in enumerate(experimental_configs, 1):\n",
    "    config_name = config['name']\n",
    "    data = config['data']\n",
    "    features = config['features']\n",
    "    cleaning_strategy = config['cleaning']\n",
    "    \n",
    "    print(f\"\\n🧪 EXPERIMENT {i}/{len(experimental_configs)}: {config_name}\")\n",
    "    print(f\"   Features: {features}\")\n",
    "    print(f\"   Cleaning: {cleaning_strategy}\")\n",
    "    \n",
    "    # Prepare text data\n",
    "    print(\"   📝 Preparing text data...\")\n",
    "    X_text = combine_text_features(data, features)\n",
    "    y = data['label']\n",
    "    \n",
    "    # Train-test split\n",
    "    X_train, X_test, y_train, y_test = train_test_split(\n",
    "        X_text, y, test_size=0.2, random_state=42, stratify=y\n",
    "    )\n",
    "    \n",
    "    # Create embeddings (with caching)\n",
    "    cache_key = f\"{config_name}_{len(X_train)}\"\n",
    "    if cache_key not in embeddings_cache:\n",
    "        print(\"   🔄 Creating embeddings...\")\n",
    "        X_train_embeddings = sentence_model.encode(X_train.tolist(), show_progress_bar=False)\n",
    "        X_test_embeddings = sentence_model.encode(X_test.tolist(), show_progress_bar=False)\n",
    "        embeddings_cache[cache_key] = (X_train_embeddings, X_test_embeddings)\n",
    "    else:\n",
    "        print(\"   📋 Using cached embeddings...\")\n",
    "        X_train_embeddings, X_test_embeddings = embeddings_cache[cache_key]\n",
    "    \n",
    "    print(f\"   📊 Embeddings shape: {X_train_embeddings.shape}\")\n",
    "    \n",
    "    # Test all models\n",
    "    for model_name, model in models_to_test.items():\n",
    "        print(f\"   🤖 Training {model_name}...\")\n",
    "        \n",
    "        # Train model\n",
    "        model.fit(X_train_embeddings, y_train)\n",
    "        \n",
    "        # Evaluate\n",
    "        results = evaluate_model_comprehensive(\n",
    "            model, X_test_embeddings, y_test, model_name, config_name\n",
    "        )\n",
    "        \n",
    "        # Log to unified experiment tracker\n",
    "        experiment_data = {\n",
    "            'experiment_type': 'sentence_transformers',\n",
    "            'model_name': model_name,\n",
    "            'preprocessing': cleaning_strategy,\n",
    "            'accuracy': results['accuracy'],\n",
    "            'precision': results['precision'],\n",
    "            'recall': results['recall'],\n",
    "            'f1_score': results['f1'],\n",
    "            'roc_auc': results['roc_auc'],\n",
    "            'dataset': 'fake_news',\n",
    "            'notes': f\"Features: {features}\"\n",
    "        }\n",
    "        \n",
    "        # Use the unified logging system\n",
    "        experiment_id = log_experiment(experiment_data)\n",
    "        results['experiment_id'] = experiment_id  # Store for reference\n",
    "        all_results.append(results)\n",
    "        \n",
    "        print(f\"      ✅ Accuracy: {results['accuracy']:.4f} | F1: {results['f1']:.4f} | ROC-AUC: {results['roc_auc']:.4f}\")\n",
    "\n",
    "print(\"\\n\" + \"=\" * 70)\n",
    "print(\"🎉 All experiments completed!\")"
   ]
  },
  {
   "cell_type": "markdown",
   "id": "8db1d465",
   "metadata": {},
   "source": [
    "### 2. Optional: Add Debug Output for Tracking Verification"
   ]
  },
  {
   "cell_type": "code",
   "execution_count": 8,
   "id": "33a7387d",
   "metadata": {},
   "outputs": [
    {
     "name": "stdout",
     "output_type": "stream",
     "text": [
      "✅ Experiment logged: se_s_20250903_210300\n",
      "      📝 Logged experiment: se_s_20250903_210300\n",
      "      📊 Metrics: Accuracy=0.8875, F1=0.8902\n",
      "      ✅ Accuracy: 0.8875 | F1: 0.8902 | ROC-AUC: 0.9536\n"
     ]
    }
   ],
   "source": [
    "# After logging the experiment, add this:\n",
    "experiment_data = {\n",
    "    'experiment_type': 'sentence_transformers',\n",
    "    'model_name': model_name,\n",
    "    'preprocessing': cleaning_strategy,\n",
    "    'accuracy': results['accuracy'],\n",
    "    'precision': results['precision'],\n",
    "    'recall': results['recall'],\n",
    "    'f1_score': results['f1'],\n",
    "    'roc_auc': results['roc_auc'],\n",
    "    'dataset': 'fake_news',\n",
    "    'notes': f\"Features: {features}\"\n",
    "}\n",
    "\n",
    "# Use the unified logging system\n",
    "experiment_id = log_experiment(experiment_data)\n",
    "results['experiment_id'] = experiment_id  # Store for reference\n",
    "all_results.append(results)\n",
    "\n",
    "# ADD THIS DEBUG OUTPUT:\n",
    "print(f\"      📝 Logged experiment: {experiment_id}\")\n",
    "print(f\"      📊 Metrics: Accuracy={results['accuracy']:.4f}, F1={results['f1']:.4f}\")\n",
    "\n",
    "print(f\"      ✅ Accuracy: {results['accuracy']:.4f} | F1: {results['f1']:.4f} | ROC-AUC: {results['roc_auc']:.4f}\")"
   ]
  },
  {
   "cell_type": "code",
   "execution_count": null,
   "id": "fc9faccb",
   "metadata": {},
   "outputs": [
    {
     "name": "stdout",
     "output_type": "stream",
     "text": [
      "🚀 Starting experimental runs at 20250903_020107\n",
      "======================================================================\n",
      "\n",
      "🧪 EXPERIMENT 1/10: Title_Basic\n",
      "   Features: ['clean_title']\n",
      "   Cleaning: basic\n",
      "   📝 Preparing text data...\n",
      "   🔄 Creating embeddings...\n",
      "   📊 Embeddings shape: (31953, 384)\n",
      "   🤖 Training Logistic Regression...\n",
      "      ✅ Accuracy: 0.9312 | F1: 0.9318 | ROC-AUC: 0.9824\n",
      "   🤖 Training Random Forest...\n",
      "      ✅ Accuracy: 0.9176 | F1: 0.9193 | ROC-AUC: 0.9768\n",
      "   🤖 Training SVM...\n",
      "      ✅ Accuracy: 0.9388 | F1: 0.9396 | ROC-AUC: 0.9843\n",
      "\n",
      "🧪 EXPERIMENT 2/10: Text_Basic\n",
      "   Features: ['clean_text']\n",
      "   Cleaning: basic\n",
      "   📝 Preparing text data...\n",
      "   🔄 Creating embeddings...\n",
      "   📊 Embeddings shape: (31953, 384)\n",
      "   🤖 Training Logistic Regression...\n",
      "      ✅ Accuracy: 0.9432 | F1: 0.9435 | ROC-AUC: 0.9868\n",
      "   🤖 Training Random Forest...\n",
      "      ✅ Accuracy: 0.9091 | F1: 0.9082 | ROC-AUC: 0.9704\n",
      "   🤖 Training SVM...\n",
      "      ✅ Accuracy: 0.9494 | F1: 0.9498 | ROC-AUC: 0.9887\n",
      "\n",
      "🧪 EXPERIMENT 3/10: Title+Text_Basic\n",
      "   Features: ['clean_title', 'clean_text']\n",
      "   Cleaning: basic\n",
      "   📝 Preparing text data...\n",
      "   🔄 Creating embeddings...\n",
      "   📊 Embeddings shape: (31953, 384)\n",
      "   🤖 Training Logistic Regression...\n",
      "      ✅ Accuracy: 0.9398 | F1: 0.9403 | ROC-AUC: 0.9853\n",
      "   🤖 Training Random Forest...\n",
      "      ✅ Accuracy: 0.9125 | F1: 0.9120 | ROC-AUC: 0.9701\n",
      "   🤖 Training SVM...\n",
      "      ✅ Accuracy: 0.9464 | F1: 0.9468 | ROC-AUC: 0.9874\n",
      "\n",
      "🧪 EXPERIMENT 4/10: Title+Time_Basic\n",
      "   Features: ['clean_title', 'is_recent', 'is_medium_age', 'is_old']\n",
      "   Cleaning: basic\n",
      "   📝 Preparing text data...\n",
      "   🔄 Creating embeddings...\n",
      "   📊 Embeddings shape: (31953, 384)\n",
      "   🤖 Training Logistic Regression...\n",
      "      ✅ Accuracy: 0.9304 | F1: 0.9310 | ROC-AUC: 0.9817\n",
      "   🤖 Training Random Forest...\n",
      "      ✅ Accuracy: 0.9108 | F1: 0.9122 | ROC-AUC: 0.9745\n",
      "   🤖 Training SVM...\n",
      "      ✅ Accuracy: 0.9384 | F1: 0.9391 | ROC-AUC: 0.9845\n",
      "\n",
      "🧪 EXPERIMENT 5/10: Title+Text+Time_Basic\n",
      "   Features: ['clean_title', 'clean_text', 'is_recent', 'is_medium_age', 'is_old']\n",
      "   Cleaning: basic\n",
      "   📝 Preparing text data...\n",
      "   🔄 Creating embeddings...\n",
      "   📊 Embeddings shape: (31953, 384)\n",
      "   🤖 Training Logistic Regression...\n",
      "      ✅ Accuracy: 0.9402 | F1: 0.9407 | ROC-AUC: 0.9852\n",
      "   🤖 Training Random Forest...\n",
      "      ✅ Accuracy: 0.9130 | F1: 0.9124 | ROC-AUC: 0.9708\n",
      "   🤖 Training SVM...\n",
      "      ✅ Accuracy: 0.9464 | F1: 0.9468 | ROC-AUC: 0.9874\n",
      "\n",
      "🧪 EXPERIMENT 6/10: Title_Aggressive\n",
      "   Features: ['clean_title']\n",
      "   Cleaning: aggressive\n",
      "   📝 Preparing text data...\n",
      "   🔄 Creating embeddings...\n",
      "   📊 Embeddings shape: (31953, 384)\n",
      "   🤖 Training Logistic Regression...\n",
      "      ✅ Accuracy: 0.9285 | F1: 0.9294 | ROC-AUC: 0.9810\n",
      "   🤖 Training Random Forest...\n",
      "      ✅ Accuracy: 0.9165 | F1: 0.9179 | ROC-AUC: 0.9767\n",
      "   🤖 Training SVM...\n",
      "      ✅ Accuracy: 0.9364 | F1: 0.9372 | ROC-AUC: 0.9836\n",
      "\n",
      "🧪 EXPERIMENT 7/10: Text_Aggressive\n",
      "   Features: ['clean_text']\n",
      "   Cleaning: aggressive\n",
      "   📝 Preparing text data...\n",
      "   🔄 Creating embeddings...\n",
      "   📊 Embeddings shape: (31953, 384)\n",
      "   🤖 Training Logistic Regression...\n",
      "      ✅ Accuracy: 0.9496 | F1: 0.9500 | ROC-AUC: 0.9888\n",
      "   🤖 Training Random Forest...\n",
      "      ✅ Accuracy: 0.9175 | F1: 0.9172 | ROC-AUC: 0.9744\n",
      "   🤖 Training SVM...\n",
      "      ✅ Accuracy: 0.9553 | F1: 0.9557 | ROC-AUC: 0.9907\n",
      "\n",
      "🧪 EXPERIMENT 8/10: Title+Text_Aggressive\n",
      "   Features: ['clean_title', 'clean_text']\n",
      "   Cleaning: aggressive\n",
      "   📝 Preparing text data...\n",
      "   🔄 Creating embeddings...\n",
      "   📊 Embeddings shape: (31953, 384)\n",
      "   🤖 Training Logistic Regression...\n",
      "      ✅ Accuracy: 0.9402 | F1: 0.9408 | ROC-AUC: 0.9850\n",
      "   🤖 Training Random Forest...\n",
      "      ✅ Accuracy: 0.9173 | F1: 0.9168 | ROC-AUC: 0.9725\n",
      "   🤖 Training SVM...\n",
      "      ✅ Accuracy: 0.9445 | F1: 0.9452 | ROC-AUC: 0.9868\n",
      "\n",
      "🧪 EXPERIMENT 9/10: Title+Time_Aggressive\n",
      "   Features: ['clean_title', 'is_recent', 'is_medium_age', 'is_old']\n",
      "   Cleaning: aggressive\n",
      "   📝 Preparing text data...\n",
      "   🔄 Creating embeddings...\n",
      "   📊 Embeddings shape: (31953, 384)\n",
      "   🤖 Training Logistic Regression...\n",
      "      ✅ Accuracy: 0.9288 | F1: 0.9294 | ROC-AUC: 0.9811\n",
      "   🤖 Training Random Forest...\n",
      "      ✅ Accuracy: 0.9085 | F1: 0.9095 | ROC-AUC: 0.9736\n",
      "   🤖 Training SVM...\n",
      "      ✅ Accuracy: 0.9349 | F1: 0.9356 | ROC-AUC: 0.9828\n",
      "\n",
      "🧪 EXPERIMENT 10/10: Title+Text+Time_Aggressive\n",
      "   Features: ['clean_title', 'clean_text', 'is_recent', 'is_medium_age', 'is_old']\n",
      "   Cleaning: aggressive\n",
      "   📝 Preparing text data...\n",
      "   🔄 Creating embeddings...\n",
      "   📊 Embeddings shape: (31953, 384)\n",
      "   🤖 Training Logistic Regression...\n",
      "      ✅ Accuracy: 0.9407 | F1: 0.9413 | ROC-AUC: 0.9850\n",
      "   🤖 Training Random Forest...\n",
      "      ✅ Accuracy: 0.9161 | F1: 0.9157 | ROC-AUC: 0.9725\n",
      "   🤖 Training SVM...\n",
      "      ✅ Accuracy: 0.9438 | F1: 0.9445 | ROC-AUC: 0.9868\n",
      "\n",
      "======================================================================\n",
      "🎉 All experiments completed!\n",
      "\n",
      "💾 Saving results to experiment tracker...\n",
      "💾 Saved 30 new experiments. Total: 30\n"
     ]
    },
    {
     "data": {
      "text/html": [
       "<div>\n",
       "<style scoped>\n",
       "    .dataframe tbody tr th:only-of-type {\n",
       "        vertical-align: middle;\n",
       "    }\n",
       "\n",
       "    .dataframe tbody tr th {\n",
       "        vertical-align: top;\n",
       "    }\n",
       "\n",
       "    .dataframe thead th {\n",
       "        text-align: right;\n",
       "    }\n",
       "</style>\n",
       "<table border=\"1\" class=\"dataframe\">\n",
       "  <thead>\n",
       "    <tr style=\"text-align: right;\">\n",
       "      <th></th>\n",
       "      <th>experiment</th>\n",
       "      <th>model</th>\n",
       "      <th>accuracy</th>\n",
       "      <th>precision</th>\n",
       "      <th>recall</th>\n",
       "      <th>f1</th>\n",
       "      <th>roc_auc</th>\n",
       "      <th>cleaning_strategy</th>\n",
       "    </tr>\n",
       "  </thead>\n",
       "  <tbody>\n",
       "    <tr>\n",
       "      <th>0</th>\n",
       "      <td>Title_Basic</td>\n",
       "      <td>Logistic Regression</td>\n",
       "      <td>0.931155</td>\n",
       "      <td>0.924041</td>\n",
       "      <td>0.93975</td>\n",
       "      <td>0.931829</td>\n",
       "      <td>0.982372</td>\n",
       "      <td>Basic</td>\n",
       "    </tr>\n",
       "    <tr>\n",
       "      <th>1</th>\n",
       "      <td>Title_Basic</td>\n",
       "      <td>Random Forest</td>\n",
       "      <td>0.917637</td>\n",
       "      <td>0.902263</td>\n",
       "      <td>0.93700</td>\n",
       "      <td>0.919303</td>\n",
       "      <td>0.976768</td>\n",
       "      <td>Basic</td>\n",
       "    </tr>\n",
       "    <tr>\n",
       "      <th>2</th>\n",
       "      <td>Title_Basic</td>\n",
       "      <td>SVM</td>\n",
       "      <td>0.938791</td>\n",
       "      <td>0.929113</td>\n",
       "      <td>0.95025</td>\n",
       "      <td>0.939562</td>\n",
       "      <td>0.984254</td>\n",
       "      <td>Basic</td>\n",
       "    </tr>\n",
       "    <tr>\n",
       "      <th>3</th>\n",
       "      <td>Text_Basic</td>\n",
       "      <td>Logistic Regression</td>\n",
       "      <td>0.943172</td>\n",
       "      <td>0.939514</td>\n",
       "      <td>0.94750</td>\n",
       "      <td>0.943490</td>\n",
       "      <td>0.986804</td>\n",
       "      <td>Basic</td>\n",
       "    </tr>\n",
       "    <tr>\n",
       "      <th>4</th>\n",
       "      <td>Text_Basic</td>\n",
       "      <td>Random Forest</td>\n",
       "      <td>0.909125</td>\n",
       "      <td>0.918456</td>\n",
       "      <td>0.89825</td>\n",
       "      <td>0.908241</td>\n",
       "      <td>0.970439</td>\n",
       "      <td>Basic</td>\n",
       "    </tr>\n",
       "    <tr>\n",
       "      <th>5</th>\n",
       "      <td>Text_Basic</td>\n",
       "      <td>SVM</td>\n",
       "      <td>0.949430</td>\n",
       "      <td>0.945050</td>\n",
       "      <td>0.95450</td>\n",
       "      <td>0.949751</td>\n",
       "      <td>0.988688</td>\n",
       "      <td>Basic</td>\n",
       "    </tr>\n",
       "    <tr>\n",
       "      <th>6</th>\n",
       "      <td>Title+Text_Basic</td>\n",
       "      <td>Logistic Regression</td>\n",
       "      <td>0.939792</td>\n",
       "      <td>0.933054</td>\n",
       "      <td>0.94775</td>\n",
       "      <td>0.940345</td>\n",
       "      <td>0.985325</td>\n",
       "      <td>Basic</td>\n",
       "    </tr>\n",
       "    <tr>\n",
       "      <th>7</th>\n",
       "      <td>Title+Text_Basic</td>\n",
       "      <td>Random Forest</td>\n",
       "      <td>0.912505</td>\n",
       "      <td>0.919015</td>\n",
       "      <td>0.90500</td>\n",
       "      <td>0.911954</td>\n",
       "      <td>0.970076</td>\n",
       "      <td>Basic</td>\n",
       "    </tr>\n",
       "    <tr>\n",
       "      <th>8</th>\n",
       "      <td>Title+Text_Basic</td>\n",
       "      <td>SVM</td>\n",
       "      <td>0.946426</td>\n",
       "      <td>0.942298</td>\n",
       "      <td>0.95125</td>\n",
       "      <td>0.946753</td>\n",
       "      <td>0.987400</td>\n",
       "      <td>Basic</td>\n",
       "    </tr>\n",
       "    <tr>\n",
       "      <th>9</th>\n",
       "      <td>Title+Time_Basic</td>\n",
       "      <td>Logistic Regression</td>\n",
       "      <td>0.930404</td>\n",
       "      <td>0.924347</td>\n",
       "      <td>0.93775</td>\n",
       "      <td>0.931000</td>\n",
       "      <td>0.981666</td>\n",
       "      <td>Basic</td>\n",
       "    </tr>\n",
       "    <tr>\n",
       "      <th>10</th>\n",
       "      <td>Title+Time_Basic</td>\n",
       "      <td>Random Forest</td>\n",
       "      <td>0.910752</td>\n",
       "      <td>0.899198</td>\n",
       "      <td>0.92550</td>\n",
       "      <td>0.912160</td>\n",
       "      <td>0.974498</td>\n",
       "      <td>Basic</td>\n",
       "    </tr>\n",
       "    <tr>\n",
       "      <th>11</th>\n",
       "      <td>Title+Time_Basic</td>\n",
       "      <td>SVM</td>\n",
       "      <td>0.938415</td>\n",
       "      <td>0.930324</td>\n",
       "      <td>0.94800</td>\n",
       "      <td>0.939079</td>\n",
       "      <td>0.984474</td>\n",
       "      <td>Basic</td>\n",
       "    </tr>\n",
       "    <tr>\n",
       "      <th>12</th>\n",
       "      <td>Title+Text+Time_Basic</td>\n",
       "      <td>Logistic Regression</td>\n",
       "      <td>0.940168</td>\n",
       "      <td>0.933317</td>\n",
       "      <td>0.94825</td>\n",
       "      <td>0.940724</td>\n",
       "      <td>0.985168</td>\n",
       "      <td>Basic</td>\n",
       "    </tr>\n",
       "    <tr>\n",
       "      <th>13</th>\n",
       "      <td>Title+Text+Time_Basic</td>\n",
       "      <td>Random Forest</td>\n",
       "      <td>0.913005</td>\n",
       "      <td>0.919736</td>\n",
       "      <td>0.90525</td>\n",
       "      <td>0.912435</td>\n",
       "      <td>0.970822</td>\n",
       "      <td>Basic</td>\n",
       "    </tr>\n",
       "    <tr>\n",
       "      <th>14</th>\n",
       "      <td>Title+Text+Time_Basic</td>\n",
       "      <td>SVM</td>\n",
       "      <td>0.946426</td>\n",
       "      <td>0.942298</td>\n",
       "      <td>0.95125</td>\n",
       "      <td>0.946753</td>\n",
       "      <td>0.987355</td>\n",
       "      <td>Basic</td>\n",
       "    </tr>\n",
       "    <tr>\n",
       "      <th>15</th>\n",
       "      <td>Title_Aggressive</td>\n",
       "      <td>Logistic Regression</td>\n",
       "      <td>0.928527</td>\n",
       "      <td>0.919912</td>\n",
       "      <td>0.93900</td>\n",
       "      <td>0.929358</td>\n",
       "      <td>0.980953</td>\n",
       "      <td>Aggressive</td>\n",
       "    </tr>\n",
       "    <tr>\n",
       "      <th>16</th>\n",
       "      <td>Title_Aggressive</td>\n",
       "      <td>Random Forest</td>\n",
       "      <td>0.916510</td>\n",
       "      <td>0.904392</td>\n",
       "      <td>0.93175</td>\n",
       "      <td>0.917867</td>\n",
       "      <td>0.976652</td>\n",
       "      <td>Aggressive</td>\n",
       "    </tr>\n",
       "    <tr>\n",
       "      <th>17</th>\n",
       "      <td>Title_Aggressive</td>\n",
       "      <td>SVM</td>\n",
       "      <td>0.936413</td>\n",
       "      <td>0.927104</td>\n",
       "      <td>0.94750</td>\n",
       "      <td>0.937191</td>\n",
       "      <td>0.983569</td>\n",
       "      <td>Aggressive</td>\n",
       "    </tr>\n",
       "    <tr>\n",
       "      <th>18</th>\n",
       "      <td>Text_Aggressive</td>\n",
       "      <td>Logistic Regression</td>\n",
       "      <td>0.949556</td>\n",
       "      <td>0.943089</td>\n",
       "      <td>0.95700</td>\n",
       "      <td>0.949994</td>\n",
       "      <td>0.988850</td>\n",
       "      <td>Aggressive</td>\n",
       "    </tr>\n",
       "    <tr>\n",
       "      <th>19</th>\n",
       "      <td>Text_Aggressive</td>\n",
       "      <td>Random Forest</td>\n",
       "      <td>0.917512</td>\n",
       "      <td>0.921950</td>\n",
       "      <td>0.91250</td>\n",
       "      <td>0.917201</td>\n",
       "      <td>0.974420</td>\n",
       "      <td>Aggressive</td>\n",
       "    </tr>\n",
       "    <tr>\n",
       "      <th>20</th>\n",
       "      <td>Text_Aggressive</td>\n",
       "      <td>SVM</td>\n",
       "      <td>0.955314</td>\n",
       "      <td>0.949642</td>\n",
       "      <td>0.96175</td>\n",
       "      <td>0.955658</td>\n",
       "      <td>0.990721</td>\n",
       "      <td>Aggressive</td>\n",
       "    </tr>\n",
       "    <tr>\n",
       "      <th>21</th>\n",
       "      <td>Title+Text_Aggressive</td>\n",
       "      <td>Logistic Regression</td>\n",
       "      <td>0.940168</td>\n",
       "      <td>0.931829</td>\n",
       "      <td>0.95000</td>\n",
       "      <td>0.940827</td>\n",
       "      <td>0.984966</td>\n",
       "      <td>Aggressive</td>\n",
       "    </tr>\n",
       "    <tr>\n",
       "      <th>22</th>\n",
       "      <td>Title+Text_Aggressive</td>\n",
       "      <td>Random Forest</td>\n",
       "      <td>0.917261</td>\n",
       "      <td>0.923409</td>\n",
       "      <td>0.91025</td>\n",
       "      <td>0.916782</td>\n",
       "      <td>0.972498</td>\n",
       "      <td>Aggressive</td>\n",
       "    </tr>\n",
       "    <tr>\n",
       "      <th>23</th>\n",
       "      <td>Title+Text_Aggressive</td>\n",
       "      <td>SVM</td>\n",
       "      <td>0.944549</td>\n",
       "      <td>0.935373</td>\n",
       "      <td>0.95525</td>\n",
       "      <td>0.945207</td>\n",
       "      <td>0.986777</td>\n",
       "      <td>Aggressive</td>\n",
       "    </tr>\n",
       "    <tr>\n",
       "      <th>24</th>\n",
       "      <td>Title+Time_Aggressive</td>\n",
       "      <td>Logistic Regression</td>\n",
       "      <td>0.928777</td>\n",
       "      <td>0.923058</td>\n",
       "      <td>0.93575</td>\n",
       "      <td>0.929361</td>\n",
       "      <td>0.981080</td>\n",
       "      <td>Aggressive</td>\n",
       "    </tr>\n",
       "    <tr>\n",
       "      <th>25</th>\n",
       "      <td>Title+Time_Aggressive</td>\n",
       "      <td>Random Forest</td>\n",
       "      <td>0.908499</td>\n",
       "      <td>0.900908</td>\n",
       "      <td>0.91825</td>\n",
       "      <td>0.909496</td>\n",
       "      <td>0.973551</td>\n",
       "      <td>Aggressive</td>\n",
       "    </tr>\n",
       "    <tr>\n",
       "      <th>26</th>\n",
       "      <td>Title+Time_Aggressive</td>\n",
       "      <td>SVM</td>\n",
       "      <td>0.934911</td>\n",
       "      <td>0.926471</td>\n",
       "      <td>0.94500</td>\n",
       "      <td>0.935644</td>\n",
       "      <td>0.982833</td>\n",
       "      <td>Aggressive</td>\n",
       "    </tr>\n",
       "    <tr>\n",
       "      <th>27</th>\n",
       "      <td>Title+Text+Time_Aggressive</td>\n",
       "      <td>Logistic Regression</td>\n",
       "      <td>0.940668</td>\n",
       "      <td>0.932532</td>\n",
       "      <td>0.95025</td>\n",
       "      <td>0.941308</td>\n",
       "      <td>0.985049</td>\n",
       "      <td>Aggressive</td>\n",
       "    </tr>\n",
       "    <tr>\n",
       "      <th>28</th>\n",
       "      <td>Title+Text+Time_Aggressive</td>\n",
       "      <td>Random Forest</td>\n",
       "      <td>0.916135</td>\n",
       "      <td>0.922160</td>\n",
       "      <td>0.90925</td>\n",
       "      <td>0.915660</td>\n",
       "      <td>0.972518</td>\n",
       "      <td>Aggressive</td>\n",
       "    </tr>\n",
       "    <tr>\n",
       "      <th>29</th>\n",
       "      <td>Title+Text+Time_Aggressive</td>\n",
       "      <td>SVM</td>\n",
       "      <td>0.943798</td>\n",
       "      <td>0.934426</td>\n",
       "      <td>0.95475</td>\n",
       "      <td>0.944479</td>\n",
       "      <td>0.986822</td>\n",
       "      <td>Aggressive</td>\n",
       "    </tr>\n",
       "  </tbody>\n",
       "</table>\n",
       "</div>"
      ],
      "text/plain": [
       "                    experiment                model  accuracy  precision  \\\n",
       "0                  Title_Basic  Logistic Regression  0.931155   0.924041   \n",
       "1                  Title_Basic        Random Forest  0.917637   0.902263   \n",
       "2                  Title_Basic                  SVM  0.938791   0.929113   \n",
       "3                   Text_Basic  Logistic Regression  0.943172   0.939514   \n",
       "4                   Text_Basic        Random Forest  0.909125   0.918456   \n",
       "5                   Text_Basic                  SVM  0.949430   0.945050   \n",
       "6             Title+Text_Basic  Logistic Regression  0.939792   0.933054   \n",
       "7             Title+Text_Basic        Random Forest  0.912505   0.919015   \n",
       "8             Title+Text_Basic                  SVM  0.946426   0.942298   \n",
       "9             Title+Time_Basic  Logistic Regression  0.930404   0.924347   \n",
       "10            Title+Time_Basic        Random Forest  0.910752   0.899198   \n",
       "11            Title+Time_Basic                  SVM  0.938415   0.930324   \n",
       "12       Title+Text+Time_Basic  Logistic Regression  0.940168   0.933317   \n",
       "13       Title+Text+Time_Basic        Random Forest  0.913005   0.919736   \n",
       "14       Title+Text+Time_Basic                  SVM  0.946426   0.942298   \n",
       "15            Title_Aggressive  Logistic Regression  0.928527   0.919912   \n",
       "16            Title_Aggressive        Random Forest  0.916510   0.904392   \n",
       "17            Title_Aggressive                  SVM  0.936413   0.927104   \n",
       "18             Text_Aggressive  Logistic Regression  0.949556   0.943089   \n",
       "19             Text_Aggressive        Random Forest  0.917512   0.921950   \n",
       "20             Text_Aggressive                  SVM  0.955314   0.949642   \n",
       "21       Title+Text_Aggressive  Logistic Regression  0.940168   0.931829   \n",
       "22       Title+Text_Aggressive        Random Forest  0.917261   0.923409   \n",
       "23       Title+Text_Aggressive                  SVM  0.944549   0.935373   \n",
       "24       Title+Time_Aggressive  Logistic Regression  0.928777   0.923058   \n",
       "25       Title+Time_Aggressive        Random Forest  0.908499   0.900908   \n",
       "26       Title+Time_Aggressive                  SVM  0.934911   0.926471   \n",
       "27  Title+Text+Time_Aggressive  Logistic Regression  0.940668   0.932532   \n",
       "28  Title+Text+Time_Aggressive        Random Forest  0.916135   0.922160   \n",
       "29  Title+Text+Time_Aggressive                  SVM  0.943798   0.934426   \n",
       "\n",
       "     recall        f1   roc_auc cleaning_strategy  \n",
       "0   0.93975  0.931829  0.982372             Basic  \n",
       "1   0.93700  0.919303  0.976768             Basic  \n",
       "2   0.95025  0.939562  0.984254             Basic  \n",
       "3   0.94750  0.943490  0.986804             Basic  \n",
       "4   0.89825  0.908241  0.970439             Basic  \n",
       "5   0.95450  0.949751  0.988688             Basic  \n",
       "6   0.94775  0.940345  0.985325             Basic  \n",
       "7   0.90500  0.911954  0.970076             Basic  \n",
       "8   0.95125  0.946753  0.987400             Basic  \n",
       "9   0.93775  0.931000  0.981666             Basic  \n",
       "10  0.92550  0.912160  0.974498             Basic  \n",
       "11  0.94800  0.939079  0.984474             Basic  \n",
       "12  0.94825  0.940724  0.985168             Basic  \n",
       "13  0.90525  0.912435  0.970822             Basic  \n",
       "14  0.95125  0.946753  0.987355             Basic  \n",
       "15  0.93900  0.929358  0.980953        Aggressive  \n",
       "16  0.93175  0.917867  0.976652        Aggressive  \n",
       "17  0.94750  0.937191  0.983569        Aggressive  \n",
       "18  0.95700  0.949994  0.988850        Aggressive  \n",
       "19  0.91250  0.917201  0.974420        Aggressive  \n",
       "20  0.96175  0.955658  0.990721        Aggressive  \n",
       "21  0.95000  0.940827  0.984966        Aggressive  \n",
       "22  0.91025  0.916782  0.972498        Aggressive  \n",
       "23  0.95525  0.945207  0.986777        Aggressive  \n",
       "24  0.93575  0.929361  0.981080        Aggressive  \n",
       "25  0.91825  0.909496  0.973551        Aggressive  \n",
       "26  0.94500  0.935644  0.982833        Aggressive  \n",
       "27  0.95025  0.941308  0.985049        Aggressive  \n",
       "28  0.90925  0.915660  0.972518        Aggressive  \n",
       "29  0.95475  0.944479  0.986822        Aggressive  "
      ]
     },
     "execution_count": 13,
     "metadata": {},
     "output_type": "execute_result"
    }
   ],
   "source": [
    "# ## CURSOR Version tuesday\n",
    "\n",
    "# timestamp = datetime.datetime.now().strftime(\"%Y%m%d_%H%M%S\")\n",
    "# print(f\"🚀 Starting experimental runs at {timestamp}\")\n",
    "# print(\"=\" * 70)\n",
    "\n",
    "# for i, config in enumerate(experimental_configs, 1):\n",
    "#     config_name = config['name']\n",
    "#     data = config['data']\n",
    "#     features = config['features']\n",
    "#     cleaning_strategy = config['cleaning']\n",
    "    \n",
    "#     print(f\"\\n🧪 EXPERIMENT {i}/{len(experimental_configs)}: {config_name}\")\n",
    "#     print(f\"   Features: {features}\")\n",
    "#     print(f\"   Cleaning: {cleaning_strategy}\")\n",
    "    \n",
    "#     # Prepare text data\n",
    "#     print(\"   📝 Preparing text data...\")\n",
    "#     X_text = combine_text_features(data, features)\n",
    "#     y = data['label']\n",
    "    \n",
    "#     # Train-test split\n",
    "#     X_train, X_test, y_train, y_test = train_test_split(\n",
    "#         X_text, y, test_size=0.2, random_state=42, stratify=y\n",
    "#     )\n",
    "    \n",
    "#     # Create embeddings (with caching)\n",
    "#     cache_key = f\"{config_name}_{len(X_train)}\"\n",
    "#     if cache_key not in embeddings_cache:\n",
    "#         print(\"   🔄 Creating embeddings...\")\n",
    "#         X_train_embeddings = sentence_model.encode(X_train.tolist(), show_progress_bar=False)\n",
    "#         X_test_embeddings = sentence_model.encode(X_test.tolist(), show_progress_bar=False)\n",
    "#         embeddings_cache[cache_key] = (X_train_embeddings, X_test_embeddings)\n",
    "#     else:\n",
    "#         print(\"   📋 Using cached embeddings...\")\n",
    "#         X_train_embeddings, X_test_embeddings = embeddings_cache[cache_key]\n",
    "    \n",
    "#     print(f\"   📊 Embeddings shape: {X_train_embeddings.shape}\")\n",
    "    \n",
    "#     # Test all models\n",
    "#     for model_name, model in models_to_test.items():\n",
    "#         print(f\"   🤖 Training {model_name}...\")\n",
    "        \n",
    "#         # Train model\n",
    "#         model.fit(X_train_embeddings, y_train)\n",
    "        \n",
    "#         # Evaluate\n",
    "#         results = evaluate_model_comprehensive(\n",
    "#             model, X_test_embeddings, y_test, model_name, config_name\n",
    "#         )\n",
    "#         all_results.append(results)\n",
    "        \n",
    "#         print(f\"      ✅ Accuracy: {results['accuracy']:.4f} | F1: {results['f1']:.4f} | ROC-AUC: {results['roc_auc']:.4f}\")\n",
    "\n",
    "# print(\"\\n\" + \"=\" * 70)\n",
    "# print(\"🎉 All experiments completed!\")\n",
    "\n",
    "# ### **Save Results to Experiment Tracker**\n",
    "# print(\"\\n💾 Saving results to experiment tracker...\")\n",
    "# tracker.add_experiment_results(all_results)"
   ]
  },
  {
   "cell_type": "markdown",
   "id": "41df9d95",
   "metadata": {},
   "source": [
    "\n",
    "### (old version) Create sentence embeddings\n"
   ]
  },
  {
   "cell_type": "code",
   "execution_count": 14,
   "id": "7afd54fb",
   "metadata": {},
   "outputs": [],
   "source": [
    "# print(\"🔄 Creating sentence embeddings...\")\n",
    "# # Convert text to embeddings\n",
    "# X_train_embeddings = sentence_model.encode(X_train.tolist(), show_progress_bar=True)\n",
    "# X_test_embeddings = sentence_model.encode(X_test.tolist(), show_progress_bar=True)\n",
    "\n",
    "# print(f\"📊 Training embeddings shape: {X_train_embeddings.shape}\")\n",
    "# print(f\"📈 Test embeddings shape: {X_test_embeddings.shape}\")\n"
   ]
  },
  {
   "cell_type": "code",
   "execution_count": 15,
   "id": "6f963a59",
   "metadata": {},
   "outputs": [],
   "source": [
    "# # Optional: Save embeddings for later use\n",
    "# np.save('../dataset/01_interim/train_embeddings.npy', X_train_embeddings)\n",
    "# np.save('../dataset/01_interim/test_embeddings.npy', X_test_embeddings)\n",
    "# print(\"💾 Embeddings saved!\")"
   ]
  },
  {
   "cell_type": "markdown",
   "id": "3c99211d",
   "metadata": {},
   "source": [
    "---\n",
    "\n",
    "## **📊 5. (NEW v.) Results Analysis **\n",
    "\n",
    "### **Compile Results**\n"
   ]
  },
  {
   "cell_type": "code",
   "execution_count": 9,
   "id": "2b8e4b94",
   "metadata": {},
   "outputs": [
    {
     "name": "stdout",
     "output_type": "stream",
     "text": [
      "📋 Experimental Results Summary:\n",
      "==================================================\n",
      "🏆 BEST ACCURACY: 0.9553\n",
      "   Model: SVM\n",
      "   Features: aggressive - Features: ['clean_text']\n",
      "\n",
      "🏆 BEST F1-SCORE: 0.9557\n",
      "   Model: SVM\n",
      "   Features: aggressive - Features: ['clean_text']\n",
      "\n",
      "🏆 BEST ROC-AUC: 0.9907\n",
      "   Model: SVM\n",
      "   Features: aggressive - Features: ['clean_text']\n"
     ]
    }
   ],
   "source": [
    "## NEW DSeek v. wedns\n",
    "\n",
    "### **Load results from unified tracker for consistency**\n",
    "from src.experiment_tracker import load_experiment_results\n",
    "\n",
    "# Load all results (including any previous experiments)\n",
    "all_experiments_df = load_experiment_results()\n",
    "\n",
    "# Filter to just the sentence transformer experiments\n",
    "results_df = all_experiments_df[all_experiments_df['experiment_type'] == 'sentence_transformers']\n",
    "\n",
    "print(\"📋 Experimental Results Summary:\")\n",
    "print(\"=\" * 50)\n",
    "\n",
    "# Best results by metric\n",
    "best_accuracy = results_df.loc[results_df['accuracy'].idxmax()]\n",
    "best_f1 = results_df.loc[results_df['f1_score'].idxmax()]\n",
    "best_roc_auc = results_df.loc[results_df['roc_auc'].idxmax()]\n",
    "\n",
    "print(f\"🏆 BEST ACCURACY: {best_accuracy['accuracy']:.4f}\")\n",
    "print(f\"   Model: {best_accuracy['model_name']}\")\n",
    "print(f\"   Features: {best_accuracy['preprocessing']} - {best_accuracy['notes']}\")\n",
    "\n",
    "print(f\"\\n🏆 BEST F1-SCORE: {best_f1['f1_score']:.4f}\")\n",
    "print(f\"   Model: {best_f1['model_name']}\")\n",
    "print(f\"   Features: {best_f1['preprocessing']} - {best_f1['notes']}\")\n",
    "\n",
    "print(f\"\\n🏆 BEST ROC-AUC: {best_roc_auc['roc_auc']:.4f}\")\n",
    "print(f\"   Model: {best_roc_auc['model_name']}\")\n",
    "print(f\"   Features: {best_roc_auc['preprocessing']} - {best_roc_auc['notes']}\")\n"
   ]
  },
  {
   "cell_type": "code",
   "execution_count": 10,
   "id": "02cd3566",
   "metadata": {},
   "outputs": [
    {
     "name": "stdout",
     "output_type": "stream",
     "text": [
      "\n",
      "======================================================================\n",
      "📊 COMPREHENSIVE RESULTS ANALYSIS\n",
      "======================================================================\n",
      "📋 Overall Results Summary:\n",
      "==================================================\n",
      "Total experiments completed: 6\n",
      "Unique configurations tested: 5\n",
      "Unique models tested: 1\n",
      "\n",
      "🏆 Best Performing Experiments:\n",
      "==================================================\n",
      "🎯 Best Accuracy: 0.9553\n",
      "   Configuration: Text_only\n",
      "   Model: SVC\n",
      "\n",
      "🎯 Best F1 Score: 0.9557\n",
      "   Configuration: Text_only\n",
      "   Model: SVC\n",
      "\n",
      "🎯 Best ROC-AUC: 0.9907\n",
      "   Configuration: Text_only\n",
      "   Model: SVC\n",
      "\n",
      "📊 Detailed Results Table:\n",
      "==================================================\n"
     ]
    },
    {
     "data": {
      "application/vnd.microsoft.datawrangler.viewer.v0+json": {
       "columns": [
        {
         "name": "experiment",
         "rawType": "object",
         "type": "string"
        },
        {
         "name": "('accuracy', 'SVC')",
         "rawType": "float64",
         "type": "float"
        },
        {
         "name": "('f1', 'SVC')",
         "rawType": "float64",
         "type": "float"
        },
        {
         "name": "('roc_auc', 'SVC')",
         "rawType": "float64",
         "type": "float"
        }
       ],
       "ref": "0cc1e643-b103-4bd0-8176-c6bbaf74cec3",
       "rows": [
        [
         "Engineered_only",
         "0.8875",
         "0.8902",
         "0.9536"
        ],
        [
         "Text+All",
         "0.9542",
         "0.9546",
         "0.9904"
        ],
        [
         "Text+Lengths",
         "0.9541",
         "0.9545",
         "0.9902"
        ],
        [
         "Text+Time",
         "0.9548",
         "0.9552",
         "0.9903"
        ],
        [
         "Text_only",
         "0.9553",
         "0.9557",
         "0.9907"
        ]
       ],
       "shape": {
        "columns": 3,
        "rows": 5
       }
      },
      "text/html": [
       "<div>\n",
       "<style scoped>\n",
       "    .dataframe tbody tr th:only-of-type {\n",
       "        vertical-align: middle;\n",
       "    }\n",
       "\n",
       "    .dataframe tbody tr th {\n",
       "        vertical-align: top;\n",
       "    }\n",
       "\n",
       "    .dataframe thead tr th {\n",
       "        text-align: left;\n",
       "    }\n",
       "\n",
       "    .dataframe thead tr:last-of-type th {\n",
       "        text-align: right;\n",
       "    }\n",
       "</style>\n",
       "<table border=\"1\" class=\"dataframe\">\n",
       "  <thead>\n",
       "    <tr>\n",
       "      <th></th>\n",
       "      <th>accuracy</th>\n",
       "      <th>f1</th>\n",
       "      <th>roc_auc</th>\n",
       "    </tr>\n",
       "    <tr>\n",
       "      <th>model</th>\n",
       "      <th>SVC</th>\n",
       "      <th>SVC</th>\n",
       "      <th>SVC</th>\n",
       "    </tr>\n",
       "    <tr>\n",
       "      <th>experiment</th>\n",
       "      <th></th>\n",
       "      <th></th>\n",
       "      <th></th>\n",
       "    </tr>\n",
       "  </thead>\n",
       "  <tbody>\n",
       "    <tr>\n",
       "      <th>Engineered_only</th>\n",
       "      <td>0.8875</td>\n",
       "      <td>0.8902</td>\n",
       "      <td>0.9536</td>\n",
       "    </tr>\n",
       "    <tr>\n",
       "      <th>Text+All</th>\n",
       "      <td>0.9542</td>\n",
       "      <td>0.9546</td>\n",
       "      <td>0.9904</td>\n",
       "    </tr>\n",
       "    <tr>\n",
       "      <th>Text+Lengths</th>\n",
       "      <td>0.9541</td>\n",
       "      <td>0.9545</td>\n",
       "      <td>0.9902</td>\n",
       "    </tr>\n",
       "    <tr>\n",
       "      <th>Text+Time</th>\n",
       "      <td>0.9548</td>\n",
       "      <td>0.9552</td>\n",
       "      <td>0.9903</td>\n",
       "    </tr>\n",
       "    <tr>\n",
       "      <th>Text_only</th>\n",
       "      <td>0.9553</td>\n",
       "      <td>0.9557</td>\n",
       "      <td>0.9907</td>\n",
       "    </tr>\n",
       "  </tbody>\n",
       "</table>\n",
       "</div>"
      ],
      "text/plain": [
       "                accuracy      f1 roc_auc\n",
       "model                SVC     SVC     SVC\n",
       "experiment                              \n",
       "Engineered_only   0.8875  0.8902  0.9536\n",
       "Text+All          0.9542  0.9546  0.9904\n",
       "Text+Lengths      0.9541  0.9545  0.9902\n",
       "Text+Time         0.9548  0.9552  0.9903\n",
       "Text_only         0.9553  0.9557  0.9907"
      ]
     },
     "metadata": {},
     "output_type": "display_data"
    },
    {
     "name": "stdout",
     "output_type": "stream",
     "text": [
      "\n",
      "🔍 Analysis by Feature Type:\n",
      "==================================================\n"
     ]
    },
    {
     "data": {
      "application/vnd.microsoft.datawrangler.viewer.v0+json": {
       "columns": [
        {
         "name": "('feature_type', 'cleaning_strategy')",
         "rawType": "object",
         "type": "unknown"
        },
        {
         "name": "('accuracy', 'mean')",
         "rawType": "float64",
         "type": "float"
        },
        {
         "name": "('accuracy', 'max')",
         "rawType": "float64",
         "type": "float"
        },
        {
         "name": "('f1', 'mean')",
         "rawType": "float64",
         "type": "float"
        },
        {
         "name": "('f1', 'max')",
         "rawType": "float64",
         "type": "float"
        },
        {
         "name": "('roc_auc', 'mean')",
         "rawType": "float64",
         "type": "float"
        },
        {
         "name": "('roc_auc', 'max')",
         "rawType": "float64",
         "type": "float"
        }
       ],
       "ref": "e1a7a771-9bad-499d-9081-fac9a1749cbf",
       "rows": [
        [
         "('Other', 'Aggressive')",
         "0.9276",
         "0.9548",
         "0.9289",
         "0.9552",
         "0.9756",
         "0.9904"
        ],
        [
         "('Text', 'Aggressive')",
         "0.9553",
         "0.9553",
         "0.9557",
         "0.9557",
         "0.9907",
         "0.9907"
        ]
       ],
       "shape": {
        "columns": 6,
        "rows": 2
       }
      },
      "text/html": [
       "<div>\n",
       "<style scoped>\n",
       "    .dataframe tbody tr th:only-of-type {\n",
       "        vertical-align: middle;\n",
       "    }\n",
       "\n",
       "    .dataframe tbody tr th {\n",
       "        vertical-align: top;\n",
       "    }\n",
       "\n",
       "    .dataframe thead tr th {\n",
       "        text-align: left;\n",
       "    }\n",
       "\n",
       "    .dataframe thead tr:last-of-type th {\n",
       "        text-align: right;\n",
       "    }\n",
       "</style>\n",
       "<table border=\"1\" class=\"dataframe\">\n",
       "  <thead>\n",
       "    <tr>\n",
       "      <th></th>\n",
       "      <th></th>\n",
       "      <th colspan=\"2\" halign=\"left\">accuracy</th>\n",
       "      <th colspan=\"2\" halign=\"left\">f1</th>\n",
       "      <th colspan=\"2\" halign=\"left\">roc_auc</th>\n",
       "    </tr>\n",
       "    <tr>\n",
       "      <th></th>\n",
       "      <th></th>\n",
       "      <th>mean</th>\n",
       "      <th>max</th>\n",
       "      <th>mean</th>\n",
       "      <th>max</th>\n",
       "      <th>mean</th>\n",
       "      <th>max</th>\n",
       "    </tr>\n",
       "    <tr>\n",
       "      <th>feature_type</th>\n",
       "      <th>cleaning_strategy</th>\n",
       "      <th></th>\n",
       "      <th></th>\n",
       "      <th></th>\n",
       "      <th></th>\n",
       "      <th></th>\n",
       "      <th></th>\n",
       "    </tr>\n",
       "  </thead>\n",
       "  <tbody>\n",
       "    <tr>\n",
       "      <th>Other</th>\n",
       "      <th>Aggressive</th>\n",
       "      <td>0.9276</td>\n",
       "      <td>0.9548</td>\n",
       "      <td>0.9289</td>\n",
       "      <td>0.9552</td>\n",
       "      <td>0.9756</td>\n",
       "      <td>0.9904</td>\n",
       "    </tr>\n",
       "    <tr>\n",
       "      <th>Text</th>\n",
       "      <th>Aggressive</th>\n",
       "      <td>0.9553</td>\n",
       "      <td>0.9553</td>\n",
       "      <td>0.9557</td>\n",
       "      <td>0.9557</td>\n",
       "      <td>0.9907</td>\n",
       "      <td>0.9907</td>\n",
       "    </tr>\n",
       "  </tbody>\n",
       "</table>\n",
       "</div>"
      ],
      "text/plain": [
       "                               accuracy              f1         roc_auc  \\\n",
       "                                   mean     max    mean     max    mean   \n",
       "feature_type cleaning_strategy                                            \n",
       "Other        Aggressive          0.9276  0.9548  0.9289  0.9552  0.9756   \n",
       "Text         Aggressive          0.9553  0.9553  0.9557  0.9557  0.9907   \n",
       "\n",
       "                                        \n",
       "                                   max  \n",
       "feature_type cleaning_strategy          \n",
       "Other        Aggressive         0.9904  \n",
       "Text         Aggressive         0.9907  "
      ]
     },
     "metadata": {},
     "output_type": "display_data"
    },
    {
     "name": "stdout",
     "output_type": "stream",
     "text": [
      "\n",
      "🤖 Analysis by Model Type:\n",
      "==================================================\n"
     ]
    },
    {
     "data": {
      "application/vnd.microsoft.datawrangler.viewer.v0+json": {
       "columns": [
        {
         "name": "model",
         "rawType": "object",
         "type": "string"
        },
        {
         "name": "('accuracy', 'mean')",
         "rawType": "float64",
         "type": "float"
        },
        {
         "name": "('accuracy', 'max')",
         "rawType": "float64",
         "type": "float"
        },
        {
         "name": "('f1', 'mean')",
         "rawType": "float64",
         "type": "float"
        },
        {
         "name": "('f1', 'max')",
         "rawType": "float64",
         "type": "float"
        },
        {
         "name": "('roc_auc', 'mean')",
         "rawType": "float64",
         "type": "float"
        },
        {
         "name": "('roc_auc', 'max')",
         "rawType": "float64",
         "type": "float"
        }
       ],
       "ref": "498829c5-6d99-4343-8af5-2de9d07f4de5",
       "rows": [
        [
         "SVC",
         "0.9322",
         "0.9553",
         "0.9334",
         "0.9557",
         "0.9782",
         "0.9907"
        ]
       ],
       "shape": {
        "columns": 6,
        "rows": 1
       }
      },
      "text/html": [
       "<div>\n",
       "<style scoped>\n",
       "    .dataframe tbody tr th:only-of-type {\n",
       "        vertical-align: middle;\n",
       "    }\n",
       "\n",
       "    .dataframe tbody tr th {\n",
       "        vertical-align: top;\n",
       "    }\n",
       "\n",
       "    .dataframe thead tr th {\n",
       "        text-align: left;\n",
       "    }\n",
       "\n",
       "    .dataframe thead tr:last-of-type th {\n",
       "        text-align: right;\n",
       "    }\n",
       "</style>\n",
       "<table border=\"1\" class=\"dataframe\">\n",
       "  <thead>\n",
       "    <tr>\n",
       "      <th></th>\n",
       "      <th colspan=\"2\" halign=\"left\">accuracy</th>\n",
       "      <th colspan=\"2\" halign=\"left\">f1</th>\n",
       "      <th colspan=\"2\" halign=\"left\">roc_auc</th>\n",
       "    </tr>\n",
       "    <tr>\n",
       "      <th></th>\n",
       "      <th>mean</th>\n",
       "      <th>max</th>\n",
       "      <th>mean</th>\n",
       "      <th>max</th>\n",
       "      <th>mean</th>\n",
       "      <th>max</th>\n",
       "    </tr>\n",
       "    <tr>\n",
       "      <th>model</th>\n",
       "      <th></th>\n",
       "      <th></th>\n",
       "      <th></th>\n",
       "      <th></th>\n",
       "      <th></th>\n",
       "      <th></th>\n",
       "    </tr>\n",
       "  </thead>\n",
       "  <tbody>\n",
       "    <tr>\n",
       "      <th>SVC</th>\n",
       "      <td>0.9322</td>\n",
       "      <td>0.9553</td>\n",
       "      <td>0.9334</td>\n",
       "      <td>0.9557</td>\n",
       "      <td>0.9782</td>\n",
       "      <td>0.9907</td>\n",
       "    </tr>\n",
       "  </tbody>\n",
       "</table>\n",
       "</div>"
      ],
      "text/plain": [
       "      accuracy              f1         roc_auc        \n",
       "          mean     max    mean     max    mean     max\n",
       "model                                                 \n",
       "SVC     0.9322  0.9553  0.9334  0.9557  0.9782  0.9907"
      ]
     },
     "metadata": {},
     "output_type": "display_data"
    },
    {
     "name": "stdout",
     "output_type": "stream",
     "text": [
      "\n",
      "📈 Performance Visualizations:\n",
      "==================================================\n",
      "✅ Results analysis completed!\n"
     ]
    }
   ],
   "source": [
    "## **📊 5. Comprehensive Results Analysis** Dseek v2\n",
    "print(\"\\n\" + \"=\" * 70)\n",
    "print(\"📊 COMPREHENSIVE RESULTS ANALYSIS\")\n",
    "print(\"=\" * 70)\n",
    "\n",
    "# Convert your results to a DataFrame for easier analysis\n",
    "import pandas as pd\n",
    "results_df = pd.DataFrame(all_results)\n",
    "\n",
    "# Display overall summary\n",
    "print(\"📋 Overall Results Summary:\")\n",
    "print(\"=\" * 50)\n",
    "print(f\"Total experiments completed: {len(results_df)}\")\n",
    "print(f\"Unique configurations tested: {results_df['experiment'].nunique()}\")\n",
    "print(f\"Unique models tested: {results_df['model'].nunique()}\")\n",
    "\n",
    "# Find best results by different metrics\n",
    "print(\"\\n🏆 Best Performing Experiments:\")\n",
    "print(\"=\" * 50)\n",
    "\n",
    "# Best by accuracy\n",
    "best_accuracy = results_df.loc[results_df['accuracy'].idxmax()]\n",
    "print(f\"🎯 Best Accuracy: {best_accuracy['accuracy']:.4f}\")\n",
    "print(f\"   Configuration: {best_accuracy['experiment']}\")\n",
    "print(f\"   Model: {best_accuracy['model']}\")\n",
    "\n",
    "# Best by F1 score (your primary metric)\n",
    "best_f1 = results_df.loc[results_df['f1'].idxmax()]\n",
    "print(f\"\\n🎯 Best F1 Score: {best_f1['f1']:.4f}\")\n",
    "print(f\"   Configuration: {best_f1['experiment']}\")\n",
    "print(f\"   Model: {best_f1['model']}\")\n",
    "\n",
    "# Best by ROC-AUC\n",
    "best_roc_auc = results_df.loc[results_df['roc_auc'].idxmax()]\n",
    "print(f\"\\n🎯 Best ROC-AUC: {best_roc_auc['roc_auc']:.4f}\")\n",
    "print(f\"   Configuration: {best_roc_auc['experiment']}\")\n",
    "print(f\"   Model: {best_roc_auc['model']}\")\n",
    "\n",
    "# Create a detailed results table\n",
    "print(\"\\n📊 Detailed Results Table:\")\n",
    "print(\"=\" * 50)\n",
    "\n",
    "# Pivot table for easy comparison\n",
    "pivot_table = results_df.pivot_table(\n",
    "    values=['accuracy', 'f1', 'roc_auc'], \n",
    "    index='experiment', \n",
    "    columns='model',\n",
    "    aggfunc='mean'\n",
    ").round(4)\n",
    "\n",
    "# Display the pivot table\n",
    "display(pivot_table)\n",
    "\n",
    "# Analysis by feature type\n",
    "print(\"\\n🔍 Analysis by Feature Type:\")\n",
    "print(\"=\" * 50)\n",
    "\n",
    "# Extract feature type from experiment name\n",
    "results_df['feature_type'] = results_df['experiment'].apply(\n",
    "    lambda x: 'Text' if 'Text_' in x else \n",
    "              'Title' if 'Title_' in x and 'Text' not in x else\n",
    "              'Title+Text' if 'Title+Text' in x else\n",
    "              'Title+Text+Time' if 'Title+Text+Time' in x else\n",
    "              'Title+Time' if 'Title+Time' in x else 'Other'\n",
    ")\n",
    "\n",
    "# Extract cleaning strategy from experiment name\n",
    "results_df['cleaning_strategy'] = results_df['experiment'].apply(\n",
    "    lambda x: 'Basic' if 'Basic' in x else 'Aggressive'\n",
    ")\n",
    "\n",
    "# Group by feature type and cleaning strategy\n",
    "feature_performance = results_df.groupby(['feature_type', 'cleaning_strategy']).agg({\n",
    "    'accuracy': ['mean', 'max'],\n",
    "    'f1': ['mean', 'max'],\n",
    "    'roc_auc': ['mean', 'max']\n",
    "}).round(4)\n",
    "\n",
    "display(feature_performance)\n",
    "\n",
    "# Group by model type\n",
    "print(\"\\n🤖 Analysis by Model Type:\")\n",
    "print(\"=\" * 50)\n",
    "model_performance = results_df.groupby('model').agg({\n",
    "    'accuracy': ['mean', 'max'],\n",
    "    'f1': ['mean', 'max'],\n",
    "    'roc_auc': ['mean', 'max']\n",
    "}).round(4)\n",
    "\n",
    "display(model_performance)\n",
    "\n",
    "# Create visualizations\n",
    "print(\"\\n📈 Performance Visualizations:\")\n",
    "print(\"=\" * 50)\n",
    "\n",
    "import matplotlib.pyplot as plt\n",
    "import seaborn as sns\n",
    "\n",
    "# Set up the plotting style\n",
    "plt.style.use('default')\n",
    "sns.set_palette(\"husl\")\n",
    "\n",
    "# # 1. Bar plot of F1 scores by experiment\n",
    "# plt.figure(figsize=(12, 6))\n",
    "# results_df_sorted = results_df.sort_values('f1', ascending=False)\n",
    "# sns.barplot(data=results_df_sorted, x='experiment', y='f1', hue='model')\n",
    "# plt.title('F1 Score by Experiment Configuration')\n",
    "# plt.xlabel('Experiment Configuration')\n",
    "# plt.ylabel('F1 Score')\n",
    "# plt.xticks(rotation=45, ha='right')\n",
    "# plt.legend(bbox_to_anchor=(1.05, 1), loc='upper left')\n",
    "# plt.tight_layout()\n",
    "# plt.show()\n",
    "\n",
    "# # 2. Comparison of cleaning strategies\n",
    "# plt.figure(figsize=(10, 6))\n",
    "# sns.boxplot(data=results_df, x='cleaning_strategy', y='f1')\n",
    "# plt.title('F1 Score by Cleaning Strategy')\n",
    "# plt.xlabel('Cleaning Strategy')\n",
    "# plt.ylabel('F1 Score')\n",
    "# plt.tight_layout()\n",
    "# plt.show()\n",
    "\n",
    "# # 3. Comparison of feature types\n",
    "# plt.figure(figsize=(12, 6))\n",
    "# sns.boxplot(data=results_df, x='feature_type', y='f1')\n",
    "# plt.title('F1 Score by Feature Type')\n",
    "# plt.xlabel('Feature Type')\n",
    "# plt.ylabel('F1 Score')\n",
    "# plt.xticks(rotation=45, ha='right')\n",
    "# plt.tight_layout()\n",
    "# plt.show()\n",
    "\n",
    "print(\"✅ Results analysis completed!\")"
   ]
  },
  {
   "cell_type": "markdown",
   "id": "861e5abe",
   "metadata": {},
   "source": [
    "### **Get Updated Results from Tracker**\n"
   ]
  },
  {
   "cell_type": "code",
   "execution_count": 11,
   "id": "c6a5f206",
   "metadata": {},
   "outputs": [],
   "source": [
    "# # ## CURSOR Version tuesday\n",
    "\n",
    "# results_df = tracker.all_results\n",
    "# print(\"📋 Experimental Results Summary:\")\n",
    "# print(\"=\" * 50)\n",
    "\n",
    "# # Best results by metric\n",
    "# best_accuracy = results_df.loc[results_df['accuracy'].idxmax()]\n",
    "# best_f1 = results_df.loc[results_df['f1'].idxmax()]\n",
    "# best_roc_auc = results_df.loc[results_df['roc_auc'].idxmax()]\n",
    "\n",
    "# print(f\"🏆 BEST ACCURACY: {best_accuracy['accuracy']:.4f}\")\n",
    "# print(f\"   Model: {best_accuracy['model']}\")\n",
    "# print(f\"   Features: {best_accuracy['experiment']}\")\n",
    "\n",
    "# print(f\"\\n🏆 BEST F1-SCORE: {best_f1['f1']:.4f}\")\n",
    "# print(f\"   Model: {best_f1['model']}\")\n",
    "# print(f\"   Features: {best_f1['experiment']}\")\n",
    "\n",
    "# print(f\"\\n🏆 BEST ROC-AUC: {best_roc_auc['roc_auc']:.4f}\")\n",
    "# print(f\"   Model: {best_roc_auc['model']}\")\n",
    "# print(f\"   Features: {best_roc_auc['experiment']}\")\n"
   ]
  },
  {
   "cell_type": "code",
   "execution_count": 11,
   "id": "d8bb4121",
   "metadata": {},
   "outputs": [
    {
     "data": {
      "application/vnd.microsoft.datawrangler.viewer.v0+json": {
       "columns": [
        {
         "name": "index",
         "rawType": "int64",
         "type": "integer"
        },
        {
         "name": "experiment",
         "rawType": "object",
         "type": "string"
        },
        {
         "name": "model",
         "rawType": "object",
         "type": "string"
        },
        {
         "name": "accuracy",
         "rawType": "float64",
         "type": "float"
        },
        {
         "name": "precision",
         "rawType": "float64",
         "type": "float"
        },
        {
         "name": "recall",
         "rawType": "float64",
         "type": "float"
        },
        {
         "name": "f1",
         "rawType": "float64",
         "type": "float"
        },
        {
         "name": "roc_auc",
         "rawType": "float64",
         "type": "float"
        },
        {
         "name": "experiment_id",
         "rawType": "object",
         "type": "string"
        },
        {
         "name": "feature_type",
         "rawType": "object",
         "type": "string"
        },
        {
         "name": "cleaning_strategy",
         "rawType": "object",
         "type": "string"
        }
       ],
       "ref": "d31b5cf0-83a5-4e57-878d-3d15623405a5",
       "rows": [
        [
         "0",
         "Text_only",
         "SVC",
         "0.955313556139692",
         "0.9496420636879783",
         "0.96175",
         "0.9556576822754937",
         "0.9907214214088744",
         "se_s_20250903_191402",
         "Text",
         "Aggressive"
        ],
        [
         "1",
         "Text+Lengths",
         "SVC",
         "0.9540618350231569",
         "0.9473036197980793",
         "0.96175",
         "0.9544721498573377",
         "0.9902278139884683",
         "se_s_20250903_195414",
         "Other",
         "Aggressive"
        ],
        [
         "2",
         "Text+Time",
         "SVC",
         "0.9548128676930779",
         "0.9480423540999754",
         "0.9625",
         "0.9552164743828309",
         "0.9903468914514916",
         "se_s_20250903_202343",
         "Other",
         "Aggressive"
        ]
       ],
       "shape": {
        "columns": 10,
        "rows": 3
       }
      },
      "text/html": [
       "<div>\n",
       "<style scoped>\n",
       "    .dataframe tbody tr th:only-of-type {\n",
       "        vertical-align: middle;\n",
       "    }\n",
       "\n",
       "    .dataframe tbody tr th {\n",
       "        vertical-align: top;\n",
       "    }\n",
       "\n",
       "    .dataframe thead th {\n",
       "        text-align: right;\n",
       "    }\n",
       "</style>\n",
       "<table border=\"1\" class=\"dataframe\">\n",
       "  <thead>\n",
       "    <tr style=\"text-align: right;\">\n",
       "      <th></th>\n",
       "      <th>experiment</th>\n",
       "      <th>model</th>\n",
       "      <th>accuracy</th>\n",
       "      <th>precision</th>\n",
       "      <th>recall</th>\n",
       "      <th>f1</th>\n",
       "      <th>roc_auc</th>\n",
       "      <th>experiment_id</th>\n",
       "      <th>feature_type</th>\n",
       "      <th>cleaning_strategy</th>\n",
       "    </tr>\n",
       "  </thead>\n",
       "  <tbody>\n",
       "    <tr>\n",
       "      <th>0</th>\n",
       "      <td>Text_only</td>\n",
       "      <td>SVC</td>\n",
       "      <td>0.955314</td>\n",
       "      <td>0.949642</td>\n",
       "      <td>0.96175</td>\n",
       "      <td>0.955658</td>\n",
       "      <td>0.990721</td>\n",
       "      <td>se_s_20250903_191402</td>\n",
       "      <td>Text</td>\n",
       "      <td>Aggressive</td>\n",
       "    </tr>\n",
       "    <tr>\n",
       "      <th>1</th>\n",
       "      <td>Text+Lengths</td>\n",
       "      <td>SVC</td>\n",
       "      <td>0.954062</td>\n",
       "      <td>0.947304</td>\n",
       "      <td>0.96175</td>\n",
       "      <td>0.954472</td>\n",
       "      <td>0.990228</td>\n",
       "      <td>se_s_20250903_195414</td>\n",
       "      <td>Other</td>\n",
       "      <td>Aggressive</td>\n",
       "    </tr>\n",
       "    <tr>\n",
       "      <th>2</th>\n",
       "      <td>Text+Time</td>\n",
       "      <td>SVC</td>\n",
       "      <td>0.954813</td>\n",
       "      <td>0.948042</td>\n",
       "      <td>0.96250</td>\n",
       "      <td>0.955216</td>\n",
       "      <td>0.990347</td>\n",
       "      <td>se_s_20250903_202343</td>\n",
       "      <td>Other</td>\n",
       "      <td>Aggressive</td>\n",
       "    </tr>\n",
       "  </tbody>\n",
       "</table>\n",
       "</div>"
      ],
      "text/plain": [
       "     experiment model  accuracy  precision   recall        f1   roc_auc  \\\n",
       "0     Text_only   SVC  0.955314   0.949642  0.96175  0.955658  0.990721   \n",
       "1  Text+Lengths   SVC  0.954062   0.947304  0.96175  0.954472  0.990228   \n",
       "2     Text+Time   SVC  0.954813   0.948042  0.96250  0.955216  0.990347   \n",
       "\n",
       "          experiment_id feature_type cleaning_strategy  \n",
       "0  se_s_20250903_191402         Text        Aggressive  \n",
       "1  se_s_20250903_195414        Other        Aggressive  \n",
       "2  se_s_20250903_202343        Other        Aggressive  "
      ]
     },
     "execution_count": 11,
     "metadata": {},
     "output_type": "execute_result"
    }
   ],
   "source": [
    "results_df.head(3)"
   ]
  },
  {
   "cell_type": "code",
   "execution_count": 12,
   "id": "b9f7119a",
   "metadata": {},
   "outputs": [
    {
     "name": "stdout",
     "output_type": "stream",
     "text": [
      "\n",
      "📊 DETAILED RESULTS:\n"
     ]
    },
    {
     "ename": "KeyError",
     "evalue": "'f1_score'",
     "output_type": "error",
     "traceback": [
      "\u001b[0;31m---------------------------------------------------------------------------\u001b[0m",
      "\u001b[0;31mKeyError\u001b[0m                                  Traceback (most recent call last)",
      "Cell \u001b[0;32mIn[12], line 3\u001b[0m\n\u001b[1;32m      1\u001b[0m \u001b[38;5;66;03m# Detailed results table\u001b[39;00m\n\u001b[1;32m      2\u001b[0m \u001b[38;5;28mprint\u001b[39m(\u001b[38;5;124mf\u001b[39m\u001b[38;5;124m\"\u001b[39m\u001b[38;5;130;01m\\n\u001b[39;00m\u001b[38;5;124m📊 DETAILED RESULTS:\u001b[39m\u001b[38;5;124m\"\u001b[39m)\n\u001b[0;32m----> 3\u001b[0m results_pivot \u001b[38;5;241m=\u001b[39m \u001b[43mresults_df\u001b[49m\u001b[38;5;241;43m.\u001b[39;49m\u001b[43mpivot_table\u001b[49m\u001b[43m(\u001b[49m\n\u001b[1;32m      4\u001b[0m \u001b[43m    \u001b[49m\u001b[43mvalues\u001b[49m\u001b[38;5;241;43m=\u001b[39;49m\u001b[43m[\u001b[49m\u001b[38;5;124;43m'\u001b[39;49m\u001b[38;5;124;43maccuracy\u001b[39;49m\u001b[38;5;124;43m'\u001b[39;49m\u001b[43m,\u001b[49m\u001b[43m \u001b[49m\u001b[38;5;124;43m'\u001b[39;49m\u001b[38;5;124;43mf1_score\u001b[39;49m\u001b[38;5;124;43m'\u001b[39;49m\u001b[43m,\u001b[49m\u001b[43m \u001b[49m\u001b[38;5;124;43m'\u001b[39;49m\u001b[38;5;124;43mroc_auc\u001b[39;49m\u001b[38;5;124;43m'\u001b[39;49m\u001b[43m]\u001b[49m\u001b[43m,\u001b[49m\u001b[43m \u001b[49m\n\u001b[1;32m      5\u001b[0m \u001b[43m    \u001b[49m\u001b[43mindex\u001b[49m\u001b[38;5;241;43m=\u001b[39;49m\u001b[38;5;124;43m'\u001b[39;49m\u001b[38;5;124;43mpreprocessing\u001b[39;49m\u001b[38;5;124;43m'\u001b[39;49m\u001b[43m,\u001b[49m\u001b[43m \u001b[49m\n\u001b[1;32m      6\u001b[0m \u001b[43m    \u001b[49m\u001b[43mcolumns\u001b[49m\u001b[38;5;241;43m=\u001b[39;49m\u001b[38;5;124;43m'\u001b[39;49m\u001b[38;5;124;43mmodel_name\u001b[39;49m\u001b[38;5;124;43m'\u001b[39;49m\u001b[43m,\u001b[49m\n\u001b[1;32m      7\u001b[0m \u001b[43m    \u001b[49m\u001b[43maggfunc\u001b[49m\u001b[38;5;241;43m=\u001b[39;49m\u001b[38;5;124;43m'\u001b[39;49m\u001b[38;5;124;43mmean\u001b[39;49m\u001b[38;5;124;43m'\u001b[39;49m\n\u001b[1;32m      8\u001b[0m \u001b[43m)\u001b[49m\u001b[38;5;241m.\u001b[39mround(\u001b[38;5;241m4\u001b[39m)\n\u001b[1;32m     10\u001b[0m display(results_pivot)\n",
      "File \u001b[0;32m/opt/anaconda3/envs/datasci_env/lib/python3.12/site-packages/pandas/core/frame.py:9516\u001b[0m, in \u001b[0;36mDataFrame.pivot_table\u001b[0;34m(self, values, index, columns, aggfunc, fill_value, margins, dropna, margins_name, observed, sort)\u001b[0m\n\u001b[1;32m   9499\u001b[0m \u001b[38;5;129m@Substitution\u001b[39m(\u001b[38;5;124m\"\u001b[39m\u001b[38;5;124m\"\u001b[39m)\n\u001b[1;32m   9500\u001b[0m \u001b[38;5;129m@Appender\u001b[39m(_shared_docs[\u001b[38;5;124m\"\u001b[39m\u001b[38;5;124mpivot_table\u001b[39m\u001b[38;5;124m\"\u001b[39m])\n\u001b[1;32m   9501\u001b[0m \u001b[38;5;28;01mdef\u001b[39;00m \u001b[38;5;21mpivot_table\u001b[39m(\n\u001b[0;32m   (...)\u001b[0m\n\u001b[1;32m   9512\u001b[0m     sort: \u001b[38;5;28mbool\u001b[39m \u001b[38;5;241m=\u001b[39m \u001b[38;5;28;01mTrue\u001b[39;00m,\n\u001b[1;32m   9513\u001b[0m ) \u001b[38;5;241m-\u001b[39m\u001b[38;5;241m>\u001b[39m DataFrame:\n\u001b[1;32m   9514\u001b[0m     \u001b[38;5;28;01mfrom\u001b[39;00m \u001b[38;5;21;01mpandas\u001b[39;00m\u001b[38;5;21;01m.\u001b[39;00m\u001b[38;5;21;01mcore\u001b[39;00m\u001b[38;5;21;01m.\u001b[39;00m\u001b[38;5;21;01mreshape\u001b[39;00m\u001b[38;5;21;01m.\u001b[39;00m\u001b[38;5;21;01mpivot\u001b[39;00m \u001b[38;5;28;01mimport\u001b[39;00m pivot_table\n\u001b[0;32m-> 9516\u001b[0m     \u001b[38;5;28;01mreturn\u001b[39;00m \u001b[43mpivot_table\u001b[49m\u001b[43m(\u001b[49m\n\u001b[1;32m   9517\u001b[0m \u001b[43m        \u001b[49m\u001b[38;5;28;43mself\u001b[39;49m\u001b[43m,\u001b[49m\n\u001b[1;32m   9518\u001b[0m \u001b[43m        \u001b[49m\u001b[43mvalues\u001b[49m\u001b[38;5;241;43m=\u001b[39;49m\u001b[43mvalues\u001b[49m\u001b[43m,\u001b[49m\n\u001b[1;32m   9519\u001b[0m \u001b[43m        \u001b[49m\u001b[43mindex\u001b[49m\u001b[38;5;241;43m=\u001b[39;49m\u001b[43mindex\u001b[49m\u001b[43m,\u001b[49m\n\u001b[1;32m   9520\u001b[0m \u001b[43m        \u001b[49m\u001b[43mcolumns\u001b[49m\u001b[38;5;241;43m=\u001b[39;49m\u001b[43mcolumns\u001b[49m\u001b[43m,\u001b[49m\n\u001b[1;32m   9521\u001b[0m \u001b[43m        \u001b[49m\u001b[43maggfunc\u001b[49m\u001b[38;5;241;43m=\u001b[39;49m\u001b[43maggfunc\u001b[49m\u001b[43m,\u001b[49m\n\u001b[1;32m   9522\u001b[0m \u001b[43m        \u001b[49m\u001b[43mfill_value\u001b[49m\u001b[38;5;241;43m=\u001b[39;49m\u001b[43mfill_value\u001b[49m\u001b[43m,\u001b[49m\n\u001b[1;32m   9523\u001b[0m \u001b[43m        \u001b[49m\u001b[43mmargins\u001b[49m\u001b[38;5;241;43m=\u001b[39;49m\u001b[43mmargins\u001b[49m\u001b[43m,\u001b[49m\n\u001b[1;32m   9524\u001b[0m \u001b[43m        \u001b[49m\u001b[43mdropna\u001b[49m\u001b[38;5;241;43m=\u001b[39;49m\u001b[43mdropna\u001b[49m\u001b[43m,\u001b[49m\n\u001b[1;32m   9525\u001b[0m \u001b[43m        \u001b[49m\u001b[43mmargins_name\u001b[49m\u001b[38;5;241;43m=\u001b[39;49m\u001b[43mmargins_name\u001b[49m\u001b[43m,\u001b[49m\n\u001b[1;32m   9526\u001b[0m \u001b[43m        \u001b[49m\u001b[43mobserved\u001b[49m\u001b[38;5;241;43m=\u001b[39;49m\u001b[43mobserved\u001b[49m\u001b[43m,\u001b[49m\n\u001b[1;32m   9527\u001b[0m \u001b[43m        \u001b[49m\u001b[43msort\u001b[49m\u001b[38;5;241;43m=\u001b[39;49m\u001b[43msort\u001b[49m\u001b[43m,\u001b[49m\n\u001b[1;32m   9528\u001b[0m \u001b[43m    \u001b[49m\u001b[43m)\u001b[49m\n",
      "File \u001b[0;32m/opt/anaconda3/envs/datasci_env/lib/python3.12/site-packages/pandas/core/reshape/pivot.py:102\u001b[0m, in \u001b[0;36mpivot_table\u001b[0;34m(data, values, index, columns, aggfunc, fill_value, margins, dropna, margins_name, observed, sort)\u001b[0m\n\u001b[1;32m     99\u001b[0m     table \u001b[38;5;241m=\u001b[39m concat(pieces, keys\u001b[38;5;241m=\u001b[39mkeys, axis\u001b[38;5;241m=\u001b[39m\u001b[38;5;241m1\u001b[39m)\n\u001b[1;32m    100\u001b[0m     \u001b[38;5;28;01mreturn\u001b[39;00m table\u001b[38;5;241m.\u001b[39m__finalize__(data, method\u001b[38;5;241m=\u001b[39m\u001b[38;5;124m\"\u001b[39m\u001b[38;5;124mpivot_table\u001b[39m\u001b[38;5;124m\"\u001b[39m)\n\u001b[0;32m--> 102\u001b[0m table \u001b[38;5;241m=\u001b[39m \u001b[43m__internal_pivot_table\u001b[49m\u001b[43m(\u001b[49m\n\u001b[1;32m    103\u001b[0m \u001b[43m    \u001b[49m\u001b[43mdata\u001b[49m\u001b[43m,\u001b[49m\n\u001b[1;32m    104\u001b[0m \u001b[43m    \u001b[49m\u001b[43mvalues\u001b[49m\u001b[43m,\u001b[49m\n\u001b[1;32m    105\u001b[0m \u001b[43m    \u001b[49m\u001b[43mindex\u001b[49m\u001b[43m,\u001b[49m\n\u001b[1;32m    106\u001b[0m \u001b[43m    \u001b[49m\u001b[43mcolumns\u001b[49m\u001b[43m,\u001b[49m\n\u001b[1;32m    107\u001b[0m \u001b[43m    \u001b[49m\u001b[43maggfunc\u001b[49m\u001b[43m,\u001b[49m\n\u001b[1;32m    108\u001b[0m \u001b[43m    \u001b[49m\u001b[43mfill_value\u001b[49m\u001b[43m,\u001b[49m\n\u001b[1;32m    109\u001b[0m \u001b[43m    \u001b[49m\u001b[43mmargins\u001b[49m\u001b[43m,\u001b[49m\n\u001b[1;32m    110\u001b[0m \u001b[43m    \u001b[49m\u001b[43mdropna\u001b[49m\u001b[43m,\u001b[49m\n\u001b[1;32m    111\u001b[0m \u001b[43m    \u001b[49m\u001b[43mmargins_name\u001b[49m\u001b[43m,\u001b[49m\n\u001b[1;32m    112\u001b[0m \u001b[43m    \u001b[49m\u001b[43mobserved\u001b[49m\u001b[43m,\u001b[49m\n\u001b[1;32m    113\u001b[0m \u001b[43m    \u001b[49m\u001b[43msort\u001b[49m\u001b[43m,\u001b[49m\n\u001b[1;32m    114\u001b[0m \u001b[43m\u001b[49m\u001b[43m)\u001b[49m\n\u001b[1;32m    115\u001b[0m \u001b[38;5;28;01mreturn\u001b[39;00m table\u001b[38;5;241m.\u001b[39m__finalize__(data, method\u001b[38;5;241m=\u001b[39m\u001b[38;5;124m\"\u001b[39m\u001b[38;5;124mpivot_table\u001b[39m\u001b[38;5;124m\"\u001b[39m)\n",
      "File \u001b[0;32m/opt/anaconda3/envs/datasci_env/lib/python3.12/site-packages/pandas/core/reshape/pivot.py:148\u001b[0m, in \u001b[0;36m__internal_pivot_table\u001b[0;34m(data, values, index, columns, aggfunc, fill_value, margins, dropna, margins_name, observed, sort)\u001b[0m\n\u001b[1;32m    146\u001b[0m \u001b[38;5;28;01mfor\u001b[39;00m i \u001b[38;5;129;01min\u001b[39;00m values:\n\u001b[1;32m    147\u001b[0m     \u001b[38;5;28;01mif\u001b[39;00m i \u001b[38;5;129;01mnot\u001b[39;00m \u001b[38;5;129;01min\u001b[39;00m data:\n\u001b[0;32m--> 148\u001b[0m         \u001b[38;5;28;01mraise\u001b[39;00m \u001b[38;5;167;01mKeyError\u001b[39;00m(i)\n\u001b[1;32m    150\u001b[0m to_filter \u001b[38;5;241m=\u001b[39m []\n\u001b[1;32m    151\u001b[0m \u001b[38;5;28;01mfor\u001b[39;00m x \u001b[38;5;129;01min\u001b[39;00m keys \u001b[38;5;241m+\u001b[39m values:\n",
      "\u001b[0;31mKeyError\u001b[0m: 'f1_score'"
     ]
    }
   ],
   "source": [
    "\n",
    "# Detailed results table\n",
    "print(f\"\\n📊 DETAILED RESULTS:\")\n",
    "results_pivot = results_df.pivot_table(\n",
    "    values=['accuracy', 'f1_score', 'roc_auc'], \n",
    "    index='preprocessing', \n",
    "    columns='model_name',\n",
    "    aggfunc='mean'\n",
    ").round(4)\n",
    "\n",
    "display(results_pivot)\n"
   ]
  },
  {
   "cell_type": "code",
   "execution_count": 13,
   "id": "3a68ec19",
   "metadata": {},
   "outputs": [
    {
     "name": "stdout",
     "output_type": "stream",
     "text": [
      "\n",
      "🔍 FEATURE ANALYSIS:\n",
      "Average performance by feature combination:\n"
     ]
    },
    {
     "data": {
      "application/vnd.microsoft.datawrangler.viewer.v0+json": {
       "columns": [
        {
         "name": "experiment",
         "rawType": "object",
         "type": "string"
        },
        {
         "name": "accuracy",
         "rawType": "float64",
         "type": "float"
        },
        {
         "name": "f1",
         "rawType": "float64",
         "type": "float"
        },
        {
         "name": "roc_auc",
         "rawType": "float64",
         "type": "float"
        }
       ],
       "ref": "2d2e0e75-8233-4993-856e-de156073ef53",
       "rows": [
        [
         "Text_only",
         "0.9553",
         "0.9557",
         "0.9907"
        ],
        [
         "Text+Time",
         "0.9548",
         "0.9552",
         "0.9903"
        ],
        [
         "Text+All",
         "0.9542",
         "0.9546",
         "0.9904"
        ],
        [
         "Text+Lengths",
         "0.9541",
         "0.9545",
         "0.9902"
        ],
        [
         "Engineered_only",
         "0.8875",
         "0.8902",
         "0.9536"
        ]
       ],
       "shape": {
        "columns": 3,
        "rows": 5
       }
      },
      "text/html": [
       "<div>\n",
       "<style scoped>\n",
       "    .dataframe tbody tr th:only-of-type {\n",
       "        vertical-align: middle;\n",
       "    }\n",
       "\n",
       "    .dataframe tbody tr th {\n",
       "        vertical-align: top;\n",
       "    }\n",
       "\n",
       "    .dataframe thead th {\n",
       "        text-align: right;\n",
       "    }\n",
       "</style>\n",
       "<table border=\"1\" class=\"dataframe\">\n",
       "  <thead>\n",
       "    <tr style=\"text-align: right;\">\n",
       "      <th></th>\n",
       "      <th>accuracy</th>\n",
       "      <th>f1</th>\n",
       "      <th>roc_auc</th>\n",
       "    </tr>\n",
       "    <tr>\n",
       "      <th>experiment</th>\n",
       "      <th></th>\n",
       "      <th></th>\n",
       "      <th></th>\n",
       "    </tr>\n",
       "  </thead>\n",
       "  <tbody>\n",
       "    <tr>\n",
       "      <th>Text_only</th>\n",
       "      <td>0.9553</td>\n",
       "      <td>0.9557</td>\n",
       "      <td>0.9907</td>\n",
       "    </tr>\n",
       "    <tr>\n",
       "      <th>Text+Time</th>\n",
       "      <td>0.9548</td>\n",
       "      <td>0.9552</td>\n",
       "      <td>0.9903</td>\n",
       "    </tr>\n",
       "    <tr>\n",
       "      <th>Text+All</th>\n",
       "      <td>0.9542</td>\n",
       "      <td>0.9546</td>\n",
       "      <td>0.9904</td>\n",
       "    </tr>\n",
       "    <tr>\n",
       "      <th>Text+Lengths</th>\n",
       "      <td>0.9541</td>\n",
       "      <td>0.9545</td>\n",
       "      <td>0.9902</td>\n",
       "    </tr>\n",
       "    <tr>\n",
       "      <th>Engineered_only</th>\n",
       "      <td>0.8875</td>\n",
       "      <td>0.8902</td>\n",
       "      <td>0.9536</td>\n",
       "    </tr>\n",
       "  </tbody>\n",
       "</table>\n",
       "</div>"
      ],
      "text/plain": [
       "                 accuracy      f1  roc_auc\n",
       "experiment                                \n",
       "Text_only          0.9553  0.9557   0.9907\n",
       "Text+Time          0.9548  0.9552   0.9903\n",
       "Text+All           0.9542  0.9546   0.9904\n",
       "Text+Lengths       0.9541  0.9545   0.9902\n",
       "Engineered_only    0.8875  0.8902   0.9536"
      ]
     },
     "metadata": {},
     "output_type": "display_data"
    },
    {
     "name": "stdout",
     "output_type": "stream",
     "text": [
      "\n",
      "🤖 MODEL ANALYSIS:\n",
      "Average performance by model:\n"
     ]
    },
    {
     "data": {
      "application/vnd.microsoft.datawrangler.viewer.v0+json": {
       "columns": [
        {
         "name": "model",
         "rawType": "object",
         "type": "string"
        },
        {
         "name": "accuracy",
         "rawType": "float64",
         "type": "float"
        },
        {
         "name": "f1",
         "rawType": "float64",
         "type": "float"
        },
        {
         "name": "roc_auc",
         "rawType": "float64",
         "type": "float"
        }
       ],
       "ref": "b91046bb-2d29-4ba7-9d82-400df9609008",
       "rows": [
        [
         "SVC",
         "0.9322",
         "0.9334",
         "0.9782"
        ]
       ],
       "shape": {
        "columns": 3,
        "rows": 1
       }
      },
      "text/html": [
       "<div>\n",
       "<style scoped>\n",
       "    .dataframe tbody tr th:only-of-type {\n",
       "        vertical-align: middle;\n",
       "    }\n",
       "\n",
       "    .dataframe tbody tr th {\n",
       "        vertical-align: top;\n",
       "    }\n",
       "\n",
       "    .dataframe thead th {\n",
       "        text-align: right;\n",
       "    }\n",
       "</style>\n",
       "<table border=\"1\" class=\"dataframe\">\n",
       "  <thead>\n",
       "    <tr style=\"text-align: right;\">\n",
       "      <th></th>\n",
       "      <th>accuracy</th>\n",
       "      <th>f1</th>\n",
       "      <th>roc_auc</th>\n",
       "    </tr>\n",
       "    <tr>\n",
       "      <th>model</th>\n",
       "      <th></th>\n",
       "      <th></th>\n",
       "      <th></th>\n",
       "    </tr>\n",
       "  </thead>\n",
       "  <tbody>\n",
       "    <tr>\n",
       "      <th>SVC</th>\n",
       "      <td>0.9322</td>\n",
       "      <td>0.9334</td>\n",
       "      <td>0.9782</td>\n",
       "    </tr>\n",
       "  </tbody>\n",
       "</table>\n",
       "</div>"
      ],
      "text/plain": [
       "       accuracy      f1  roc_auc\n",
       "model                           \n",
       "SVC      0.9322  0.9334   0.9782"
      ]
     },
     "metadata": {},
     "output_type": "display_data"
    },
    {
     "name": "stdout",
     "output_type": "stream",
     "text": [
      "\n",
      "🧹 CLEANING STRATEGY ANALYSIS:\n",
      "Average performance by cleaning strategy:\n"
     ]
    },
    {
     "data": {
      "application/vnd.microsoft.datawrangler.viewer.v0+json": {
       "columns": [
        {
         "name": "cleaning_strategy",
         "rawType": "object",
         "type": "string"
        },
        {
         "name": "accuracy",
         "rawType": "float64",
         "type": "float"
        },
        {
         "name": "f1",
         "rawType": "float64",
         "type": "float"
        },
        {
         "name": "roc_auc",
         "rawType": "float64",
         "type": "float"
        }
       ],
       "ref": "1d7121d5-0b58-4d78-839a-1b95c4e3064d",
       "rows": [
        [
         "Aggressive",
         "0.9322",
         "0.9334",
         "0.9782"
        ]
       ],
       "shape": {
        "columns": 3,
        "rows": 1
       }
      },
      "text/html": [
       "<div>\n",
       "<style scoped>\n",
       "    .dataframe tbody tr th:only-of-type {\n",
       "        vertical-align: middle;\n",
       "    }\n",
       "\n",
       "    .dataframe tbody tr th {\n",
       "        vertical-align: top;\n",
       "    }\n",
       "\n",
       "    .dataframe thead th {\n",
       "        text-align: right;\n",
       "    }\n",
       "</style>\n",
       "<table border=\"1\" class=\"dataframe\">\n",
       "  <thead>\n",
       "    <tr style=\"text-align: right;\">\n",
       "      <th></th>\n",
       "      <th>accuracy</th>\n",
       "      <th>f1</th>\n",
       "      <th>roc_auc</th>\n",
       "    </tr>\n",
       "    <tr>\n",
       "      <th>cleaning_strategy</th>\n",
       "      <th></th>\n",
       "      <th></th>\n",
       "      <th></th>\n",
       "    </tr>\n",
       "  </thead>\n",
       "  <tbody>\n",
       "    <tr>\n",
       "      <th>Aggressive</th>\n",
       "      <td>0.9322</td>\n",
       "      <td>0.9334</td>\n",
       "      <td>0.9782</td>\n",
       "    </tr>\n",
       "  </tbody>\n",
       "</table>\n",
       "</div>"
      ],
      "text/plain": [
       "                   accuracy      f1  roc_auc\n",
       "cleaning_strategy                           \n",
       "Aggressive           0.9322  0.9334   0.9782"
      ]
     },
     "metadata": {},
     "output_type": "display_data"
    }
   ],
   "source": [
    "\n",
    "### **Feature Analysis**\n",
    "\n",
    "print(\"\\n🔍 FEATURE ANALYSIS:\")\n",
    "feature_performance = results_df.groupby('experiment')[['accuracy', 'f1', 'roc_auc']].mean().sort_values('accuracy', ascending=False)\n",
    "print(\"Average performance by feature combination:\")\n",
    "display(feature_performance.round(4))\n",
    "\n",
    "### **Model Analysis**\n",
    "\n",
    "print(\"\\n🤖 MODEL ANALYSIS:\")\n",
    "model_performance = results_df.groupby('model')[['accuracy', 'f1', 'roc_auc']].mean().sort_values('accuracy', ascending=False)\n",
    "print(\"Average performance by model:\")\n",
    "display(model_performance.round(4))\n",
    "\n",
    "### **Cleaning Strategy Analysis**\n",
    "\n",
    "print(\"\\n🧹 CLEANING STRATEGY ANALYSIS:\")\n",
    "results_df['cleaning_strategy'] = results_df['experiment'].apply(lambda x: 'Basic' if 'Basic' in x else 'Aggressive')\n",
    "cleaning_performance = results_df.groupby('cleaning_strategy')[['accuracy', 'f1', 'roc_auc']].mean()\n",
    "print(\"Average performance by cleaning strategy:\")\n",
    "display(cleaning_performance.round(4))"
   ]
  },
  {
   "cell_type": "code",
   "execution_count": 14,
   "id": "cbca9345",
   "metadata": {},
   "outputs": [
    {
     "name": "stdout",
     "output_type": "stream",
     "text": [
      "\n",
      "📊 Creating comprehensive experiment results visualization...\n",
      "💾 Plot saved to: ../models/experiment_results_20250903_190142.png\n"
     ]
    },
    {
     "data": {
      "image/png": "[encoded data removed]",
      "text/plain": [
       "<Figure size 1800x1200 with 7 Axes>"
      ]
     },
     "metadata": {},
     "output_type": "display_data"
    },
    {
     "name": "stdout",
     "output_type": "stream",
     "text": [
      "\n",
      "🤖 Creating detailed model comparison visualization...\n",
      "💾 Model comparison plot saved to: ../models/model_comparison_20250903_190142.png\n"
     ]
    },
    {
     "data": {
      "image/png": "[encoded data removed]",
      "text/plain": [
       "<Figure size 1600x1200 with 5 Axes>"
      ]
     },
     "metadata": {},
     "output_type": "display_data"
    },
    {
     "name": "stdout",
     "output_type": "stream",
     "text": [
      "\n",
      "📋 Creating feature combination analysis visualization...\n",
      "💾 Feature analysis plot saved to: ../models/feature_analysis_20250903_190142.png\n"
     ]
    },
    {
     "data": {
      "image/png": "[encoded data removed]",
      "text/plain": [
       "<Figure size 1600x1200 with 5 Axes>"
      ]
     },
     "metadata": {},
     "output_type": "display_data"
    },
    {
     "name": "stdout",
     "output_type": "stream",
     "text": [
      "\n",
      "📊 DETAILED RESULTS:\n"
     ]
    },
    {
     "data": {
      "application/vnd.microsoft.datawrangler.viewer.v0+json": {
       "columns": [
        {
         "name": "experiment",
         "rawType": "object",
         "type": "string"
        },
        {
         "name": "('accuracy', 'SVC')",
         "rawType": "float64",
         "type": "float"
        },
        {
         "name": "('f1', 'SVC')",
         "rawType": "float64",
         "type": "float"
        },
        {
         "name": "('roc_auc', 'SVC')",
         "rawType": "float64",
         "type": "float"
        }
       ],
       "ref": "abd1f30a-65a1-417d-924c-538a2940f515",
       "rows": [
        [
         "Engineered_only",
         "0.8875",
         "0.8902",
         "0.9536"
        ],
        [
         "Text+All",
         "0.9542",
         "0.9546",
         "0.9904"
        ],
        [
         "Text+Lengths",
         "0.9541",
         "0.9545",
         "0.9902"
        ],
        [
         "Text+Time",
         "0.9548",
         "0.9552",
         "0.9903"
        ],
        [
         "Text_only",
         "0.9553",
         "0.9557",
         "0.9907"
        ]
       ],
       "shape": {
        "columns": 3,
        "rows": 5
       }
      },
      "text/html": [
       "<div>\n",
       "<style scoped>\n",
       "    .dataframe tbody tr th:only-of-type {\n",
       "        vertical-align: middle;\n",
       "    }\n",
       "\n",
       "    .dataframe tbody tr th {\n",
       "        vertical-align: top;\n",
       "    }\n",
       "\n",
       "    .dataframe thead tr th {\n",
       "        text-align: left;\n",
       "    }\n",
       "\n",
       "    .dataframe thead tr:last-of-type th {\n",
       "        text-align: right;\n",
       "    }\n",
       "</style>\n",
       "<table border=\"1\" class=\"dataframe\">\n",
       "  <thead>\n",
       "    <tr>\n",
       "      <th></th>\n",
       "      <th>accuracy</th>\n",
       "      <th>f1</th>\n",
       "      <th>roc_auc</th>\n",
       "    </tr>\n",
       "    <tr>\n",
       "      <th>model</th>\n",
       "      <th>SVC</th>\n",
       "      <th>SVC</th>\n",
       "      <th>SVC</th>\n",
       "    </tr>\n",
       "    <tr>\n",
       "      <th>experiment</th>\n",
       "      <th></th>\n",
       "      <th></th>\n",
       "      <th></th>\n",
       "    </tr>\n",
       "  </thead>\n",
       "  <tbody>\n",
       "    <tr>\n",
       "      <th>Engineered_only</th>\n",
       "      <td>0.8875</td>\n",
       "      <td>0.8902</td>\n",
       "      <td>0.9536</td>\n",
       "    </tr>\n",
       "    <tr>\n",
       "      <th>Text+All</th>\n",
       "      <td>0.9542</td>\n",
       "      <td>0.9546</td>\n",
       "      <td>0.9904</td>\n",
       "    </tr>\n",
       "    <tr>\n",
       "      <th>Text+Lengths</th>\n",
       "      <td>0.9541</td>\n",
       "      <td>0.9545</td>\n",
       "      <td>0.9902</td>\n",
       "    </tr>\n",
       "    <tr>\n",
       "      <th>Text+Time</th>\n",
       "      <td>0.9548</td>\n",
       "      <td>0.9552</td>\n",
       "      <td>0.9903</td>\n",
       "    </tr>\n",
       "    <tr>\n",
       "      <th>Text_only</th>\n",
       "      <td>0.9553</td>\n",
       "      <td>0.9557</td>\n",
       "      <td>0.9907</td>\n",
       "    </tr>\n",
       "  </tbody>\n",
       "</table>\n",
       "</div>"
      ],
      "text/plain": [
       "                accuracy      f1 roc_auc\n",
       "model                SVC     SVC     SVC\n",
       "experiment                              \n",
       "Engineered_only   0.8875  0.8902  0.9536\n",
       "Text+All          0.9542  0.9546  0.9904\n",
       "Text+Lengths      0.9541  0.9545  0.9902\n",
       "Text+Time         0.9548  0.9552  0.9903\n",
       "Text_only         0.9553  0.9557  0.9907"
      ]
     },
     "metadata": {},
     "output_type": "display_data"
    },
    {
     "name": "stdout",
     "output_type": "stream",
     "text": [
      "\n",
      "🔍 FEATURE ANALYSIS:\n",
      "Average performance by feature combination:\n"
     ]
    },
    {
     "data": {
      "application/vnd.microsoft.datawrangler.viewer.v0+json": {
       "columns": [
        {
         "name": "experiment",
         "rawType": "object",
         "type": "string"
        },
        {
         "name": "accuracy",
         "rawType": "float64",
         "type": "float"
        },
        {
         "name": "f1",
         "rawType": "float64",
         "type": "float"
        },
        {
         "name": "roc_auc",
         "rawType": "float64",
         "type": "float"
        }
       ],
       "ref": "5416b78f-ba67-4d62-9d9e-e98f0509c485",
       "rows": [
        [
         "Text_only",
         "0.9553",
         "0.9557",
         "0.9907"
        ],
        [
         "Text+Time",
         "0.9548",
         "0.9552",
         "0.9903"
        ],
        [
         "Text+All",
         "0.9542",
         "0.9546",
         "0.9904"
        ],
        [
         "Text+Lengths",
         "0.9541",
         "0.9545",
         "0.9902"
        ],
        [
         "Engineered_only",
         "0.8875",
         "0.8902",
         "0.9536"
        ]
       ],
       "shape": {
        "columns": 3,
        "rows": 5
       }
      },
      "text/html": [
       "<div>\n",
       "<style scoped>\n",
       "    .dataframe tbody tr th:only-of-type {\n",
       "        vertical-align: middle;\n",
       "    }\n",
       "\n",
       "    .dataframe tbody tr th {\n",
       "        vertical-align: top;\n",
       "    }\n",
       "\n",
       "    .dataframe thead th {\n",
       "        text-align: right;\n",
       "    }\n",
       "</style>\n",
       "<table border=\"1\" class=\"dataframe\">\n",
       "  <thead>\n",
       "    <tr style=\"text-align: right;\">\n",
       "      <th></th>\n",
       "      <th>accuracy</th>\n",
       "      <th>f1</th>\n",
       "      <th>roc_auc</th>\n",
       "    </tr>\n",
       "    <tr>\n",
       "      <th>experiment</th>\n",
       "      <th></th>\n",
       "      <th></th>\n",
       "      <th></th>\n",
       "    </tr>\n",
       "  </thead>\n",
       "  <tbody>\n",
       "    <tr>\n",
       "      <th>Text_only</th>\n",
       "      <td>0.9553</td>\n",
       "      <td>0.9557</td>\n",
       "      <td>0.9907</td>\n",
       "    </tr>\n",
       "    <tr>\n",
       "      <th>Text+Time</th>\n",
       "      <td>0.9548</td>\n",
       "      <td>0.9552</td>\n",
       "      <td>0.9903</td>\n",
       "    </tr>\n",
       "    <tr>\n",
       "      <th>Text+All</th>\n",
       "      <td>0.9542</td>\n",
       "      <td>0.9546</td>\n",
       "      <td>0.9904</td>\n",
       "    </tr>\n",
       "    <tr>\n",
       "      <th>Text+Lengths</th>\n",
       "      <td>0.9541</td>\n",
       "      <td>0.9545</td>\n",
       "      <td>0.9902</td>\n",
       "    </tr>\n",
       "    <tr>\n",
       "      <th>Engineered_only</th>\n",
       "      <td>0.8875</td>\n",
       "      <td>0.8902</td>\n",
       "      <td>0.9536</td>\n",
       "    </tr>\n",
       "  </tbody>\n",
       "</table>\n",
       "</div>"
      ],
      "text/plain": [
       "                 accuracy      f1  roc_auc\n",
       "experiment                                \n",
       "Text_only          0.9553  0.9557   0.9907\n",
       "Text+Time          0.9548  0.9552   0.9903\n",
       "Text+All           0.9542  0.9546   0.9904\n",
       "Text+Lengths       0.9541  0.9545   0.9902\n",
       "Engineered_only    0.8875  0.8902   0.9536"
      ]
     },
     "metadata": {},
     "output_type": "display_data"
    },
    {
     "name": "stdout",
     "output_type": "stream",
     "text": [
      "\n",
      "�� MODEL ANALYSIS:\n",
      "Average performance by model:\n"
     ]
    },
    {
     "data": {
      "application/vnd.microsoft.datawrangler.viewer.v0+json": {
       "columns": [
        {
         "name": "model",
         "rawType": "object",
         "type": "string"
        },
        {
         "name": "accuracy",
         "rawType": "float64",
         "type": "float"
        },
        {
         "name": "f1",
         "rawType": "float64",
         "type": "float"
        },
        {
         "name": "roc_auc",
         "rawType": "float64",
         "type": "float"
        }
       ],
       "ref": "2612b6d3-96be-4de2-b35c-5e65cf5c41c8",
       "rows": [
        [
         "SVC",
         "0.9322",
         "0.9334",
         "0.9782"
        ]
       ],
       "shape": {
        "columns": 3,
        "rows": 1
       }
      },
      "text/html": [
       "<div>\n",
       "<style scoped>\n",
       "    .dataframe tbody tr th:only-of-type {\n",
       "        vertical-align: middle;\n",
       "    }\n",
       "\n",
       "    .dataframe tbody tr th {\n",
       "        vertical-align: top;\n",
       "    }\n",
       "\n",
       "    .dataframe thead th {\n",
       "        text-align: right;\n",
       "    }\n",
       "</style>\n",
       "<table border=\"1\" class=\"dataframe\">\n",
       "  <thead>\n",
       "    <tr style=\"text-align: right;\">\n",
       "      <th></th>\n",
       "      <th>accuracy</th>\n",
       "      <th>f1</th>\n",
       "      <th>roc_auc</th>\n",
       "    </tr>\n",
       "    <tr>\n",
       "      <th>model</th>\n",
       "      <th></th>\n",
       "      <th></th>\n",
       "      <th></th>\n",
       "    </tr>\n",
       "  </thead>\n",
       "  <tbody>\n",
       "    <tr>\n",
       "      <th>SVC</th>\n",
       "      <td>0.9322</td>\n",
       "      <td>0.9334</td>\n",
       "      <td>0.9782</td>\n",
       "    </tr>\n",
       "  </tbody>\n",
       "</table>\n",
       "</div>"
      ],
      "text/plain": [
       "       accuracy      f1  roc_auc\n",
       "model                           \n",
       "SVC      0.9322  0.9334   0.9782"
      ]
     },
     "metadata": {},
     "output_type": "display_data"
    },
    {
     "name": "stdout",
     "output_type": "stream",
     "text": [
      "\n",
      "🧹 CLEANING STRATEGY ANALYSIS:\n",
      "Average performance by cleaning strategy:\n"
     ]
    },
    {
     "data": {
      "application/vnd.microsoft.datawrangler.viewer.v0+json": {
       "columns": [
        {
         "name": "cleaning_strategy",
         "rawType": "object",
         "type": "string"
        },
        {
         "name": "accuracy",
         "rawType": "float64",
         "type": "float"
        },
        {
         "name": "f1",
         "rawType": "float64",
         "type": "float"
        },
        {
         "name": "roc_auc",
         "rawType": "float64",
         "type": "float"
        }
       ],
       "ref": "f9c56978-8ad8-4e87-bc80-c95b9829dd3f",
       "rows": [
        [
         "Aggressive",
         "0.9322",
         "0.9334",
         "0.9782"
        ]
       ],
       "shape": {
        "columns": 3,
        "rows": 1
       }
      },
      "text/html": [
       "<div>\n",
       "<style scoped>\n",
       "    .dataframe tbody tr th:only-of-type {\n",
       "        vertical-align: middle;\n",
       "    }\n",
       "\n",
       "    .dataframe tbody tr th {\n",
       "        vertical-align: top;\n",
       "    }\n",
       "\n",
       "    .dataframe thead th {\n",
       "        text-align: right;\n",
       "    }\n",
       "</style>\n",
       "<table border=\"1\" class=\"dataframe\">\n",
       "  <thead>\n",
       "    <tr style=\"text-align: right;\">\n",
       "      <th></th>\n",
       "      <th>accuracy</th>\n",
       "      <th>f1</th>\n",
       "      <th>roc_auc</th>\n",
       "    </tr>\n",
       "    <tr>\n",
       "      <th>cleaning_strategy</th>\n",
       "      <th></th>\n",
       "      <th></th>\n",
       "      <th></th>\n",
       "    </tr>\n",
       "  </thead>\n",
       "  <tbody>\n",
       "    <tr>\n",
       "      <th>Aggressive</th>\n",
       "      <td>0.9322</td>\n",
       "      <td>0.9334</td>\n",
       "      <td>0.9782</td>\n",
       "    </tr>\n",
       "  </tbody>\n",
       "</table>\n",
       "</div>"
      ],
      "text/plain": [
       "                   accuracy      f1  roc_auc\n",
       "cleaning_strategy                           \n",
       "Aggressive           0.9322  0.9334   0.9782"
      ]
     },
     "metadata": {},
     "output_type": "display_data"
    }
   ],
   "source": [
    "### **Create Comprehensive Visualizations**\n",
    "\n",
    "# 1. Overall Experiment Results\n",
    "print(\"\\n📊 Creating comprehensive experiment results visualization...\")\n",
    "plot_experiment_results(results_df, save_path=f'../models/experiment_results_{timestamp}.png')\n",
    "\n",
    "# 2. Model Comparison Analysis\n",
    "print(\"\\n🤖 Creating detailed model comparison visualization...\")\n",
    "plot_model_comparison(results_df, save_path=f'../models/model_comparison_{timestamp}.png')\n",
    "\n",
    "# 3. Feature Analysis\n",
    "print(\"\\n📋 Creating feature combination analysis visualization...\")\n",
    "plot_feature_analysis(results_df, save_path=f'../models/feature_analysis_{timestamp}.png')\n",
    "\n",
    "### **Detailed Results Table**\n",
    "print(f\"\\n📊 DETAILED RESULTS:\")\n",
    "results_pivot = results_df.pivot_table(\n",
    "    values=['accuracy', 'f1', 'roc_auc'], \n",
    "    index='experiment', \n",
    "    columns='model',\n",
    "    aggfunc='mean'\n",
    ").round(4)\n",
    "\n",
    "display(results_pivot)\n",
    "\n",
    "### **Feature Analysis**\n",
    "print(\"\\n🔍 FEATURE ANALYSIS:\")\n",
    "feature_performance = results_df.groupby('experiment')[['accuracy', 'f1', 'roc_auc']].mean().sort_values('accuracy', ascending=False)\n",
    "print(\"Average performance by feature combination:\")\n",
    "display(feature_performance.round(4))\n",
    "\n",
    "### **Model Analysis**\n",
    "print(\"\\n�� MODEL ANALYSIS:\")\n",
    "model_performance = results_df.groupby('model')[['accuracy', 'f1', 'roc_auc']].mean().sort_values('accuracy', ascending=False)\n",
    "print(\"Average performance by model:\")\n",
    "display(model_performance.round(4))\n",
    "\n",
    "### **Cleaning Strategy Analysis**\n",
    "print(\"\\n🧹 CLEANING STRATEGY ANALYSIS:\")\n",
    "cleaning_performance = results_df.groupby('cleaning_strategy')[['accuracy', 'f1', 'roc_auc']].mean()\n",
    "print(\"Average performance by cleaning strategy:\")\n",
    "display(cleaning_performance.round(4))"
   ]
  },
  {
   "cell_type": "markdown",
   "id": "a3b86d6c",
   "metadata": {},
   "source": [
    "---\n",
    "\n",
    "## **🏆 6. (NEW v.) Best Model Selection & Training**\n",
    "\n",
    "### **Select Best Configuration**\n"
   ]
  },
  {
   "cell_type": "code",
   "execution_count": 15,
   "id": "2e249f29",
   "metadata": {},
   "outputs": [
    {
     "ename": "KeyError",
     "evalue": "'notes'",
     "output_type": "error",
     "traceback": [
      "\u001b[0;31m---------------------------------------------------------------------------\u001b[0m",
      "\u001b[0;31mKeyError\u001b[0m                                  Traceback (most recent call last)",
      "File \u001b[0;32m/opt/anaconda3/envs/datasci_env/lib/python3.12/site-packages/pandas/core/indexes/base.py:3812\u001b[0m, in \u001b[0;36mIndex.get_loc\u001b[0;34m(self, key)\u001b[0m\n\u001b[1;32m   3811\u001b[0m \u001b[38;5;28;01mtry\u001b[39;00m:\n\u001b[0;32m-> 3812\u001b[0m     \u001b[38;5;28;01mreturn\u001b[39;00m \u001b[38;5;28;43mself\u001b[39;49m\u001b[38;5;241;43m.\u001b[39;49m\u001b[43m_engine\u001b[49m\u001b[38;5;241;43m.\u001b[39;49m\u001b[43mget_loc\u001b[49m\u001b[43m(\u001b[49m\u001b[43mcasted_key\u001b[49m\u001b[43m)\u001b[49m\n\u001b[1;32m   3813\u001b[0m \u001b[38;5;28;01mexcept\u001b[39;00m \u001b[38;5;167;01mKeyError\u001b[39;00m \u001b[38;5;28;01mas\u001b[39;00m err:\n",
      "File \u001b[0;32mindex.pyx:167\u001b[0m, in \u001b[0;36mpandas._libs.index.IndexEngine.get_loc\u001b[0;34m()\u001b[0m\n",
      "File \u001b[0;32mindex.pyx:196\u001b[0m, in \u001b[0;36mpandas._libs.index.IndexEngine.get_loc\u001b[0;34m()\u001b[0m\n",
      "File \u001b[0;32mpandas/_libs/hashtable_class_helper.pxi:7088\u001b[0m, in \u001b[0;36mpandas._libs.hashtable.PyObjectHashTable.get_item\u001b[0;34m()\u001b[0m\n",
      "File \u001b[0;32mpandas/_libs/hashtable_class_helper.pxi:7096\u001b[0m, in \u001b[0;36mpandas._libs.hashtable.PyObjectHashTable.get_item\u001b[0;34m()\u001b[0m\n",
      "\u001b[0;31mKeyError\u001b[0m: 'notes'",
      "\nThe above exception was the direct cause of the following exception:\n",
      "\u001b[0;31mKeyError\u001b[0m                                  Traceback (most recent call last)",
      "Cell \u001b[0;32mIn[15], line 7\u001b[0m\n\u001b[1;32m      4\u001b[0m best_config \u001b[38;5;241m=\u001b[39m results_df\u001b[38;5;241m.\u001b[39mloc[results_df[\u001b[38;5;124m'\u001b[39m\u001b[38;5;124mf1\u001b[39m\u001b[38;5;124m'\u001b[39m]\u001b[38;5;241m.\u001b[39midxmax()]\n\u001b[1;32m      6\u001b[0m \u001b[38;5;66;03m### **Train Final Model on Full Dataset**\u001b[39;00m\n\u001b[0;32m----> 7\u001b[0m best_experiment_notes \u001b[38;5;241m=\u001b[39m \u001b[43mbest_config\u001b[49m\u001b[43m[\u001b[49m\u001b[38;5;124;43m'\u001b[39;49m\u001b[38;5;124;43mnotes\u001b[39;49m\u001b[38;5;124;43m'\u001b[39;49m\u001b[43m]\u001b[49m\n\u001b[1;32m      8\u001b[0m best_model_name \u001b[38;5;241m=\u001b[39m best_config[\u001b[38;5;124m'\u001b[39m\u001b[38;5;124mmodel_name\u001b[39m\u001b[38;5;124m'\u001b[39m]\n\u001b[1;32m     10\u001b[0m \u001b[38;5;66;03m# Extract features from notes\u001b[39;00m\n",
      "File \u001b[0;32m/opt/anaconda3/envs/datasci_env/lib/python3.12/site-packages/pandas/core/series.py:1130\u001b[0m, in \u001b[0;36mSeries.__getitem__\u001b[0;34m(self, key)\u001b[0m\n\u001b[1;32m   1127\u001b[0m     \u001b[38;5;28;01mreturn\u001b[39;00m \u001b[38;5;28mself\u001b[39m\u001b[38;5;241m.\u001b[39m_values[key]\n\u001b[1;32m   1129\u001b[0m \u001b[38;5;28;01melif\u001b[39;00m key_is_scalar:\n\u001b[0;32m-> 1130\u001b[0m     \u001b[38;5;28;01mreturn\u001b[39;00m \u001b[38;5;28;43mself\u001b[39;49m\u001b[38;5;241;43m.\u001b[39;49m\u001b[43m_get_value\u001b[49m\u001b[43m(\u001b[49m\u001b[43mkey\u001b[49m\u001b[43m)\u001b[49m\n\u001b[1;32m   1132\u001b[0m \u001b[38;5;66;03m# Convert generator to list before going through hashable part\u001b[39;00m\n\u001b[1;32m   1133\u001b[0m \u001b[38;5;66;03m# (We will iterate through the generator there to check for slices)\u001b[39;00m\n\u001b[1;32m   1134\u001b[0m \u001b[38;5;28;01mif\u001b[39;00m is_iterator(key):\n",
      "File \u001b[0;32m/opt/anaconda3/envs/datasci_env/lib/python3.12/site-packages/pandas/core/series.py:1246\u001b[0m, in \u001b[0;36mSeries._get_value\u001b[0;34m(self, label, takeable)\u001b[0m\n\u001b[1;32m   1243\u001b[0m     \u001b[38;5;28;01mreturn\u001b[39;00m \u001b[38;5;28mself\u001b[39m\u001b[38;5;241m.\u001b[39m_values[label]\n\u001b[1;32m   1245\u001b[0m \u001b[38;5;66;03m# Similar to Index.get_value, but we do not fall back to positional\u001b[39;00m\n\u001b[0;32m-> 1246\u001b[0m loc \u001b[38;5;241m=\u001b[39m \u001b[38;5;28;43mself\u001b[39;49m\u001b[38;5;241;43m.\u001b[39;49m\u001b[43mindex\u001b[49m\u001b[38;5;241;43m.\u001b[39;49m\u001b[43mget_loc\u001b[49m\u001b[43m(\u001b[49m\u001b[43mlabel\u001b[49m\u001b[43m)\u001b[49m\n\u001b[1;32m   1248\u001b[0m \u001b[38;5;28;01mif\u001b[39;00m is_integer(loc):\n\u001b[1;32m   1249\u001b[0m     \u001b[38;5;28;01mreturn\u001b[39;00m \u001b[38;5;28mself\u001b[39m\u001b[38;5;241m.\u001b[39m_values[loc]\n",
      "File \u001b[0;32m/opt/anaconda3/envs/datasci_env/lib/python3.12/site-packages/pandas/core/indexes/base.py:3819\u001b[0m, in \u001b[0;36mIndex.get_loc\u001b[0;34m(self, key)\u001b[0m\n\u001b[1;32m   3814\u001b[0m     \u001b[38;5;28;01mif\u001b[39;00m \u001b[38;5;28misinstance\u001b[39m(casted_key, \u001b[38;5;28mslice\u001b[39m) \u001b[38;5;129;01mor\u001b[39;00m (\n\u001b[1;32m   3815\u001b[0m         \u001b[38;5;28misinstance\u001b[39m(casted_key, abc\u001b[38;5;241m.\u001b[39mIterable)\n\u001b[1;32m   3816\u001b[0m         \u001b[38;5;129;01mand\u001b[39;00m \u001b[38;5;28many\u001b[39m(\u001b[38;5;28misinstance\u001b[39m(x, \u001b[38;5;28mslice\u001b[39m) \u001b[38;5;28;01mfor\u001b[39;00m x \u001b[38;5;129;01min\u001b[39;00m casted_key)\n\u001b[1;32m   3817\u001b[0m     ):\n\u001b[1;32m   3818\u001b[0m         \u001b[38;5;28;01mraise\u001b[39;00m InvalidIndexError(key)\n\u001b[0;32m-> 3819\u001b[0m     \u001b[38;5;28;01mraise\u001b[39;00m \u001b[38;5;167;01mKeyError\u001b[39;00m(key) \u001b[38;5;28;01mfrom\u001b[39;00m \u001b[38;5;21;01merr\u001b[39;00m\n\u001b[1;32m   3820\u001b[0m \u001b[38;5;28;01mexcept\u001b[39;00m \u001b[38;5;167;01mTypeError\u001b[39;00m:\n\u001b[1;32m   3821\u001b[0m     \u001b[38;5;66;03m# If we have a listlike key, _check_indexing_error will raise\u001b[39;00m\n\u001b[1;32m   3822\u001b[0m     \u001b[38;5;66;03m#  InvalidIndexError. Otherwise we fall through and re-raise\u001b[39;00m\n\u001b[1;32m   3823\u001b[0m     \u001b[38;5;66;03m#  the TypeError.\u001b[39;00m\n\u001b[1;32m   3824\u001b[0m     \u001b[38;5;28mself\u001b[39m\u001b[38;5;241m.\u001b[39m_check_indexing_error(key)\n",
      "\u001b[0;31mKeyError\u001b[0m: 'notes'"
     ]
    }
   ],
   "source": [
    "### NEW from DSeek wedns.\n",
    "\n",
    "# Use the results from the unified tracker\n",
    "best_config = results_df.loc[results_df['f1'].idxmax()]\n",
    "\n",
    "### **Train Final Model on Full Dataset**\n",
    "best_experiment_notes = best_config['notes']\n",
    "best_model_name = best_config['model_name']\n",
    "\n",
    "# Extract features from notes\n",
    "features_str = best_config['notes'].replace(\"Features: \", \"\").strip(\"[]\").replace(\"'\", \"\")\n",
    "best_features = [feature.strip() for feature in features_str.split(\",\")]\n",
    "\n",
    "# Find the right dataset based on preprocessing strategy\n",
    "if best_config['preprocessing'] == 'basic':\n",
    "    best_data = df_basic\n",
    "else:\n",
    "    best_data = df_aggressive\n",
    "\n",
    "print(f\"\\n🚀 Training final model on full dataset...\")\n",
    "print(f\"   Features: {best_features}\")\n",
    "print(f\"   Cleaning: {best_config['preprocessing']}\")\n",
    "\n",
    "# Prepare full dataset\n",
    "X_full_text = combine_text_features(best_data, best_features)\n",
    "y_full = best_data['label']\n",
    "\n",
    "# Create embeddings for full dataset\n",
    "print(\"   🔄 Creating embeddings for full dataset...\")\n",
    "X_full_embeddings = sentence_model.encode(X_full_text.tolist(), show_progress_bar=True)\n",
    "\n",
    "# Train final model\n",
    "final_model = models_to_test[best_model_name]\n",
    "final_model.fit(X_full_embeddings, y_full)\n",
    "\n",
    "print(\"✅ Final model trained successfully!\")\n",
    "\n",
    "### **Save Model and Metadata**\n",
    "model_filename = f'../models/best_model_{best_model_name.lower().replace(\" \", \"_\")}_{timestamp}.pkl'\n",
    "joblib.dump(final_model, model_filename)\n",
    "\n",
    "# Also save metadata about the best model\n",
    "metadata = {\n",
    "    'model_type': best_model_name,\n",
    "    'experiment_type': 'sentence_transformers',\n",
    "    'preprocessing': best_config['preprocessing'],\n",
    "    'features': best_features,\n",
    "    'embedding_model': 'all-MiniLM-L6-v2',\n",
    "    'accuracy': best_config['accuracy'],\n",
    "    'f1_score': best_config['f1_score'],\n",
    "    'roc_auc': best_config['roc_auc'],\n",
    "    'timestamp': timestamp\n",
    "}\n",
    "\n",
    "metadata_df = pd.DataFrame([metadata])\n",
    "metadata_df.to_csv(f'../models/best_model_metadata_{timestamp}.csv', index=False)\n",
    "\n",
    "print(f\"💾 Model saved: {model_filename}\")\n",
    "print(f\"💾 Metadata saved: ../models/best_model_metadata_{timestamp}.csv\")\n",
    "print(f\"💾 All results logged to unified experiment tracker\")\n",
    "\n",
    "print(\"\\n🎉 ENHANCED EMBEDDING EXPERIMENTS COMPLETED SUCCESSFULLY!\")"
   ]
  },
  {
   "cell_type": "code",
   "execution_count": 16,
   "id": "4e1add0e",
   "metadata": {},
   "outputs": [
    {
     "name": "stdout",
     "output_type": "stream",
     "text": [
      "🎯 SELECTED BEST CONFIGURATION:\n",
      "   Experiment: Text_only\n",
      "   Model: SVC\n",
      "   ROC-AUC: 0.9907\n",
      "   Accuracy: 0.9553\n",
      "   F1-Score: 0.9557\n"
     ]
    }
   ],
   "source": [
    "#### LEAVE CURSOR Old v. tuesday\n",
    "\n",
    "# Choose best based on F1\n",
    "best_config = results_df.loc[results_df['f1'].idxmax()]\n",
    "print(f\"🎯 SELECTED BEST CONFIGURATION:\")\n",
    "print(f\"   Experiment: {best_config['experiment']}\")\n",
    "print(f\"   Model: {best_config['model']}\")\n",
    "print(f\"   ROC-AUC: {best_config['roc_auc']:.4f}\")\n",
    "print(f\"   Accuracy: {best_config['accuracy']:.4f}\")\n",
    "print(f\"   F1-Score: {best_config['f1']:.4f}\")\n"
   ]
  },
  {
   "cell_type": "markdown",
   "id": "bdf58e36",
   "metadata": {},
   "source": [
    "\n",
    "### **Train Final Model on Full Dataset**\n"
   ]
  },
  {
   "cell_type": "code",
   "execution_count": null,
   "id": "fcb9f32c",
   "metadata": {},
   "outputs": [
    {
     "name": "stdout",
     "output_type": "stream",
     "text": [
      "\n",
      "🚀 Training final model on full dataset...\n",
      "   Features: ['clean_text']\n",
      "   Cleaning: aggressive\n",
      "   🔄 Creating embeddings for full dataset...\n"
     ]
    },
    {
     "data": {
      "application/vnd.jupyter.widget-view+json": {
       "model_id": "613ea73bd8f44d5fb4a201cdcd6b3597",
       "version_major": 2,
       "version_minor": 0
      },
      "text/plain": [
       "Batches:   0%|          | 0/1249 [00:00<?, ?it/s]"
      ]
     },
     "metadata": {},
     "output_type": "display_data"
    },
    {
     "name": "stdout",
     "output_type": "stream",
     "text": [
      "✅ Final model trained successfully!\n",
      "💾 Model saved: ../models/best_model_svm_20250903_020107.pkl\n",
      "💾 All results tracked in: ../models/experiment_tracking/all_results.csv\n",
      "�� Experiment history: ../models/experiment_tracking/experiment_history.json\n",
      "\n",
      "�� ENHANCED EMBEDDING EXPERIMENTS COMPLETED SUCCESSFULLY!\n",
      "\n",
      "📊 FINAL EXPERIMENT SUMMARY:\n"
     ]
    },
    {
     "ename": "KeyError",
     "evalue": "\"['timestamp'] not in index\"",
     "output_type": "error",
     "traceback": [
      "\u001b[0;31m---------------------------------------------------------------------------\u001b[0m",
      "\u001b[0;31mKeyError\u001b[0m                                  Traceback (most recent call last)",
      "Cell \u001b[0;32mIn[21], line 40\u001b[0m\n\u001b[1;32m     38\u001b[0m \u001b[38;5;28mprint\u001b[39m(\u001b[38;5;124m\"\u001b[39m\u001b[38;5;130;01m\\n\u001b[39;00m\u001b[38;5;124m�� ENHANCED EMBEDDING EXPERIMENTS COMPLETED SUCCESSFULLY!\u001b[39m\u001b[38;5;124m\"\u001b[39m)\n\u001b[1;32m     39\u001b[0m \u001b[38;5;28mprint\u001b[39m(\u001b[38;5;124m\"\u001b[39m\u001b[38;5;130;01m\\n\u001b[39;00m\u001b[38;5;124m📊 FINAL EXPERIMENT SUMMARY:\u001b[39m\u001b[38;5;124m\"\u001b[39m)\n\u001b[0;32m---> 40\u001b[0m \u001b[38;5;28mprint\u001b[39m(\u001b[43mtracker\u001b[49m\u001b[38;5;241;43m.\u001b[39;49m\u001b[43mget_experiment_summary\u001b[49m\u001b[43m(\u001b[49m\u001b[43m)\u001b[49m)\n",
      "File \u001b[0;32m~/Documents/Ironhack/M5/W5-W30_Proj/1-Lab-1/project-nlp-challenge_cursor/src/modeling_utils.py:106\u001b[0m, in \u001b[0;36mExperimentTracker.get_experiment_summary\u001b[0;34m(self)\u001b[0m\n\u001b[1;32m     91\u001b[0m         \u001b[38;5;28;01mif\u001b[39;00m \u001b[38;5;28mlen\u001b[39m(\u001b[38;5;28mself\u001b[39m\u001b[38;5;241m.\u001b[39mall_results) \u001b[38;5;241m==\u001b[39m \u001b[38;5;241m0\u001b[39m:\n\u001b[1;32m     92\u001b[0m             \u001b[38;5;28;01mreturn\u001b[39;00m \u001b[38;5;124m\"\u001b[39m\u001b[38;5;124mNo experiments completed yet\u001b[39m\u001b[38;5;124m\"\u001b[39m\n\u001b[1;32m     94\u001b[0m         summary \u001b[38;5;241m=\u001b[39m \u001b[38;5;124mf\u001b[39m\u001b[38;5;124m\"\"\"\u001b[39m\n\u001b[1;32m     95\u001b[0m \u001b[38;5;124m🔬 EXPERIMENT TRACKING SUMMARY\u001b[39m\n\u001b[1;32m     96\u001b[0m \u001b[38;5;132;01m{\u001b[39;00m\u001b[38;5;124m'\u001b[39m\u001b[38;5;124m=\u001b[39m\u001b[38;5;124m'\u001b[39m\u001b[38;5;241m*\u001b[39m\u001b[38;5;241m50\u001b[39m\u001b[38;5;132;01m}\u001b[39;00m\n\u001b[1;32m     97\u001b[0m \u001b[38;5;124m📊 Total Experiments: \u001b[39m\u001b[38;5;132;01m{\u001b[39;00m\u001b[38;5;28mlen\u001b[39m(\u001b[38;5;28mself\u001b[39m\u001b[38;5;241m.\u001b[39mall_results)\u001b[38;5;132;01m}\u001b[39;00m\n\u001b[1;32m     98\u001b[0m \u001b[38;5;124m🏆 Best Accuracy: \u001b[39m\u001b[38;5;132;01m{\u001b[39;00m\u001b[38;5;28mself\u001b[39m\u001b[38;5;241m.\u001b[39mall_results[\u001b[38;5;124m'\u001b[39m\u001b[38;5;124maccuracy\u001b[39m\u001b[38;5;124m'\u001b[39m]\u001b[38;5;241m.\u001b[39mmax()\u001b[38;5;132;01m:\u001b[39;00m\u001b[38;5;124m.4f\u001b[39m\u001b[38;5;132;01m}\u001b[39;00m\n\u001b[1;32m     99\u001b[0m \u001b[38;5;124m🏆 Best ROC-AUC: \u001b[39m\u001b[38;5;132;01m{\u001b[39;00m\u001b[38;5;28mself\u001b[39m\u001b[38;5;241m.\u001b[39mall_results[\u001b[38;5;124m'\u001b[39m\u001b[38;5;124mroc_auc\u001b[39m\u001b[38;5;124m'\u001b[39m]\u001b[38;5;241m.\u001b[39mmax()\u001b[38;5;132;01m:\u001b[39;00m\u001b[38;5;124m.4f\u001b[39m\u001b[38;5;132;01m}\u001b[39;00m\n\u001b[1;32m    100\u001b[0m \u001b[38;5;124m🏆 Best F1-Score: \u001b[39m\u001b[38;5;132;01m{\u001b[39;00m\u001b[38;5;28mself\u001b[39m\u001b[38;5;241m.\u001b[39mall_results[\u001b[38;5;124m'\u001b[39m\u001b[38;5;124mf1\u001b[39m\u001b[38;5;124m'\u001b[39m]\u001b[38;5;241m.\u001b[39mmax()\u001b[38;5;132;01m:\u001b[39;00m\u001b[38;5;124m.4f\u001b[39m\u001b[38;5;132;01m}\u001b[39;00m\n\u001b[1;32m    101\u001b[0m \n\u001b[1;32m    102\u001b[0m \u001b[38;5;124m📋 Feature Combinations Tested: \u001b[39m\u001b[38;5;132;01m{\u001b[39;00m\u001b[38;5;28mself\u001b[39m\u001b[38;5;241m.\u001b[39mall_results[\u001b[38;5;124m'\u001b[39m\u001b[38;5;124mexperiment\u001b[39m\u001b[38;5;124m'\u001b[39m]\u001b[38;5;241m.\u001b[39mnunique()\u001b[38;5;132;01m}\u001b[39;00m\n\u001b[1;32m    103\u001b[0m \u001b[38;5;124m🤖 Models Tested: \u001b[39m\u001b[38;5;132;01m{\u001b[39;00m\u001b[38;5;28mself\u001b[39m\u001b[38;5;241m.\u001b[39mall_results[\u001b[38;5;124m'\u001b[39m\u001b[38;5;124mmodel\u001b[39m\u001b[38;5;124m'\u001b[39m]\u001b[38;5;241m.\u001b[39mnunique()\u001b[38;5;132;01m}\u001b[39;00m\n\u001b[1;32m    104\u001b[0m \n\u001b[1;32m    105\u001b[0m \u001b[38;5;124m🎯 TOP 3 EXPERIMENTS BY ROC-AUC:\u001b[39m\n\u001b[0;32m--> 106\u001b[0m \u001b[38;5;132;01m{\u001b[39;00m\u001b[38;5;28;43mself\u001b[39;49m\u001b[38;5;241;43m.\u001b[39;49m\u001b[43mget_best_experiments\u001b[49m\u001b[43m(\u001b[49m\u001b[38;5;124;43m'\u001b[39;49m\u001b[38;5;124;43mroc_auc\u001b[39;49m\u001b[38;5;124;43m'\u001b[39;49m\u001b[43m,\u001b[49m\u001b[38;5;250;43m \u001b[39;49m\u001b[38;5;241;43m3\u001b[39;49m\u001b[43m)\u001b[49m\u001b[38;5;241m.\u001b[39mto_string(index\u001b[38;5;241m=\u001b[39m\u001b[38;5;28;01mFalse\u001b[39;00m)\u001b[38;5;132;01m}\u001b[39;00m\n\u001b[1;32m    107\u001b[0m \u001b[38;5;124m        \u001b[39m\u001b[38;5;124m\"\"\"\u001b[39m\n\u001b[1;32m    108\u001b[0m         \u001b[38;5;28;01mreturn\u001b[39;00m summary\n",
      "File \u001b[0;32m~/Documents/Ironhack/M5/W5-W30_Proj/1-Lab-1/project-nlp-challenge_cursor/src/modeling_utils.py:87\u001b[0m, in \u001b[0;36mExperimentTracker.get_best_experiments\u001b[0;34m(self, metric, top_n)\u001b[0m\n\u001b[1;32m     84\u001b[0m \u001b[38;5;28;01mif\u001b[39;00m \u001b[38;5;28mlen\u001b[39m(\u001b[38;5;28mself\u001b[39m\u001b[38;5;241m.\u001b[39mall_results) \u001b[38;5;241m==\u001b[39m \u001b[38;5;241m0\u001b[39m:\n\u001b[1;32m     85\u001b[0m     \u001b[38;5;28;01mreturn\u001b[39;00m pd\u001b[38;5;241m.\u001b[39mDataFrame()\n\u001b[0;32m---> 87\u001b[0m \u001b[38;5;28;01mreturn\u001b[39;00m \u001b[38;5;28;43mself\u001b[39;49m\u001b[38;5;241;43m.\u001b[39;49m\u001b[43mall_results\u001b[49m\u001b[38;5;241;43m.\u001b[39;49m\u001b[43mnlargest\u001b[49m\u001b[43m(\u001b[49m\u001b[43mtop_n\u001b[49m\u001b[43m,\u001b[49m\u001b[43m \u001b[49m\u001b[43mmetric\u001b[49m\u001b[43m)\u001b[49m\u001b[43m[\u001b[49m\u001b[43m[\u001b[49m\u001b[38;5;124;43m'\u001b[39;49m\u001b[38;5;124;43mexperiment\u001b[39;49m\u001b[38;5;124;43m'\u001b[39;49m\u001b[43m,\u001b[49m\u001b[43m \u001b[49m\u001b[38;5;124;43m'\u001b[39;49m\u001b[38;5;124;43mmodel\u001b[39;49m\u001b[38;5;124;43m'\u001b[39;49m\u001b[43m,\u001b[49m\u001b[43m \u001b[49m\u001b[43mmetric\u001b[49m\u001b[43m,\u001b[49m\u001b[43m \u001b[49m\u001b[38;5;124;43m'\u001b[39;49m\u001b[38;5;124;43maccuracy\u001b[39;49m\u001b[38;5;124;43m'\u001b[39;49m\u001b[43m,\u001b[49m\u001b[43m \u001b[49m\u001b[38;5;124;43m'\u001b[39;49m\u001b[38;5;124;43mf1\u001b[39;49m\u001b[38;5;124;43m'\u001b[39;49m\u001b[43m,\u001b[49m\u001b[43m \u001b[49m\u001b[38;5;124;43m'\u001b[39;49m\u001b[38;5;124;43mtimestamp\u001b[39;49m\u001b[38;5;124;43m'\u001b[39;49m\u001b[43m]\u001b[49m\u001b[43m]\u001b[49m\n",
      "File \u001b[0;32m/opt/anaconda3/envs/datasci_env/lib/python3.12/site-packages/pandas/core/frame.py:4113\u001b[0m, in \u001b[0;36mDataFrame.__getitem__\u001b[0;34m(self, key)\u001b[0m\n\u001b[1;32m   4111\u001b[0m     \u001b[38;5;28;01mif\u001b[39;00m is_iterator(key):\n\u001b[1;32m   4112\u001b[0m         key \u001b[38;5;241m=\u001b[39m \u001b[38;5;28mlist\u001b[39m(key)\n\u001b[0;32m-> 4113\u001b[0m     indexer \u001b[38;5;241m=\u001b[39m \u001b[38;5;28;43mself\u001b[39;49m\u001b[38;5;241;43m.\u001b[39;49m\u001b[43mcolumns\u001b[49m\u001b[38;5;241;43m.\u001b[39;49m\u001b[43m_get_indexer_strict\u001b[49m\u001b[43m(\u001b[49m\u001b[43mkey\u001b[49m\u001b[43m,\u001b[49m\u001b[43m \u001b[49m\u001b[38;5;124;43m\"\u001b[39;49m\u001b[38;5;124;43mcolumns\u001b[39;49m\u001b[38;5;124;43m\"\u001b[39;49m\u001b[43m)\u001b[49m[\u001b[38;5;241m1\u001b[39m]\n\u001b[1;32m   4115\u001b[0m \u001b[38;5;66;03m# take() does not accept boolean indexers\u001b[39;00m\n\u001b[1;32m   4116\u001b[0m \u001b[38;5;28;01mif\u001b[39;00m \u001b[38;5;28mgetattr\u001b[39m(indexer, \u001b[38;5;124m\"\u001b[39m\u001b[38;5;124mdtype\u001b[39m\u001b[38;5;124m\"\u001b[39m, \u001b[38;5;28;01mNone\u001b[39;00m) \u001b[38;5;241m==\u001b[39m \u001b[38;5;28mbool\u001b[39m:\n",
      "File \u001b[0;32m/opt/anaconda3/envs/datasci_env/lib/python3.12/site-packages/pandas/core/indexes/base.py:6212\u001b[0m, in \u001b[0;36mIndex._get_indexer_strict\u001b[0;34m(self, key, axis_name)\u001b[0m\n\u001b[1;32m   6209\u001b[0m \u001b[38;5;28;01melse\u001b[39;00m:\n\u001b[1;32m   6210\u001b[0m     keyarr, indexer, new_indexer \u001b[38;5;241m=\u001b[39m \u001b[38;5;28mself\u001b[39m\u001b[38;5;241m.\u001b[39m_reindex_non_unique(keyarr)\n\u001b[0;32m-> 6212\u001b[0m \u001b[38;5;28;43mself\u001b[39;49m\u001b[38;5;241;43m.\u001b[39;49m\u001b[43m_raise_if_missing\u001b[49m\u001b[43m(\u001b[49m\u001b[43mkeyarr\u001b[49m\u001b[43m,\u001b[49m\u001b[43m \u001b[49m\u001b[43mindexer\u001b[49m\u001b[43m,\u001b[49m\u001b[43m \u001b[49m\u001b[43maxis_name\u001b[49m\u001b[43m)\u001b[49m\n\u001b[1;32m   6214\u001b[0m keyarr \u001b[38;5;241m=\u001b[39m \u001b[38;5;28mself\u001b[39m\u001b[38;5;241m.\u001b[39mtake(indexer)\n\u001b[1;32m   6215\u001b[0m \u001b[38;5;28;01mif\u001b[39;00m \u001b[38;5;28misinstance\u001b[39m(key, Index):\n\u001b[1;32m   6216\u001b[0m     \u001b[38;5;66;03m# GH 42790 - Preserve name from an Index\u001b[39;00m\n",
      "File \u001b[0;32m/opt/anaconda3/envs/datasci_env/lib/python3.12/site-packages/pandas/core/indexes/base.py:6264\u001b[0m, in \u001b[0;36mIndex._raise_if_missing\u001b[0;34m(self, key, indexer, axis_name)\u001b[0m\n\u001b[1;32m   6261\u001b[0m     \u001b[38;5;28;01mraise\u001b[39;00m \u001b[38;5;167;01mKeyError\u001b[39;00m(\u001b[38;5;124mf\u001b[39m\u001b[38;5;124m\"\u001b[39m\u001b[38;5;124mNone of [\u001b[39m\u001b[38;5;132;01m{\u001b[39;00mkey\u001b[38;5;132;01m}\u001b[39;00m\u001b[38;5;124m] are in the [\u001b[39m\u001b[38;5;132;01m{\u001b[39;00maxis_name\u001b[38;5;132;01m}\u001b[39;00m\u001b[38;5;124m]\u001b[39m\u001b[38;5;124m\"\u001b[39m)\n\u001b[1;32m   6263\u001b[0m not_found \u001b[38;5;241m=\u001b[39m \u001b[38;5;28mlist\u001b[39m(ensure_index(key)[missing_mask\u001b[38;5;241m.\u001b[39mnonzero()[\u001b[38;5;241m0\u001b[39m]]\u001b[38;5;241m.\u001b[39munique())\n\u001b[0;32m-> 6264\u001b[0m \u001b[38;5;28;01mraise\u001b[39;00m \u001b[38;5;167;01mKeyError\u001b[39;00m(\u001b[38;5;124mf\u001b[39m\u001b[38;5;124m\"\u001b[39m\u001b[38;5;132;01m{\u001b[39;00mnot_found\u001b[38;5;132;01m}\u001b[39;00m\u001b[38;5;124m not in index\u001b[39m\u001b[38;5;124m\"\u001b[39m)\n",
      "\u001b[0;31mKeyError\u001b[0m: \"['timestamp'] not in index\""
     ]
    }
   ],
   "source": [
    "#### CURSOR Old v. tuesday\n",
    "\n",
    "# best_experiment_name = best_config['experiment']\n",
    "# best_model_name = best_config['model']\n",
    "\n",
    "# # Find the configuration\n",
    "# best_exp_config = None\n",
    "# for config in experimental_configs:\n",
    "#     if config['name'] == best_experiment_name:\n",
    "#         best_exp_config = config\n",
    "#         break\n",
    "\n",
    "# print(f\"\\n🚀 Training final model on full dataset...\")\n",
    "# print(f\"   Features: {best_exp_config['features']}\")\n",
    "# print(f\"   Cleaning: {best_exp_config['cleaning']}\")\n",
    "\n",
    "# # Prepare full dataset\n",
    "# full_data = best_exp_config['data']\n",
    "# X_full_text = combine_text_features(full_data, best_exp_config['features'])\n",
    "# y_full = full_data['label']\n",
    "\n",
    "# # Create embeddings for full dataset\n",
    "# print(\"   🔄 Creating embeddings for full dataset...\")\n",
    "# X_full_embeddings = sentence_model.encode(X_full_text.tolist(), show_progress_bar=True)\n",
    "\n",
    "# # Train final model\n",
    "# final_model = models_to_test[best_model_name]\n",
    "# final_model.fit(X_full_embeddings, y_full)\n",
    "\n",
    "# print(\"✅ Final model trained successfully!\")\n",
    "\n",
    "# ### **Save Model and Results**\n",
    "# model_filename = f'../models/best_model_{best_model_name.lower().replace(\" \", \"_\")}_{timestamp}.pkl'\n",
    "# joblib.dump(final_model, model_filename)\n",
    "\n",
    "# print(f\"💾 Model saved: {model_filename}\")\n",
    "# print(f\"💾 All results tracked in: {tracker.results_file}\")\n",
    "# print(f\"�� Experiment history: {tracker.experiment_history_file}\")\n",
    "\n",
    "# print(\"\\n�� ENHANCED EMBEDDING EXPERIMENTS COMPLETED SUCCESSFULLY!\")\n",
    "# print(\"\\n📊 FINAL EXPERIMENT SUMMARY:\")\n",
    "# print(tracker.get_experiment_summary())"
   ]
  },
  {
   "cell_type": "code",
   "execution_count": null,
   "id": "f6b0f97b",
   "metadata": {},
   "outputs": [],
   "source": [
    "\n",
    "# Get the best configuration details\n",
    "best_experiment_name = best_config['experiment']\n",
    "best_model_name = best_config['model']\n",
    "\n",
    "# Find the configuration\n",
    "best_exp_config = None\n",
    "for config in experimental_configs:\n",
    "    if config['name'] == best_experiment_name:\n",
    "        best_exp_config = config\n",
    "        break\n",
    "\n",
    "print(f\"\\n🚀 Training final model on full dataset...\")\n",
    "print(f\"   Features: {best_exp_config['features']}\")\n",
    "print(f\"   Cleaning: {best_exp_config['cleaning']}\")\n",
    "\n",
    "# Prepare full dataset\n",
    "full_data = best_exp_config['data']\n",
    "X_full_text = combine_text_features(full_data, best_exp_config['features'])\n",
    "y_full = full_data['label']\n",
    "\n",
    "# Create embeddings for full dataset\n",
    "print(\"   🔄 Creating embeddings for full dataset...\")\n",
    "X_full_embeddings = sentence_model.encode(X_full_text.tolist(), show_progress_bar=True)\n",
    "\n",
    "# Train final model\n",
    "final_model = models_to_test[best_model_name]\n",
    "final_model.fit(X_full_embeddings, y_full)\n",
    "\n",
    "print(\"✅ Final model trained successfully!\")\n",
    "\n",
    "### **Save Model and Results**\n",
    "\n",
    "# Save model\n",
    "model_filename = f'../models/best_model_{best_model_name.lower().replace(\" \", \"_\")}_{timestamp}.pkl'\n",
    "joblib.dump(final_model, model_filename)\n",
    "\n",
    "# Save results\n",
    "results_filename = f'../models/model_comparison_{timestamp}.csv'\n",
    "results_df.to_csv(results_filename, index=False)\n",
    "\n",
    "print(f\"💾 Model saved: {model_filename}\")\n",
    "print(f\"💾 Results saved: {results_filename}\")\n",
    "\n",
    "print(\"\\n🎊 EMBEDDING EXPERIMENTS COMPLETED SUCCESSFULLY!\")"
   ]
  },
  {
   "cell_type": "code",
   "execution_count": null,
   "id": "77287ff2",
   "metadata": {},
   "outputs": [
    {
     "ename": "NameError",
     "evalue": "name 'experimental_configs' is not defined",
     "output_type": "error",
     "traceback": [
      "\u001b[0;31m---------------------------------------------------------------------------\u001b[0m",
      "\u001b[0;31mNameError\u001b[0m                                 Traceback (most recent call last)",
      "Cell \u001b[0;32mIn[1], line 2\u001b[0m\n\u001b[1;32m      1\u001b[0m \u001b[38;5;66;03m# After running experiments, modify the results to match your format:\u001b[39;00m\n\u001b[0;32m----> 2\u001b[0m \u001b[38;5;28;01mfor\u001b[39;00m i, config \u001b[38;5;129;01min\u001b[39;00m \u001b[38;5;28menumerate\u001b[39m(\u001b[43mexperimental_configs\u001b[49m, \u001b[38;5;241m1\u001b[39m):\n\u001b[1;32m      3\u001b[0m     \u001b[38;5;66;03m# ... your existing experiment code ...\u001b[39;00m\n\u001b[1;32m      4\u001b[0m     \n\u001b[1;32m      5\u001b[0m     \u001b[38;5;66;03m# Test all models\u001b[39;00m\n\u001b[1;32m      6\u001b[0m     \u001b[38;5;28;01mfor\u001b[39;00m model_name, model \u001b[38;5;129;01min\u001b[39;00m models_to_test\u001b[38;5;241m.\u001b[39mitems():\n\u001b[1;32m      7\u001b[0m         \u001b[38;5;28mprint\u001b[39m(\u001b[38;5;124mf\u001b[39m\u001b[38;5;124m\"\u001b[39m\u001b[38;5;124m   🤖 Training \u001b[39m\u001b[38;5;132;01m{\u001b[39;00mmodel_name\u001b[38;5;132;01m}\u001b[39;00m\u001b[38;5;124m...\u001b[39m\u001b[38;5;124m\"\u001b[39m)\n",
      "\u001b[0;31mNameError\u001b[0m: name 'experimental_configs' is not defined"
     ]
    }
   ],
   "source": [
    "# After running experiments, modify the results to match your format:\n",
    "for i, config in enumerate(experimental_configs, 1):\n",
    "    # ... your existing experiment code ...\n",
    "    \n",
    "    # Test all models\n",
    "    for model_name, model in models_to_test.items():\n",
    "        print(f\"   🤖 Training {model_name}...\")\n",
    "        \n",
    "        # Train model\n",
    "        model.fit(X_train_embeddings, y_train)\n",
    "        \n",
    "        # Evaluate\n",
    "        results = evaluate_model_comprehensive(\n",
    "            model, X_test_embeddings, y_test, model_name, config_name\n",
    "        )\n",
    "        \n",
    "        # Convert to your expected format\n",
    "        experiment_data = {\n",
    "            'experiment_type': 'embeddings',  # Your experiment type\n",
    "            'model_name': model_name,\n",
    "            'experiment_name': config_name,\n",
    "            'accuracy': results['accuracy'],\n",
    "            'precision': results['precision'],\n",
    "            'recall': results['recall'],\n",
    "            'f1_score': results['f1'],  # Note: your function expects 'f1_score'\n",
    "            'roc_auc': results['roc_auc'],\n",
    "            'cleaning_strategy': config['cleaning'],\n",
    "            'features_used': ' | '.join(config['features']),\n",
    "            'test_size': len(y_test),\n",
    "            'training_size': len(y_train)\n",
    "        }\n",
    "        \n",
    "        # Log using your existing function\n",
    "        experiment_id = log_experiment(experiment_data)\n",
    "        all_results.append(results)\n",
    "        \n",
    "        print(f\"      ✅ Logged: {experiment_id} | Accuracy: {results['accuracy']:.4f} | F1: {results['f1']:.4f} | ROC-AUC: {results['roc_auc']:.4f}\")\n",
    "\n",
    "print(\"\\n\" + \"=\" * 70)\n",
    "print(\"🎉 All experiments completed and logged!\")"
   ]
  },
  {
   "cell_type": "markdown",
   "id": "d9f5a0c8",
   "metadata": {},
   "source": [
    "---------\n",
    "# DRAFTs"
   ]
  },
  {
   "cell_type": "markdown",
   "id": "f16abfc0",
   "metadata": {},
   "source": [
    "\n",
    "---\n",
    "\n",
    "## **🤖 4. Model Training 🚃 (old v.) **\n"
   ]
  },
  {
   "cell_type": "markdown",
   "id": "312c6697",
   "metadata": {},
   "source": [
    "\n",
    " **🚃  Train and evaluate different classifiers**\n"
   ]
  },
  {
   "cell_type": "code",
   "execution_count": null,
   "id": "2bf8e843",
   "metadata": {},
   "outputs": [
    {
     "name": "stdout",
     "output_type": "stream",
     "text": [
      "🤖 Initializing models...\n",
      "🚀 Training all models...\n",
      "   Training Logistic Regression...\n",
      "   Training Random Forest...\n",
      "   Training SVM...\n",
      "✅ All models trained successfully!\n"
     ]
    }
   ],
   "source": [
    "# print(\"🤖 Initializing models...\")\n",
    "# models = {\n",
    "#     'Logistic Regression': LogisticRegression(max_iter=1000, random_state=42),\n",
    "#     'Random Forest': RandomForestClassifier(n_estimators=100, random_state=42),\n",
    "#     'SVM': SVC(kernel='linear', probability=True, random_state=42)\n",
    "# }\n",
    "\n",
    "# print(\"🚀 Training all models...\")\n",
    "# for name, model in models.items():\n",
    "#     print(f\"   Training {name}...\")\n",
    "#     model.fit(X_train_embeddings, y_train)\n",
    "\n",
    "# print(\"✅ All models trained successfully!\")"
   ]
  },
  {
   "cell_type": "code",
   "execution_count": null,
   "id": "3588b749",
   "metadata": {},
   "outputs": [],
   "source": [
    "# # Cell 5: Train and evaluate different classifiers\n",
    "# # models = {\n",
    "# #     'Logistic Regression': LogisticRegression(max_iter=1000, random_state=42),\n",
    "# #     'Random Forest': RandomForestClassifier(n_estimators=100, random_state=42),\n",
    "# #     'SVM': SVC(kernel='linear', random_state=42)\n",
    "# # }\n",
    "\n",
    "# results = {}\n",
    "\n",
    "# for name, model in models.items():\n",
    "#     print(f\"\\n{'='*50}\")\n",
    "#     print(f\"Training {name}...\")\n",
    "    \n",
    "#     # Train model\n",
    "#     model.fit(X_train_embeddings, y_train)\n",
    "    \n",
    "#     # Predict and evaluate\n",
    "#     y_pred = model.predict(X_test_embeddings)\n",
    "#     accuracy = accuracy_score(y_test, y_pred)\n",
    "    \n",
    "#     results[name] = accuracy\n",
    "#     print(f\"{name} Accuracy: {accuracy:.4f}\")\n",
    "    \n",
    "#     # Detailed report\n",
    "#     print(\"\\nClassification Report:\")\n",
    "#     print(classification_report(y_test, y_pred))"
   ]
  },
  {
   "cell_type": "markdown",
   "id": "77001147",
   "metadata": {},
   "source": [
    "\n",
    "---\n",
    "\n",
    "## **📊 5. Comprehensive Model Evaluation**\n"
   ]
  },
  {
   "cell_type": "code",
   "execution_count": null,
   "id": "b5bcfacd",
   "metadata": {},
   "outputs": [
    {
     "name": "stdout",
     "output_type": "stream",
     "text": [
      "📊 Evaluating models comprehensively...\n",
      "\n",
      "🔍 Evaluating Logistic Regression...\n",
      "   ✅ Accuracy:  0.9304\n",
      "   ✅ Precision: 0.9233\n",
      "   ✅ Recall:    0.9390\n",
      "   ✅ F1 Score:  0.9311\n",
      "   ✅ ROC AUC:   0.9823\n",
      "\n",
      "🔍 Evaluating Random Forest...\n",
      "   ✅ Accuracy:  0.9180\n",
      "   ✅ Precision: 0.9027\n",
      "   ✅ Recall:    0.9373\n",
      "   ✅ F1 Score:  0.9197\n",
      "   ✅ ROC AUC:   0.9770\n",
      "\n",
      "🔍 Evaluating SVM...\n",
      "   ✅ Accuracy:  0.9388\n",
      "   ✅ Precision: 0.9281\n",
      "   ✅ Recall:    0.9515\n",
      "   ✅ F1 Score:  0.9396\n",
      "   ✅ ROC AUC:   0.9842\n"
     ]
    }
   ],
   "source": [
    "# # Evaluation functions\n",
    "# def comprehensive_evaluation(model, X_test, y_test, model_name=\"Model\"):\n",
    "#     \"\"\"Perform comprehensive evaluation with multiple metrics\"\"\"\n",
    "#     # Get predictions and probabilities\n",
    "#     y_pred = model.predict(X_test)\n",
    "#     y_pred_proba = model.predict_proba(X_test)[:, 1]\n",
    "    \n",
    "#     # Calculate all metrics\n",
    "#     metrics = {\n",
    "#         'accuracy': accuracy_score(y_test, y_pred),\n",
    "#         'precision': precision_score(y_test, y_pred),\n",
    "#         'recall': recall_score(y_test, y_pred),\n",
    "#         'f1': f1_score(y_test, y_pred),\n",
    "#         'roc_auc': roc_auc_score(y_test, y_pred_proba)\n",
    "#     }\n",
    "    \n",
    "#     return metrics, y_pred, y_pred_proba\n",
    "\n",
    "# print(\"📊 Evaluating models comprehensively...\")\n",
    "# results = {}\n",
    "# all_predictions = {}\n",
    "\n",
    "# for name, model in models.items():\n",
    "#     print(f\"\\n🔍 Evaluating {name}...\")\n",
    "#     metrics, y_pred, y_pred_proba = comprehensive_evaluation(model, X_test_embeddings, y_test, name)\n",
    "    \n",
    "#     results[name] = metrics\n",
    "#     all_predictions[name] = {'y_pred': y_pred, 'y_pred_proba': y_pred_proba}\n",
    "    \n",
    "#     # Display metrics\n",
    "#     print(f\"   ✅ Accuracy:  {metrics['accuracy']:.4f}\")\n",
    "#     print(f\"   ✅ Precision: {metrics['precision']:.4f}\")\n",
    "#     print(f\"   ✅ Recall:    {metrics['recall']:.4f}\")\n",
    "#     print(f\"   ✅ F1 Score:  {metrics['f1']:.4f}\")\n",
    "#     print(f\"   ✅ ROC AUC:   {metrics['roc_auc']:.4f}\")\n"
   ]
  },
  {
   "cell_type": "markdown",
   "id": "99f4b202",
   "metadata": {},
   "source": [
    "\n",
    "---\n",
    "\n",
    "## **📈 6. Advanced Visualizations**\n"
   ]
  },
  {
   "cell_type": "code",
   "execution_count": null,
   "id": "d72fe4cb",
   "metadata": {},
   "outputs": [
    {
     "name": "stdout",
     "output_type": "stream",
     "text": [
      "🎨 Generating advanced visualizations...\n"
     ]
    },
    {
     "data": {
      "image/png": "[encoded data removed]",
      "text/plain": [
       "<Figure size 1500x1000 with 6 Axes>"
      ]
     },
     "metadata": {},
     "output_type": "display_data"
    },
    {
     "data": {
      "image/png": "[encoded data removed]",
      "text/plain": [
       "<Figure size 1000x800 with 1 Axes>"
      ]
     },
     "metadata": {},
     "output_type": "display_data"
    },
    {
     "data": {
      "image/png": "[encoded data removed]",
      "text/plain": [
       "<Figure size 1800x500 with 6 Axes>"
      ]
     },
     "metadata": {},
     "output_type": "display_data"
    }
   ],
   "source": [
    "# print(\"🎨 Generating advanced visualizations...\")\n",
    "\n",
    "# # 1. Comparative Metrics Plot\n",
    "# results_df = pd.DataFrame(results).T\n",
    "# results_df = results_df.sort_values('roc_auc', ascending=False)\n",
    "\n",
    "# fig, axes = plt.subplots(2, 3, figsize=(15, 10))\n",
    "# metrics_list = ['accuracy', 'precision', 'recall', 'f1', 'roc_auc']\n",
    "\n",
    "# for i, metric in enumerate(metrics_list):\n",
    "#     ax = axes[i//3, i%3]\n",
    "#     results_df[metric].plot(kind='bar', ax=ax, color=['#FF6B6B', '#4ECDC4', '#45B7D1'])\n",
    "#     ax.set_title(f'{\" \".join(metric.split(\"_\")).title()} 📈', fontweight='bold')\n",
    "#     ax.set_ylabel('Score')\n",
    "#     ax.tick_params(axis='x', rotation=45)\n",
    "#     for j, v in enumerate(results_df[metric]):\n",
    "#         ax.text(j, v + 0.01, f'{v:.3f}', ha='center', va='bottom', fontweight='bold')\n",
    "\n",
    "# plt.tight_layout()\n",
    "# plt.show()\n",
    "\n",
    "# # 2. Comparative ROC Curves\n",
    "# plt.figure(figsize=(10, 8))\n",
    "# colors = ['#FF6B6B', '#4ECDC4', '#45B7D1']\n",
    "\n",
    "# for (name, preds), color in zip(all_predictions.items(), colors):\n",
    "#     fpr, tpr, _ = roc_curve(y_test, preds['y_pred_proba'])\n",
    "#     roc_auc = auc(fpr, tpr)\n",
    "#     plt.plot(fpr, tpr, lw=3, color=color, label=f'{name} (AUC = {roc_auc:.3f})')\n",
    "\n",
    "# plt.plot([0, 1], [0, 1], 'k--', alpha=0.5, label='Random classifier')\n",
    "# plt.xlabel('False Positive Rate 📉')\n",
    "# plt.ylabel('True Positive Rate 📈')\n",
    "# plt.title('Comparative ROC Curves 🎯', fontweight='bold')\n",
    "# plt.legend(loc=\"lower right\")\n",
    "# plt.grid(alpha=0.3)\n",
    "# plt.show()\n",
    "\n",
    "# # 3. Confusion Matrices\n",
    "# fig, axes = plt.subplots(1, 3, figsize=(18, 5))\n",
    "# for ax, (name, preds) in zip(axes, all_predictions.items()):\n",
    "#     cm = confusion_matrix(y_test, preds['y_pred'])\n",
    "#     sns.heatmap(cm, annot=True, fmt='d', cmap='Blues', ax=ax,\n",
    "#                 xticklabels=['Fake', 'Real'], yticklabels=['Fake', 'Real'])\n",
    "#     ax.set_title(f'{name} 🎯', fontweight='bold')\n",
    "#     ax.set_ylabel('True Label')\n",
    "#     ax.set_xlabel('Predicted Label')\n",
    "\n",
    "# plt.tight_layout()\n",
    "# plt.show()"
   ]
  },
  {
   "cell_type": "markdown",
   "id": "f8d9ce22",
   "metadata": {},
   "source": [
    "**📈  Visualize results**\n"
   ]
  },
  {
   "cell_type": "code",
   "execution_count": null,
   "id": "fd4bdac8",
   "metadata": {},
   "outputs": [],
   "source": [
    "# # Cell 6: Visualize results\n",
    "# print(\"\\n=== Final Results Comparison ===\")\n",
    "# results_df = pd.DataFrame.from_dict(results, orient='index', columns=['Accuracy'])\n",
    "# results_df = results_df.sort_values('Accuracy', ascending=False)\n",
    "\n",
    "# print(results_df)\n",
    "\n",
    "# # Plot results\n",
    "# plt.figure(figsize=(10, 6))\n",
    "# results_df.plot(kind='bar', legend=False)\n",
    "# plt.title('Model Performance with Sentence Transformer Embeddings')\n",
    "# plt.ylabel('Accuracy')\n",
    "# plt.xlabel('Model')\n",
    "# plt.xticks(rotation=45)\n",
    "# plt.grid(axis='y', linestyle='--', alpha=0.7)\n",
    "# plt.tight_layout()\n",
    "# plt.show()\n",
    "\n",
    "# # Save the best model\n",
    "# best_model_name = results_df.idxmax()[0]\n",
    "# best_model = models[best_model_name]\n",
    "# print(f\"\\nBest model: {best_model_name}\")\n",
    "\n",
    "# # # You can save the best model for later use\n",
    "# # import joblib\n",
    "# # joblib.dump(best_model, f'../models/best_model_{best_model_name.lower().replace(\" \", \"_\")}.pkl')\n",
    "# # print(\"✅ Best model saved!\")"
   ]
  },
  {
   "cell_type": "markdown",
   "id": "58448105",
   "metadata": {},
   "source": [
    "\n",
    "---\n",
    "\n",
    "## **🏆 7. Best Model Selection**\n"
   ]
  },
  {
   "cell_type": "code",
   "execution_count": null,
   "id": "71650f59",
   "metadata": {},
   "outputs": [
    {
     "name": "stdout",
     "output_type": "stream",
     "text": [
      "🏆 Selecting best model...\n",
      "📊 Final Results Comparison:\n",
      "==================================================\n"
     ]
    },
    {
     "data": {
      "application/vnd.microsoft.datawrangler.viewer.v0+json": {
       "columns": [
        {
         "name": "index",
         "rawType": "object",
         "type": "string"
        },
        {
         "name": "accuracy",
         "rawType": "float64",
         "type": "float"
        },
        {
         "name": "precision",
         "rawType": "float64",
         "type": "float"
        },
        {
         "name": "recall",
         "rawType": "float64",
         "type": "float"
        },
        {
         "name": "f1",
         "rawType": "float64",
         "type": "float"
        },
        {
         "name": "roc_auc",
         "rawType": "float64",
         "type": "float"
        }
       ],
       "ref": "50b53668-089d-47ae-871f-e06500a0a532",
       "rows": [
        [
         "SVM",
         "0.9388",
         "0.9281",
         "0.9515",
         "0.9396",
         "0.9842"
        ],
        [
         "Logistic Regression",
         "0.9304",
         "0.9233",
         "0.939",
         "0.9311",
         "0.9823"
        ],
        [
         "Random Forest",
         "0.918",
         "0.9027",
         "0.9372",
         "0.9197",
         "0.977"
        ]
       ],
       "shape": {
        "columns": 5,
        "rows": 3
       }
      },
      "text/html": [
       "<div>\n",
       "<style scoped>\n",
       "    .dataframe tbody tr th:only-of-type {\n",
       "        vertical-align: middle;\n",
       "    }\n",
       "\n",
       "    .dataframe tbody tr th {\n",
       "        vertical-align: top;\n",
       "    }\n",
       "\n",
       "    .dataframe thead th {\n",
       "        text-align: right;\n",
       "    }\n",
       "</style>\n",
       "<table border=\"1\" class=\"dataframe\">\n",
       "  <thead>\n",
       "    <tr style=\"text-align: right;\">\n",
       "      <th></th>\n",
       "      <th>accuracy</th>\n",
       "      <th>precision</th>\n",
       "      <th>recall</th>\n",
       "      <th>f1</th>\n",
       "      <th>roc_auc</th>\n",
       "    </tr>\n",
       "  </thead>\n",
       "  <tbody>\n",
       "    <tr>\n",
       "      <th>SVM</th>\n",
       "      <td>0.9388</td>\n",
       "      <td>0.9281</td>\n",
       "      <td>0.9515</td>\n",
       "      <td>0.9396</td>\n",
       "      <td>0.9842</td>\n",
       "    </tr>\n",
       "    <tr>\n",
       "      <th>Logistic Regression</th>\n",
       "      <td>0.9304</td>\n",
       "      <td>0.9233</td>\n",
       "      <td>0.9390</td>\n",
       "      <td>0.9311</td>\n",
       "      <td>0.9823</td>\n",
       "    </tr>\n",
       "    <tr>\n",
       "      <th>Random Forest</th>\n",
       "      <td>0.9180</td>\n",
       "      <td>0.9027</td>\n",
       "      <td>0.9372</td>\n",
       "      <td>0.9197</td>\n",
       "      <td>0.9770</td>\n",
       "    </tr>\n",
       "  </tbody>\n",
       "</table>\n",
       "</div>"
      ],
      "text/plain": [
       "                     accuracy  precision  recall      f1  roc_auc\n",
       "SVM                    0.9388     0.9281  0.9515  0.9396   0.9842\n",
       "Logistic Regression    0.9304     0.9233  0.9390  0.9311   0.9823\n",
       "Random Forest          0.9180     0.9027  0.9372  0.9197   0.9770"
      ]
     },
     "metadata": {},
     "output_type": "display_data"
    },
    {
     "name": "stdout",
     "output_type": "stream",
     "text": [
      "🎉 BEST MODEL IDENTIFIED!\n",
      "==================================================\n",
      "   🏆 Model: SVM\n",
      "   📈 ROC AUC: 0.9842\n",
      "   ✅ Accuracy: 0.9388\n",
      "   ⚖️ F1 Score: 0.9396\n",
      "   🎯 Precision: 0.9281\n",
      "   🔍 Recall: 0.9515\n"
     ]
    }
   ],
   "source": [
    "# print(\"🏆 Selecting best model...\")\n",
    "\n",
    "# # Create comprehensive results dataframe\n",
    "# results_df = pd.DataFrame(results).T\n",
    "# results_df = results_df.sort_values('roc_auc', ascending=False)\n",
    "\n",
    "# print(\"📊 Final Results Comparison:\")\n",
    "# print(\"=\" * 50)\n",
    "# display(results_df.round(4))\n",
    "\n",
    "# # Find best model\n",
    "# best_model_name = results_df['roc_auc'].idxmax()\n",
    "# best_model = models[best_model_name]\n",
    "# best_metrics = results_df.loc[best_model_name]\n",
    "\n",
    "# print(\"🎉 BEST MODEL IDENTIFIED!\")\n",
    "# print(\"=\" * 50)\n",
    "# print(f\"   🏆 Model: {best_model_name}\")\n",
    "# print(f\"   📈 ROC AUC: {best_metrics['roc_auc']:.4f}\")\n",
    "# print(f\"   ✅ Accuracy: {best_metrics['accuracy']:.4f}\")\n",
    "# print(f\"   ⚖️ F1 Score: {best_metrics['f1']:.4f}\")\n",
    "# print(f\"   🎯 Precision: {best_metrics['precision']:.4f}\")\n",
    "# print(f\"   🔍 Recall: {best_metrics['recall']:.4f}\")"
   ]
  },
  {
   "cell_type": "markdown",
   "id": "dde0e4d1",
   "metadata": {},
   "source": [
    "\n",
    "---\n",
    "\n",
    "## **💾 8. Save Results**\n"
   ]
  },
  {
   "cell_type": "code",
   "execution_count": null,
   "id": "202f7191",
   "metadata": {},
   "outputs": [
    {
     "name": "stdout",
     "output_type": "stream",
     "text": [
      "💾 Saving results and best model...\n",
      "✅ Best model saved: ../models/best_model_svm_20250902_195409.pkl\n",
      "✅ Results saved: ../models/model_comparison_20250902_195409.csv\n",
      "✅ Predictions saved: ../models/predictions_20250902_195409.csv\n",
      "\n",
      "🎉 All tasks completed successfully!\n",
      "📊 Next steps: Use the best model for validation data predictions!\n"
     ]
    }
   ],
   "source": [
    "\n",
    "# print(\"💾 Saving results and best model...\")\n",
    "\n",
    "# # Generate timestamp\n",
    "# timestamp = datetime.datetime.now().strftime(\"%Y%m%d_%H%M%S\")\n",
    "\n",
    "# # Save best model\n",
    "# model_filename = f'../models/best_model_{best_model_name.lower().replace(\" \", \"_\")}_{timestamp}.pkl'\n",
    "# joblib.dump(best_model, model_filename)\n",
    "# print(f\"✅ Best model saved: {model_filename}\")\n",
    "\n",
    "# # Save all results\n",
    "# results_df.to_csv(f'../models/model_comparison_{timestamp}.csv')\n",
    "# print(f\"✅ Results saved: ../models/model_comparison_{timestamp}.csv\")\n",
    "\n",
    "# # Save predictions for further analysis\n",
    "# predictions_df = pd.DataFrame({\n",
    "#     'true_label': y_test,\n",
    "#     **{f'{name}_pred': preds['y_pred'] for name, preds in all_predictions.items()},\n",
    "#     **{f'{name}_proba': preds['y_pred_proba'] for name, preds in all_predictions.items()}\n",
    "# })\n",
    "# predictions_df.to_csv(f'../models/predictions_{timestamp}.csv', index=False)\n",
    "# print(f\"✅ Predictions saved: ../models/predictions_{timestamp}.csv\")\n",
    "\n",
    "# print(\"\\n🎉 All tasks completed successfully!\")\n",
    "# print(\"📊 Next steps: Use the best model for validation data predictions!\")\n"
   ]
  },
  {
   "cell_type": "markdown",
   "id": "02cca78c",
   "metadata": {},
   "source": [
    "---\n",
    "\n",
    "## 000 **📚  [BONUS] Test with cosine similarity examples**\n"
   ]
  },
  {
   "cell_type": "code",
   "execution_count": null,
   "id": "22e74b97",
   "metadata": {},
   "outputs": [
    {
     "name": "stdout",
     "output_type": "stream",
     "text": [
      "🎯 BONUS: Testing semantic understanding with cosine similarity\n",
      "📝 Test Sentences:\n",
      "0: The president announced new policies today\n",
      "1: The government introduced new regulations\n",
      "2: Aliens invaded New York yesterday\n",
      "3: Bigfoot seen in forest near town\n",
      "\n",
      "📊 Cosine Similarity Matrix:\n",
      "Rows/Columns correspond to the test sentences above\n",
      "[[ 1.     0.513  0.066 -0.097]\n",
      " [ 0.513  1.     0.068 -0.003]\n",
      " [ 0.066  0.068  1.     0.119]\n",
      " [-0.097 -0.003  0.119  1.   ]]\n"
     ]
    },
    {
     "data": {
      "image/png": "[encoded data removed]",
      "text/plain": [
       "<Figure size 800x600 with 2 Axes>"
      ]
     },
     "metadata": {},
     "output_type": "display_data"
    },
    {
     "name": "stdout",
     "output_type": "stream",
     "text": [
      "\n",
      "💡 Interpretation:\n",
      "Values closer to 1.0 mean the sentences are semantically similar\n",
      "Values closer to 0.0 mean the sentences are semantically different\n",
      "This shows how the model understands the meaning of sentences!\n"
     ]
    }
   ],
   "source": [
    "# # [BONUS] Test with cosine similarity examples\n",
    "# from sklearn.metrics.pairwise import cosine_similarity\n",
    "\n",
    "# print(\"🎯 BONUS: Testing semantic understanding with cosine similarity\")\n",
    "\n",
    "# # Test the embeddings with some examples\n",
    "# test_sentences = [\n",
    "#     \"The president announced new policies today\",\n",
    "#     \"The government introduced new regulations\", \n",
    "#     \"Aliens invaded New York yesterday\",\n",
    "#     \"Bigfoot seen in forest near town\"\n",
    "# ]\n",
    "\n",
    "# print(\"📝 Test Sentences:\")\n",
    "# for i, sent in enumerate(test_sentences):\n",
    "#     print(f\"{i}: {sent}\")\n",
    "\n",
    "# # Get embeddings for test sentences using the SentenceTransformer model (not the classifier)\n",
    "# test_embeddings = sentence_model.encode(test_sentences)  # Use the SentenceTransformer model, not the classifier\n",
    "\n",
    "# # Calculate similarity matrix\n",
    "# similarity_matrix = cosine_similarity(test_embeddings)\n",
    "\n",
    "# print(\"\\n📊 Cosine Similarity Matrix:\")\n",
    "# print(\"Rows/Columns correspond to the test sentences above\")\n",
    "# print(similarity_matrix.round(3))\n",
    "\n",
    "# # Create a heatmap for better visualization\n",
    "# plt.figure(figsize=(8, 6))\n",
    "# sns.heatmap(similarity_matrix, annot=True, fmt='.3f', cmap='YlOrRd', \n",
    "#             xticklabels=range(len(test_sentences)), \n",
    "#             yticklabels=range(len(test_sentences)))\n",
    "# plt.title('Semantic Similarity Between Sentences 🔍')\n",
    "# plt.xlabel('Sentence Index')\n",
    "# plt.ylabel('Sentence Index')\n",
    "# plt.tight_layout()\n",
    "# plt.show()\n",
    "\n",
    "# # Interpret the results\n",
    "# print(\"\\n💡 Interpretation:\")\n",
    "# print(\"Values closer to 1.0 mean the sentences are semantically similar\")\n",
    "# print(\"Values closer to 0.0 mean the sentences are semantically different\")\n",
    "# print(\"This shows how the model understands the meaning of sentences!\")\n",
    "\n",
    "# # Clean up\n",
    "# del sentence_model"
   ]
  },
  {
   "cell_type": "code",
   "execution_count": null,
   "id": "70902c60",
   "metadata": {},
   "outputs": [],
   "source": [
    "# # Cell 11: [BONUS] Test with cosine similarity examples\n",
    "\n",
    "# print(\"🎯 BONUS: Testing semantic understanding with cosine similarity\")\n",
    "\n",
    "# # Test the embeddings with some examples\n",
    "# test_sentences = [\n",
    "#     \"The president announced new policies today\",\n",
    "#     \"The government introduced new regulations\", \n",
    "#     \"Aliens invaded New York yesterday\",\n",
    "#     \"Bigfoot seen in forest near town\"\n",
    "# ]\n",
    "\n",
    "# print(\"📝 Test Sentences:\")\n",
    "# for i, sent in enumerate(test_sentences):\n",
    "#     print(f\"{i}: {sent}\")\n",
    "\n",
    "# # Get embeddings for test sentences using the SentenceTransformer model\n",
    "# test_embeddings = sentence_model.encode(test_sentences)\n",
    "\n",
    "# # Calculate similarity matrix\n",
    "# similarity_matrix = cosine_similarity(test_embeddings)\n",
    "\n",
    "# print(\"\\n📊 Cosine Similarity Matrix:\")\n",
    "# print(\"Rows/Columns correspond to the test sentences above\")\n",
    "# print(similarity_matrix.round(3))\n",
    "\n",
    "# # Create a heatmap for better visualization\n",
    "# plt.figure(figsize=(8, 6))\n",
    "# sns.heatmap(similarity_matrix, annot=True, fmt='.3f', cmap='YlOrRd', \n",
    "#             xticklabels=range(len(test_sentences)), \n",
    "#             yticklabels=range(len(test_sentences)))\n",
    "# plt.title('Semantic Similarity Between Sentences 🔍')\n",
    "# plt.xlabel('Sentence Index')\n",
    "# plt.ylabel('Sentence Index')\n",
    "# plt.tight_layout()\n",
    "# plt.show()\n",
    "\n",
    "# # Interpret the results\n",
    "# print(\"\\n💡 Interpretation:\")\n",
    "# print(\"Values closer to 1.0 mean the sentences are semantically similar\")\n",
    "# print(\"Values closer to 0.0 mean the sentences are semantically different\")\n",
    "# print(\"This shows how the model understands the meaning of sentences!\")\n",
    "\n",
    "# # Clean up\n",
    "# del sentence_model"
   ]
  },
  {
   "cell_type": "code",
   "execution_count": null,
   "id": "5e5e0bb1",
   "metadata": {},
   "outputs": [],
   "source": [
    "\n",
    "# # Cell 2: Load basic cleaned data\n",
    "# df = pd.read_csv('../data/01_interim/cleaned_data_basic.csv')\n",
    "# print(f\"Dataset shape: {df.shape}\")\n",
    "\n",
    "# # Prepare data\n",
    "# X = df['clean_title']\n",
    "# y = df['label']\n",
    "\n",
    "# # Train-test split\n",
    "# X_train, X_test, y_train, y_test = train_test_split(\n",
    "#     X, y, test_size=0.2, random_state=42, stratify=y\n",
    "# )\n"
   ]
  },
  {
   "cell_type": "code",
   "execution_count": null,
   "id": "ce7c49e2",
   "metadata": {},
   "outputs": [],
   "source": [
    "\n",
    " \n",
    "# # Cell 3: Word2Vec Embedding\n",
    "# print(\"Training Word2Vec model...\")\n",
    "# # Tokenize text\n",
    "# tokenized_text = [text.split() for text in X_train]\n",
    "\n",
    "# # Train Word2Vec\n",
    "# w2v_model = Word2Vec(\n",
    "#     sentences=tokenized_text,\n",
    "#     vector_size=100,    # Dimension of embeddings\n",
    "#     window=5,           Context window size\n",
    "#     min_count=2,        # Ignore rare words\n",
    "#     workers=4,\n",
    "#     epochs=10\n",
    "# )\n",
    "\n",
    "# # Create sentence embeddings by averaging word vectors\n",
    "# def get_sentence_embedding(text, model):\n",
    "#     words = text.split()\n",
    "#     word_vectors = [model.wv[word] for word in words if word in model.wv]\n",
    "#     if len(word_vectors) > 0:\n",
    "#         return np.mean(word_vectors, axis=0)\n",
    "#     else:\n",
    "#         return np.zeros(model.vector_size)\n",
    "\n",
    "# # Convert text to embeddings\n",
    "# X_train_w2v = np.array([get_sentence_embedding(text, w2v_model) for text in X_train])\n",
    "# X_test_w2v = np.array([get_sentence_embedding(text, w2v_model) for text in X_test])\n",
    " \n"
   ]
  },
  {
   "cell_type": "code",
   "execution_count": null,
   "id": "f93d189a",
   "metadata": {},
   "outputs": [],
   "source": [
    " \n",
    "# # Cell 4: Train and evaluate models on Word2Vec\n",
    "# models = {\n",
    "#     'Logistic Regression': LogisticRegression(max_iter=1000),\n",
    "#     'Random Forest': RandomForestClassifier(n_estimators=100)\n",
    "# }\n",
    "\n",
    "# results = {}\n",
    "# for name, model in models.items():\n",
    "#     print(f\"Training {name}...\")\n",
    "#     model.fit(X_train_w2v, y_train)\n",
    "#     y_pred = model.predict(X_test_w2v)\n",
    "#     accuracy = accuracy_score(y_test, y_pred)\n",
    "#     results[name] = accuracy\n",
    "#     print(f\"{name} Accuracy: {accuracy:.4f}\\n\")\n",
    " "
   ]
  },
  {
   "cell_type": "code",
   "execution_count": null,
   "id": "9bdfb145",
   "metadata": {},
   "outputs": [],
   "source": []
  },
  {
   "cell_type": "markdown",
   "id": "7129a8c0",
   "metadata": {},
   "source": [
    "## **🪵 8. Log experiment results**"
   ]
  },
  {
   "cell_type": "code",
   "execution_count": null,
   "id": "6059c716",
   "metadata": {},
   "outputs": [
    {
     "name": "stdout",
     "output_type": "stream",
     "text": [
      "🚨 EMERGENCY SAVE - Preserving your 1-hour experiment results!\n",
      "✅ Emergency save successful! Saved 24 experiments to: ../models/emergency_save_20250903_000818.csv\n",
      "\n",
      "📊 SAVED EXPERIMENTS SUMMARY:\n",
      "   Total experiments: 24\n",
      "   Unique feature combinations: 8\n",
      "   Models tested: 3\n",
      "   Best ROC-AUC: 0.9951\n",
      "   Best Accuracy: 0.9672\n"
     ]
    }
   ],
   "source": [
    "# 🚨 EMERGENCY SAVE - Save current results before any changes!\n",
    "print(\"🚨 EMERGENCY SAVE - Preserving your 1-hour experiment results!\")\n",
    "\n",
    "# Save current results to a safe location\n",
    "timestamp = datetime.datetime.now().strftime(\"%Y%m%d_%H%M%S\")\n",
    "emergency_save_path = f'../models/emergency_save_{timestamp}.csv'\n",
    "\n",
    "# If you have results in 'all_results' variable\n",
    "if 'all_results' in locals() and len(all_results) > 0:\n",
    "    emergency_df = pd.DataFrame(all_results)\n",
    "    emergency_df.to_csv(emergency_save_path, index=False)\n",
    "    print(f\"✅ Emergency save successful! Saved {len(all_results)} experiments to: {emergency_save_path}\")\n",
    "    \n",
    "    # # Also save as pickle for complete preservation\n",
    "    # pickle_path = f'../models/emergency_save_{timestamp}.pkl'\n",
    "    # with open(pickle_path, 'wb') as f:\n",
    "    #     pickle.dump(all_results, f)\n",
    "    # print(f\"✅ Pickle backup saved to: {pickle_path}\")\n",
    "    \n",
    "    # Show summary of what was saved\n",
    "    print(f\"\\n📊 SAVED EXPERIMENTS SUMMARY:\")\n",
    "    print(f\"   Total experiments: {len(all_results)}\")\n",
    "    print(f\"   Unique feature combinations: {emergency_df['experiment'].nunique()}\")\n",
    "    print(f\"   Models tested: {emergency_df['model'].nunique()}\")\n",
    "    print(f\"   Best ROC-AUC: {emergency_df['roc_auc'].max():.4f}\")\n",
    "    print(f\"   Best Accuracy: {emergency_df['accuracy'].max():.4f}\")\n",
    "    \n",
    "else:\n",
    "    print(\"⚠️ No 'all_results' variable found. Check your variable names.\")\n",
    "    print(\"Available variables:\", [var for var in locals() if 'result' in var.lower() or 'experiment' in var.lower()])"
   ]
  },
  {
   "cell_type": "code",
   "execution_count": null,
   "id": "9aa0cfda",
   "metadata": {},
   "outputs": [
    {
     "name": "stdout",
     "output_type": "stream",
     "text": [
      "📊 Logging experiment results...\n"
     ]
    },
    {
     "ename": "ModuleNotFoundError",
     "evalue": "No module named 'src'",
     "output_type": "error",
     "traceback": [
      "\u001b[0;31m---------------------------------------------------------------------------\u001b[0m",
      "\u001b[0;31mModuleNotFoundError\u001b[0m                       Traceback (most recent call last)",
      "Cell \u001b[0;32mIn[1], line 4\u001b[0m\n\u001b[1;32m      1\u001b[0m \u001b[38;5;66;03m# Cell: Log experiment results\u001b[39;00m\n\u001b[1;32m      2\u001b[0m \u001b[38;5;28mprint\u001b[39m(\u001b[38;5;124m\"\u001b[39m\u001b[38;5;124m📊 Logging experiment results...\u001b[39m\u001b[38;5;124m\"\u001b[39m)\n\u001b[0;32m----> 4\u001b[0m \u001b[38;5;28;01mfrom\u001b[39;00m \u001b[38;5;21;01msrc\u001b[39;00m\u001b[38;5;21;01m.\u001b[39;00m\u001b[38;5;21;01mexperiment_tracker\u001b[39;00m \u001b[38;5;28;01mimport\u001b[39;00m log_experiment\n\u001b[1;32m      6\u001b[0m \u001b[38;5;66;03m# Log results for each model\u001b[39;00m\n\u001b[1;32m      7\u001b[0m \u001b[38;5;28;01mfor\u001b[39;00m name, model \u001b[38;5;129;01min\u001b[39;00m models\u001b[38;5;241m.\u001b[39mitems():\n\u001b[1;32m      8\u001b[0m     \u001b[38;5;66;03m# Get predictions\u001b[39;00m\n",
      "\u001b[0;31mModuleNotFoundError\u001b[0m: No module named 'src'"
     ]
    }
   ],
   "source": [
    "# Cell: Log experiment results\n",
    "print(\"📊 Logging experiment results...\")\n",
    "\n",
    "from src.experiment_tracker import log_experiment\n",
    "\n",
    "# Log results for each model\n",
    "for name, model in models.items():\n",
    "    # Get predictions\n",
    "    y_pred = model.predict(X_test_embeddings)\n",
    "    y_pred_proba = model.predict_proba(X_test_embeddings)[:, 1]\n",
    "    \n",
    "    # Calculate metrics\n",
    "    accuracy = accuracy_score(y_test, y_pred)\n",
    "    precision = precision_score(y_test, y_pred)\n",
    "    recall = recall_score(y_test, y_pred)\n",
    "    f1 = f1_score(y_test, y_pred)\n",
    "    roc_auc = roc_auc_score(y_test, y_pred_proba)\n",
    "    \n",
    "    # Log experiment\n",
    "    experiment_data = {\n",
    "        'experiment_type': 'sentence_transformers',\n",
    "        'model_name': name,\n",
    "        'preprocessing': 'basic_cleaning',\n",
    "        'accuracy': accuracy,\n",
    "        'precision': precision,\n",
    "        'recall': recall,\n",
    "        'f1_score': f1,\n",
    "        'roc_auc': roc_auc,\n",
    "        'dataset': 'fake_news',\n",
    "        'notes': 'Used all-MiniLM-L6-v2 embeddings'\n",
    "    }\n",
    "    \n",
    "    log_experiment(experiment_data)\n",
    "\n",
    "print(\"✅ All experiments logged!\")"
   ]
  }
 ],
 "metadata": {
  "kernelspec": {
   "display_name": "datasci_env",
   "language": "python",
   "name": "python3"
  },
  "language_info": {
   "codemirror_mode": {
    "name": "ipython",
    "version": 3
   },
   "file_extension": ".py",
   "mimetype": "text/x-python",
   "name": "python",
   "nbconvert_exporter": "python",
   "pygments_lexer": "ipython3",
   "version": "3.12.3"
  }
 },
 "nbformat": 4,
 "nbformat_minor": 5
}
