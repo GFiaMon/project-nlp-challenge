{
 "cells": [
  {
   "cell_type": "markdown",
   "id": "c06d71b7",
   "metadata": {},
   "source": [
    "\n",
    "---\n",
    "\n",
    "## **📁 File: `02_Data_Cleaning.ipynb`**\n",
    "\n",
    "# **🧹 02 - Data Cleaning & Preparation**\n",
    "\n",
    "## **📑 Table of Contents**\n",
    "1.  [🎯 Objectives](#-objectives)\n",
    "2.  [⚙️ Setup & Import Functions](#-setup--import-functions)\n",
    "3.  [📥 Load Raw Data](#-load-raw-data)\n",
    "4.  [🔧 Apply Cleaning Functions](#-apply-cleaning-functions)\n",
    "5.  [📊 Verify Cleaning Results](#-verify-cleaning-results)\n",
    "6.  [💾 Save Cleaned Data](#-save-cleaned-data)\n",
    "\n",
    "---\n",
    "\n",
    "## **🎯 Objectives**\n",
    "- Load the raw data from `dataset/00_raw/`\n",
    "- Apply text cleaning functions to prepare for NLP\n",
    "- Handle missing values and data quality issues\n",
    "- Save cleaned data to `dataset\n",
    "- /01_interim/` for future use\n",
    "\n",
    "---\n"
   ]
  },
  {
   "cell_type": "markdown",
   "id": "ccfe9eca",
   "metadata": {},
   "source": [
    "\n",
    "## **⚙️ 1. Setup & Import Functions**\n"
   ]
  },
  {
   "cell_type": "code",
   "execution_count": 1,
   "id": "76ff62fa",
   "metadata": {},
   "outputs": [
    {
     "name": "stdout",
     "output_type": "stream",
     "text": [
      "✅ Libraries imported successfully!\n"
     ]
    }
   ],
   "source": [
    "\n",
    "# Import libraries\n",
    "import pandas as pd\n",
    "import numpy as np\n",
    "import matplotlib.pyplot as plt\n",
    "import seaborn as sns\n",
    "import re\n",
    "\n",
    "import sys\n",
    "import os\n",
    "\n",
    "# Add the project root directory to Python path\n",
    "sys.path.append(os.path.abspath('..'))\n",
    "\n",
    "# Now import your modules\n",
    "from src.data_cleaning import clean_text, run_clean_pipeline\n",
    "from src.data_cleaning import gentle_clean_text, basic_clean_text, aggressive_clean_text\n",
    "from src.data_cleaning import clean_date_column, engineer_text_features, engineer_all_features\n",
    "\n",
    "\n",
    "%matplotlib inline\n",
    "print(\"✅ Libraries imported successfully!\")"
   ]
  },
  {
   "cell_type": "markdown",
   "id": "f8fdabcc",
   "metadata": {},
   "source": [
    "\n",
    "---\n",
    "\n",
    "## **📥 2. Load Raw Data**\n"
   ]
  },
  {
   "cell_type": "code",
   "execution_count": 2,
   "id": "d78fd6a2",
   "metadata": {},
   "outputs": [
    {
     "name": "stdout",
     "output_type": "stream",
     "text": [
      "Loading raw data...\n",
      "Main dataset shape: (39942, 5)\n",
      "Validation dataset shape: (4956, 5)\n",
      "\n",
      "Main dataset preview:\n"
     ]
    },
    {
     "data": {
      "application/vnd.microsoft.datawrangler.viewer.v0+json": {
       "columns": [
        {
         "name": "index",
         "rawType": "int64",
         "type": "integer"
        },
        {
         "name": "label",
         "rawType": "int64",
         "type": "integer"
        },
        {
         "name": "title",
         "rawType": "object",
         "type": "string"
        },
        {
         "name": "text",
         "rawType": "object",
         "type": "string"
        },
        {
         "name": "subject",
         "rawType": "object",
         "type": "string"
        },
        {
         "name": "date",
         "rawType": "object",
         "type": "string"
        }
       ],
       "ref": "1d40ec8e-a3c3-4fd9-ab02-9684999a1067",
       "rows": [
        [
         "0",
         "1",
         "As U.S. budget fight looms, Republicans flip their fiscal script",
         "WASHINGTON (Reuters) - The head of a conservative Republican faction in the U.S. Congress, who voted this month for a huge expansion of the national debt to pay for tax cuts, called himself a “fiscal conservative” on Sunday and urged budget restraint in 2018. In keeping with a sharp pivot under way among Republicans, U.S. Representative Mark Meadows, speaking on CBS’ “Face the Nation,” drew a hard line on federal spending, which lawmakers are bracing to do battle over in January. When they return from the holidays on Wednesday, lawmakers will begin trying to pass a federal budget in a fight likely to be linked to other issues, such as immigration policy, even as the November congressional election campaigns approach in which Republicans will seek to keep control of Congress. President Donald Trump and his Republicans want a big budget increase in military spending, while Democrats also want proportional increases for non-defense “discretionary” spending on programs that support education, scientific research, infrastructure, public health and environmental protection. “The (Trump) administration has already been willing to say: ‘We’re going to increase non-defense discretionary spending ... by about 7 percent,’” Meadows, chairman of the small but influential House Freedom Caucus, said on the program. “Now, Democrats are saying that’s not enough, we need to give the government a pay raise of 10 to 11 percent. For a fiscal conservative, I don’t see where the rationale is. ... Eventually you run out of other people’s money,” he said. Meadows was among Republicans who voted in late December for their party’s debt-financed tax overhaul, which is expected to balloon the federal budget deficit and add about $1.5 trillion over 10 years to the $20 trillion national debt. “It’s interesting to hear Mark talk about fiscal responsibility,” Democratic U.S. Representative Joseph Crowley said on CBS. Crowley said the Republican tax bill would require the  United States to borrow $1.5 trillion, to be paid off by future generations, to finance tax cuts for corporations and the rich. “This is one of the least ... fiscally responsible bills we’ve ever seen passed in the history of the House of Representatives. I think we’re going to be paying for this for many, many years to come,” Crowley said. Republicans insist the tax package, the biggest U.S. tax overhaul in more than 30 years,  will boost the economy and job growth. House Speaker Paul Ryan, who also supported the tax bill, recently went further than Meadows, making clear in a radio interview that welfare or “entitlement reform,” as the party often calls it, would be a top Republican priority in 2018. In Republican parlance, “entitlement” programs mean food stamps, housing assistance, Medicare and Medicaid health insurance for the elderly, poor and disabled, as well as other programs created by Washington to assist the needy. Democrats seized on Ryan’s early December remarks, saying they showed Republicans would try to pay for their tax overhaul by seeking spending cuts for social programs. But the goals of House Republicans may have to take a back seat to the Senate, where the votes of some Democrats will be needed to approve a budget and prevent a government shutdown. Democrats will use their leverage in the Senate, which Republicans narrowly control, to defend both discretionary non-defense programs and social spending, while tackling the issue of the “Dreamers,” people brought illegally to the country as children. Trump in September put a March 2018 expiration date on the Deferred Action for Childhood Arrivals, or DACA, program, which protects the young immigrants from deportation and provides them with work permits. The president has said in recent Twitter messages he wants funding for his proposed Mexican border wall and other immigration law changes in exchange for agreeing to help the Dreamers. Representative Debbie Dingell told CBS she did not favor linking that issue to other policy objectives, such as wall funding. “We need to do DACA clean,” she said.  On Wednesday, Trump aides will meet with congressional leaders to discuss those issues. That will be followed by a weekend of strategy sessions for Trump and Republican leaders on Jan. 6 and 7, the White House said. Trump was also scheduled to meet on Sunday with Florida Republican Governor Rick Scott, who wants more emergency aid. The House has passed an $81 billion aid package after hurricanes in Florida, Texas and Puerto Rico, and wildfires in California. The package far exceeded the $44 billion requested by the Trump administration. The Senate has not yet voted on the aid. ",
         "politicsNews",
         "December 31, 2017 "
        ],
        [
         "1",
         "1",
         "U.S. military to accept transgender recruits on Monday: Pentagon",
         "WASHINGTON (Reuters) - Transgender people will be allowed for the first time to enlist in the U.S. military starting on Monday as ordered by federal courts, the Pentagon said on Friday, after President Donald Trump’s administration decided not to appeal rulings that blocked his transgender ban. Two federal appeals courts, one in Washington and one in Virginia, last week rejected the administration’s request to put on hold orders by lower court judges requiring the military to begin accepting transgender recruits on Jan. 1. A Justice Department official said the administration will not challenge those rulings. “The Department of Defense has announced that it will be releasing an independent study of these issues in the coming weeks. So rather than litigate this interim appeal before that occurs, the administration has decided to wait for DOD’s study and will continue to defend the president’s lawful authority in District Court in the meantime,” the official said, speaking on condition of anonymity. In September, the Pentagon said it had created a panel of senior officials to study how to implement a directive by Trump to prohibit transgender individuals from serving. The Defense Department has until Feb. 21 to submit a plan to Trump. Lawyers representing currently-serving transgender service members and aspiring recruits said they had expected the administration to appeal the rulings to the conservative-majority Supreme Court, but were hoping that would not happen. Pentagon spokeswoman Heather Babb said in a statement: “As mandated by court order, the Department of Defense is prepared to begin accessing transgender applicants for military service Jan. 1. All applicants must meet all accession standards.” Jennifer Levi, a lawyer with gay, lesbian and transgender advocacy group GLAD, called the decision not to appeal “great news.” “I’m hoping it means the government has come to see that there is no way to justify a ban and that it’s not good for the military or our country,” Levi said. Both GLAD and the American Civil Liberties Union represent plaintiffs in the lawsuits filed against the administration. In a move that appealed to his hard-line conservative supporters, Trump announced in July that he would prohibit transgender people from serving in the military, reversing Democratic President Barack Obama’s policy of accepting them. Trump said on Twitter at the time that the military “cannot be burdened with the tremendous medical costs and disruption that transgender in the military would entail.” Four federal judges - in Baltimore, Washington, D.C., Seattle and Riverside, California - have issued rulings blocking Trump’s ban while legal challenges to the Republican president’s policy proceed. The judges said the ban would likely violate the right under the U.S. Constitution to equal protection under the law. The Pentagon on Dec. 8 issued guidelines to recruitment personnel in order to enlist transgender applicants by Jan. 1. The memo outlined medical requirements and specified how the applicants’ sex would be identified and even which undergarments they would wear. The Trump administration previously said in legal papers that the armed forces were not prepared to train thousands of personnel on the medical standards needed to process transgender applicants and might have to accept “some individuals who are not medically fit for service.” The Obama administration had set a deadline of July 1, 2017, to begin accepting transgender recruits. But Trump’s defense secretary, James Mattis, postponed that date to Jan. 1, 2018, which the president’s ban then put off indefinitely. Trump has taken other steps aimed at rolling back transgender rights. In October, his administration said a federal law banning gender-based workplace discrimination does not protect transgender employees, reversing another Obama-era position. In February, Trump rescinded guidance issued by the Obama administration saying that public schools should allow transgender students to use the restroom that corresponds to their gender identity. ",
         "politicsNews",
         "December 29, 2017 "
        ]
       ],
       "shape": {
        "columns": 5,
        "rows": 2
       }
      },
      "text/html": [
       "<div>\n",
       "<style scoped>\n",
       "    .dataframe tbody tr th:only-of-type {\n",
       "        vertical-align: middle;\n",
       "    }\n",
       "\n",
       "    .dataframe tbody tr th {\n",
       "        vertical-align: top;\n",
       "    }\n",
       "\n",
       "    .dataframe thead th {\n",
       "        text-align: right;\n",
       "    }\n",
       "</style>\n",
       "<table border=\"1\" class=\"dataframe\">\n",
       "  <thead>\n",
       "    <tr style=\"text-align: right;\">\n",
       "      <th></th>\n",
       "      <th>label</th>\n",
       "      <th>title</th>\n",
       "      <th>text</th>\n",
       "      <th>subject</th>\n",
       "      <th>date</th>\n",
       "    </tr>\n",
       "  </thead>\n",
       "  <tbody>\n",
       "    <tr>\n",
       "      <th>0</th>\n",
       "      <td>1</td>\n",
       "      <td>As U.S. budget fight looms, Republicans flip t...</td>\n",
       "      <td>WASHINGTON (Reuters) - The head of a conservat...</td>\n",
       "      <td>politicsNews</td>\n",
       "      <td>December 31, 2017</td>\n",
       "    </tr>\n",
       "    <tr>\n",
       "      <th>1</th>\n",
       "      <td>1</td>\n",
       "      <td>U.S. military to accept transgender recruits o...</td>\n",
       "      <td>WASHINGTON (Reuters) - Transgender people will...</td>\n",
       "      <td>politicsNews</td>\n",
       "      <td>December 29, 2017</td>\n",
       "    </tr>\n",
       "  </tbody>\n",
       "</table>\n",
       "</div>"
      ],
      "text/plain": [
       "   label                                              title  \\\n",
       "0      1  As U.S. budget fight looms, Republicans flip t...   \n",
       "1      1  U.S. military to accept transgender recruits o...   \n",
       "\n",
       "                                                text       subject  \\\n",
       "0  WASHINGTON (Reuters) - The head of a conservat...  politicsNews   \n",
       "1  WASHINGTON (Reuters) - Transgender people will...  politicsNews   \n",
       "\n",
       "                 date  \n",
       "0  December 31, 2017   \n",
       "1  December 29, 2017   "
      ]
     },
     "metadata": {},
     "output_type": "display_data"
    },
    {
     "name": "stdout",
     "output_type": "stream",
     "text": [
      "\n",
      "Validation dataset preview:\n"
     ]
    },
    {
     "data": {
      "application/vnd.microsoft.datawrangler.viewer.v0+json": {
       "columns": [
        {
         "name": "index",
         "rawType": "int64",
         "type": "integer"
        },
        {
         "name": "label",
         "rawType": "int64",
         "type": "integer"
        },
        {
         "name": "title",
         "rawType": "object",
         "type": "string"
        },
        {
         "name": "text",
         "rawType": "object",
         "type": "string"
        },
        {
         "name": "subject",
         "rawType": "object",
         "type": "string"
        },
        {
         "name": "date",
         "rawType": "object",
         "type": "string"
        }
       ],
       "ref": "2d4037e9-8f38-4ac9-ae49-45acab4833c5",
       "rows": [
        [
         "0",
         "2",
         "UK's May 'receiving regular updates' on London tube station incident: PM's office",
         "LONDON (Reuters) - British Prime Minister Theresa May is being regularly briefed after armed police rushed to an incident at a London underground station on Friday, with local media reporting there had been an explosion on a packed rush-hour commuter train.  The prime minister is receiving regular updates,  a spokesman from May s office said when asked if May was aware of the incident. ",
         "worldnews",
         "September 15, 2017 "
        ],
        [
         "1",
         "2",
         "UK transport police leading investigation of London incident, counter-terrorism police aware",
         "LONDON (Reuters) - British counter-terrorism police were monitoring events after media reports of a blast on a train in Parsons Green station in west London on Friday, but the investigation into the incident is being led by transport police, a security source said. Armed police rushed to an incident at a London underground station on Friday with local media reporting there had been an explosion on a packed rush-hour commuter train. Counter-terrorism officers were on the scene of the incident.  ",
         "worldnews",
         "September 15, 2017 "
        ]
       ],
       "shape": {
        "columns": 5,
        "rows": 2
       }
      },
      "text/html": [
       "<div>\n",
       "<style scoped>\n",
       "    .dataframe tbody tr th:only-of-type {\n",
       "        vertical-align: middle;\n",
       "    }\n",
       "\n",
       "    .dataframe tbody tr th {\n",
       "        vertical-align: top;\n",
       "    }\n",
       "\n",
       "    .dataframe thead th {\n",
       "        text-align: right;\n",
       "    }\n",
       "</style>\n",
       "<table border=\"1\" class=\"dataframe\">\n",
       "  <thead>\n",
       "    <tr style=\"text-align: right;\">\n",
       "      <th></th>\n",
       "      <th>label</th>\n",
       "      <th>title</th>\n",
       "      <th>text</th>\n",
       "      <th>subject</th>\n",
       "      <th>date</th>\n",
       "    </tr>\n",
       "  </thead>\n",
       "  <tbody>\n",
       "    <tr>\n",
       "      <th>0</th>\n",
       "      <td>2</td>\n",
       "      <td>UK's May 'receiving regular updates' on London...</td>\n",
       "      <td>LONDON (Reuters) - British Prime Minister Ther...</td>\n",
       "      <td>worldnews</td>\n",
       "      <td>September 15, 2017</td>\n",
       "    </tr>\n",
       "    <tr>\n",
       "      <th>1</th>\n",
       "      <td>2</td>\n",
       "      <td>UK transport police leading investigation of L...</td>\n",
       "      <td>LONDON (Reuters) - British counter-terrorism p...</td>\n",
       "      <td>worldnews</td>\n",
       "      <td>September 15, 2017</td>\n",
       "    </tr>\n",
       "  </tbody>\n",
       "</table>\n",
       "</div>"
      ],
      "text/plain": [
       "   label                                              title  \\\n",
       "0      2  UK's May 'receiving regular updates' on London...   \n",
       "1      2  UK transport police leading investigation of L...   \n",
       "\n",
       "                                                text    subject  \\\n",
       "0  LONDON (Reuters) - British Prime Minister Ther...  worldnews   \n",
       "1  LONDON (Reuters) - British counter-terrorism p...  worldnews   \n",
       "\n",
       "                  date  \n",
       "0  September 15, 2017   \n",
       "1  September 15, 2017   "
      ]
     },
     "metadata": {},
     "output_type": "display_data"
    }
   ],
   "source": [
    "# Load the raw datasets\n",
    "print(\"Loading raw data...\")\n",
    "raw_df = pd.read_csv('../dataset/00_raw/data.csv')\n",
    "raw_val_df = pd.read_csv('../dataset/00_raw/validation_data.csv')\n",
    "\n",
    "print(f\"Main dataset shape: {raw_df.shape}\")\n",
    "print(f\"Validation dataset shape: {raw_val_df.shape}\")\n",
    "\n",
    "# Display first few rows\n",
    "print(\"\\nMain dataset preview:\")\n",
    "display(raw_df.head(2))\n",
    "print(\"\\nValidation dataset preview:\")\n",
    "display(raw_val_df.head(2))\n"
   ]
  },
  {
   "cell_type": "markdown",
   "id": "3c0cd2a6",
   "metadata": {},
   "source": [
    "\n",
    "---\n",
    "## 📅 3. Enhanced Date Processing Section\n"
   ]
  },
  {
   "cell_type": "code",
   "execution_count": 5,
   "id": "eaad73db",
   "metadata": {
    "vscode": {
     "languageId": "ruby"
    }
   },
   "outputs": [
    {
     "name": "stdout",
     "output_type": "stream",
     "text": [
      "📅 Engineering date features...\n",
      "✅ Date features engineered:\n",
      "   Years: [2017. 2016. 2018. 2015.]\n",
      "   Quarters: ['Q4.0' 'Q3.0' 'Q2.0' 'Q1.0' 'Q4']\n",
      "   Weekend articles: 7615\n"
     ]
    }
   ],
   "source": [
    "## 📅 DATE COLUMN ANALYSIS & FEATURE ENGINEERING\n",
    "print(\"📅 Engineering date features...\")\n",
    "\n",
    "# Apply enhanced date cleaning\n",
    "raw_df['date_parsed'], raw_df['year'], raw_df['quarter'], raw_df['is_weekend'] = clean_date_column(raw_df['date'])\n",
    "raw_val_df['date_parsed'], raw_val_df['year'], raw_val_df['quarter'], raw_val_df['is_weekend'] = clean_date_column(raw_val_df['date'])\n",
    "\n",
    "# Fill missing dates with mode or reasonable defaults\n",
    "if raw_df['year'].isna().any():\n",
    "    mode_year = raw_df['year'].mode()[0] if not raw_df['year'].mode().empty else 2017\n",
    "    raw_df['year'] = raw_df['year'].fillna(mode_year)\n",
    "    raw_df['quarter'] = raw_df['quarter'].fillna('Q4')  # Most common quarter\n",
    "    raw_df['is_weekend'] = raw_df['is_weekend'].fillna(False)\n",
    "\n",
    "# Same for validation set\n",
    "if raw_val_df['year'].isna().any():\n",
    "    raw_val_df['year'] = raw_val_df['year'].fillna(mode_year)\n",
    "    raw_val_df['quarter'] = raw_val_df['quarter'].fillna('Q4')\n",
    "    raw_val_df['is_weekend'] = raw_val_df['is_weekend'].fillna(False)\n",
    "\n",
    "print(\"✅ Date features engineered:\")\n",
    "print(f\"   Years: {raw_df['year'].unique()}\")\n",
    "print(f\"   Quarters: {raw_df['quarter'].unique()}\")\n",
    "print(f\"   Weekend articles: {raw_df['is_weekend'].sum()}\")\n",
    "\n",
    "# Drop the original date column since we have extracted features\n",
    "raw_df = raw_df.drop(columns=['date', 'date_parsed'])\n",
    "raw_val_df = raw_val_df.drop(columns=['date', 'date_parsed'])"
   ]
  },
  {
   "cell_type": "markdown",
   "id": "7fa78a57",
   "metadata": {},
   "source": [
    "\n",
    "---\n",
    "\n",
    "## **🔧 3. Apply Cleaning Functions**\n"
   ]
  },
  {
   "cell_type": "code",
   "execution_count": 6,
   "id": "80a2d022",
   "metadata": {},
   "outputs": [
    {
     "name": "stdout",
     "output_type": "stream",
     "text": [
      "Applying different cleaning strategies...\n",
      "✅ All cleaning strategies completed!\n"
     ]
    }
   ],
   "source": [
    "# Create copies for different cleaning strategies\n",
    "df_gentle = raw_df.copy()\n",
    "df_basic = raw_df.copy() \n",
    "df_aggressive = raw_df.copy()\n",
    "\n",
    "val_gentle = raw_val_df.copy()\n",
    "val_basic = raw_val_df.copy()\n",
    "val_aggressive = raw_val_df.copy()\n",
    "\n",
    "print(\"Applying different cleaning strategies...\")\n",
    "\n",
    "# Apply GENTLE cleaning (preserves context for embeddings)\n",
    "df_gentle['clean_title'] = df_gentle['title'].apply(gentle_clean_text)\n",
    "df_gentle['clean_text'] = df_gentle['text'].apply(gentle_clean_text)\n",
    "val_gentle['clean_title'] = val_gentle['title'].apply(gentle_clean_text)\n",
    "val_gentle['clean_text'] = val_gentle['text'].apply(gentle_clean_text)\n",
    "\n",
    "# Apply BASIC cleaning (for sentence transformers)\n",
    "df_basic['clean_title'] = df_basic['title'].apply(basic_clean_text)\n",
    "df_basic['clean_text'] = df_basic['text'].apply(basic_clean_text)\n",
    "val_basic['clean_title'] = val_basic['title'].apply(basic_clean_text)\n",
    "val_basic['clean_text'] = val_basic['text'].apply(basic_clean_text)\n",
    "\n",
    "# Apply AGGRESSIVE cleaning (for traditional NLP)\n",
    "df_aggressive['clean_title'] = df_aggressive['title'].apply(aggressive_clean_text)\n",
    "df_aggressive['clean_text'] = df_aggressive['text'].apply(aggressive_clean_text)\n",
    "val_aggressive['clean_title'] = val_aggressive['title'].apply(aggressive_clean_text)\n",
    "val_aggressive['clean_text'] = val_aggressive['text'].apply(aggressive_clean_text)\n",
    "\n",
    "# # Drop date column from all datasets (as recommended from EDA)\n",
    "# datasets = [df_gentle, df_basic, df_aggressive, val_gentle, val_basic, val_aggressive]\n",
    "# for dataset in datasets:\n",
    "#     if 'date' in dataset.columns:\n",
    "#         dataset.drop(columns=['date'], inplace=True)\n",
    "\n",
    "print(\"✅ All cleaning strategies completed!\")"
   ]
  },
  {
   "cell_type": "markdown",
   "id": "3d012bdb",
   "metadata": {},
   "source": [
    "\n",
    "---\n",
    "\n",
    "## **📊 Verify Cleaning Results**\n"
   ]
  },
  {
   "cell_type": "code",
   "execution_count": 8,
   "id": "4d1c9cd9",
   "metadata": {},
   "outputs": [
    {
     "name": "stdout",
     "output_type": "stream",
     "text": [
      "CLEANING VERIFICATION:\n",
      "==================================================\n",
      "Original: U.S. military to accept transgender recruits on Monday: Pentagon\n",
      "Gentle: u.s. military to accept transgender recruits on monday pentagon\n",
      "Basic: u.s. military to accept transgender recruits on monday pentagon\n",
      "Aggressive: military accept transgender recruits monday pentagon\n",
      "\n",
      "Dataset shapes after cleaning:\n",
      "Gentle: (39942, 9)\n",
      "Basic: (39942, 9)\n",
      "Aggressive: (39942, 9)\n",
      "\n",
      "Sample cleaned titles (first 2 rows):\n",
      "\n",
      "GENTLE cleaning:\n",
      "  as u.s. budget fight looms republicans flip their fiscal script...\n",
      "  u.s. military to accept transgender recruits on monday pentagon...\n",
      "\n",
      "BASIC cleaning:\n",
      "  as u.s. budget fight looms, republicans flip their fiscal script...\n",
      "  u.s. military to accept transgender recruits on monday pentagon...\n",
      "\n",
      "AGGRESSIVE cleaning:\n",
      "  budget fight looms republicans flip their fiscal script...\n",
      "  military accept transgender recruits monday pentagon...\n"
     ]
    }
   ],
   "source": [
    "print(\"CLEANING VERIFICATION:\")\n",
    "print(\"=\" * 50)\n",
    "\n",
    "# Compare different cleaning strategies on same example\n",
    "example_text = \"U.S. military to accept transgender recruits on Monday: Pentagon\"\n",
    "\n",
    "print(\"Original:\", example_text)\n",
    "print(\"Gentle:\", gentle_clean_text(example_text))\n",
    "print(\"Basic:\", basic_clean_text(example_text)) \n",
    "print(\"Aggressive:\", aggressive_clean_text(example_text))\n",
    "print()\n",
    "\n",
    "# Check dataset info\n",
    "print(\"Dataset shapes after cleaning:\")\n",
    "print(f\"Gentle: {df_gentle.shape}\")\n",
    "print(f\"Basic: {df_basic.shape}\")\n",
    "print(f\"Aggressive: {df_aggressive.shape}\")\n",
    "\n",
    "# Check first few rows of each\n",
    "print(\"\\nSample cleaned titles (first 2 rows):\")\n",
    "print(\"\\nGENTLE cleaning:\")\n",
    "for i in range(2):\n",
    "    print(f\"  {df_gentle['clean_title'].iloc[i][:100]}...\")\n",
    "\n",
    "print(\"\\nBASIC cleaning:\")\n",
    "for i in range(2):\n",
    "    print(f\"  {df_basic['clean_title'].iloc[i][:100]}...\")\n",
    "\n",
    "print(\"\\nAGGRESSIVE cleaning:\")\n",
    "for i in range(2):\n",
    "    print(f\"  {df_aggressive['clean_title'].iloc[i][:100]}...\")"
   ]
  },
  {
   "cell_type": "markdown",
   "id": "b28678eb",
   "metadata": {},
   "source": [
    "## 📝 Essential Text Feature Engineering"
   ]
  },
  {
   "cell_type": "code",
   "execution_count": 9,
   "id": "733a5cd5",
   "metadata": {},
   "outputs": [
    {
     "name": "stdout",
     "output_type": "stream",
     "text": [
      "📝 Engineering essential text features...\n",
      "🔄 Adding features to all dataset versions...\n",
      "✅ Essential features added to all datasets\n"
     ]
    }
   ],
   "source": [
    "## 📝 DERIVED TEXT FEATURES\n",
    "print(\"📝 Engineering essential text features...\")\n",
    "\n",
    "def add_essential_features(dataframe):\n",
    "    \"\"\"Add only the essential derived text features\"\"\"\n",
    "    df_copy = dataframe.copy()\n",
    "    \n",
    "    # Text length features\n",
    "    df_copy['title_length'] = df_copy['title'].str.len().fillna(0)\n",
    "    df_copy['title_word_count'] = df_copy['title'].str.split().str.len().fillna(0)\n",
    "    df_copy['text_length'] = df_copy['text'].str.len().fillna(0)\n",
    "    df_copy['text_word_count'] = df_copy['text'].str.split().str.len().fillna(0)\n",
    "    \n",
    "    return df_copy\n",
    "\n",
    "# Apply to all datasets\n",
    "print(\"🔄 Adding features to all dataset versions...\")\n",
    "\n",
    "df_gentle = add_essential_features(df_gentle)\n",
    "df_basic = add_essential_features(df_basic)\n",
    "df_aggressive = add_essential_features(df_aggressive)\n",
    "\n",
    "val_gentle = add_essential_features(val_gentle)\n",
    "val_basic = add_essential_features(val_basic) \n",
    "val_aggressive = add_essential_features(val_aggressive)\n",
    "\n",
    "print(\"✅ Essential features added to all datasets\")"
   ]
  },
  {
   "cell_type": "markdown",
   "id": "84c90077",
   "metadata": {},
   "source": [
    "## 🔍 4. Feature Overview & Validation"
   ]
  },
  {
   "cell_type": "code",
   "execution_count": 10,
   "id": "8e7b1fc6",
   "metadata": {},
   "outputs": [
    {
     "name": "stdout",
     "output_type": "stream",
     "text": [
      "\n",
      "🔍 Final Feature Overview\n",
      "==================================================\n",
      "\n",
      "📊 Gentle Cleaning Dataset:\n",
      "   Shape: (39942, 13)\n",
      "   Columns: ['label', 'title', 'text', 'subject', 'year', 'quarter', 'is_weekend', 'clean_title', 'clean_text', 'title_length', 'title_word_count', 'text_length', 'text_word_count']\n",
      "   Title length: 79.8 ± 24.8 chars\n",
      "   Text length: 2384.6 ± 1765.9 chars\n",
      "   Valid years: 39942 (100.0%)\n",
      "   Weekend articles: 7615 (19.1%)\n",
      "\n",
      "📊 Basic Cleaning Dataset:\n",
      "   Shape: (39942, 13)\n",
      "   Columns: ['label', 'title', 'text', 'subject', 'year', 'quarter', 'is_weekend', 'clean_title', 'clean_text', 'title_length', 'title_word_count', 'text_length', 'text_word_count']\n",
      "\n",
      "📊 Aggressive Cleaning Dataset:\n",
      "   Shape: (39942, 13)\n",
      "   Columns: ['label', 'title', 'text', 'subject', 'year', 'quarter', 'is_weekend', 'clean_title', 'clean_text', 'title_length', 'title_word_count', 'text_length', 'text_word_count']\n",
      "\n",
      "✅ Verification - Expected features:\n",
      "   ✓ All expected features present\n",
      "   Total features: 13\n"
     ]
    }
   ],
   "source": [
    "## 🔍 FEATURE OVERVIEW\n",
    "print(\"\\n🔍 Final Feature Overview\")\n",
    "print(\"=\" * 50)\n",
    "\n",
    "# Display feature summary for each dataset type\n",
    "datasets = [df_gentle, df_basic, df_aggressive]\n",
    "names = ['Gentle', 'Basic', 'Aggressive']\n",
    "\n",
    "for i, (dataset, name) in enumerate(zip(datasets, names)):\n",
    "    print(f\"\\n📊 {name} Cleaning Dataset:\")\n",
    "    print(f\"   Shape: {dataset.shape}\")\n",
    "    print(f\"   Columns: {list(dataset.columns)}\")\n",
    "    \n",
    "    # Sample feature stats\n",
    "    if i == 0:  # Only show for first dataset to avoid repetition\n",
    "        print(f\"   Title length: {dataset['title_length'].mean():.1f} ± {dataset['title_length'].std():.1f} chars\")\n",
    "        print(f\"   Text length: {dataset['text_length'].mean():.1f} ± {dataset['text_length'].std():.1f} chars\")\n",
    "        print(f\"   Valid years: {dataset['year'].notna().sum()} ({dataset['year'].notna().mean():.1%})\")\n",
    "        print(f\"   Weekend articles: {dataset['is_weekend'].sum()} ({dataset['is_weekend'].mean():.1%})\")\n",
    "\n",
    "# Verify we have the exact features we want\n",
    "expected_features = [\n",
    "    'label', 'title', 'text', 'subject', 'clean_title', 'clean_text',\n",
    "    'title_length', 'title_word_count', 'text_length', 'text_word_count',\n",
    "    'year', 'quarter', 'is_weekend'\n",
    "]\n",
    "\n",
    "print(f\"\\n✅ Verification - Expected features:\")\n",
    "missing_features = set(expected_features) - set(df_gentle.columns)\n",
    "if missing_features:\n",
    "    print(f\"   ⚠️  Missing: {missing_features}\")\n",
    "else:\n",
    "    print(\"   ✓ All expected features present\")\n",
    "\n",
    "print(f\"   Total features: {len(df_gentle.columns)}\")"
   ]
  },
  {
   "cell_type": "markdown",
   "id": "61945ab7",
   "metadata": {},
   "source": [
    "## 💾 5. Final Saving Section v3."
   ]
  },
  {
   "cell_type": "code",
   "execution_count": 12,
   "id": "cfd753f2",
   "metadata": {},
   "outputs": [
    {
     "name": "stdout",
     "output_type": "stream",
     "text": [
      "\n",
      "💾 Saving streamlined datasets...\n",
      "✅ Saved cleaned_data_gentle.csv with shape (39942, 13)\n",
      "✅ Saved cleaned_data_basic.csv with shape (39942, 13)\n",
      "✅ Saved cleaned_data_aggressive.csv with shape (39942, 13)\n",
      "✅ Saved cleaned_validation_gentle.csv with shape (4956, 13)\n",
      "✅ Saved cleaned_validation_basic.csv with shape (4956, 13)\n",
      "✅ Saved cleaned_validation_aggressive.csv with shape (4956, 13)\n",
      "\n",
      "🎯 All datasets ready with essential features only!\n",
      "📋 Feature set:\n",
      "   PRIMARY: clean_title, clean_text\n",
      "   TEXT: title_length, title_word_count, text_length, text_word_count\n",
      "   TIME: year, quarter, is_weekend\n",
      "   META: label, title, text, subject\n"
     ]
    }
   ],
   "source": [
    "## 💾 Save Streamlined Datasets\n",
    "print(\"\\n💾 Saving streamlined datasets...\")\n",
    "\n",
    "# Save all datasets with essential features only\n",
    "datasets_to_save = [\n",
    "    (df_gentle, 'cleaned_data_gentle.csv'),\n",
    "    (df_basic, 'cleaned_data_basic.csv'),\n",
    "    (df_aggressive, 'cleaned_data_aggressive.csv'),\n",
    "    (val_gentle, 'cleaned_validation_gentle.csv'), \n",
    "    (val_basic, 'cleaned_validation_basic.csv'),\n",
    "    (val_aggressive, 'cleaned_validation_aggressive.csv')\n",
    "]\n",
    "\n",
    "for dataset, filename in datasets_to_save:\n",
    "    # Ensure we only keep the essential features\n",
    "    essential_cols = [col for col in expected_features if col in dataset.columns]\n",
    "    dataset = dataset[essential_cols]\n",
    "    \n",
    "    filepath = f'../dataset/01_interim/{filename}'\n",
    "    dataset.to_csv(filepath, index=False)\n",
    "    print(f\"✅ Saved {filename} with shape {dataset.shape}\")\n",
    "\n",
    "print(\"\\n🎯 All datasets ready with essential features only!\")\n",
    "print(\"📋 Feature set:\")\n",
    "print(\"   PRIMARY: clean_title, clean_text\")\n",
    "print(\"   TEXT: title_length, title_word_count, text_length, text_word_count\")  \n",
    "print(\"   TIME: year, quarter, is_weekend\")\n",
    "print(\"   META: label, title, text, subject\")"
   ]
  },
  {
   "cell_type": "code",
   "execution_count": 13,
   "id": "f50da573",
   "metadata": {},
   "outputs": [
    {
     "name": "stdout",
     "output_type": "stream",
     "text": [
      "✅ All cleaned datasets saved successfully!\n",
      "Files saved to: dataset/01_interim/\n",
      "\n",
      "Main datasets:\n",
      "- cleaned_data_gentle.csv               ((39942, 13))\n",
      "- cleaned_data_basic.csv                ((39942, 13))\n",
      "- cleaned_data_aggressive.csv           ((39942, 13))\n",
      "\n",
      "Validation datasets:\n",
      "- cleaned_validation_gentle.csv         ((4956, 13))\n",
      "- cleaned_validation_basic.csv          ((4956, 13))\n",
      "- cleaned_validation_aggressive.csv     ((4956, 13))\n"
     ]
    }
   ],
   "source": [
    "print(\"✅ All cleaned datasets saved successfully!\")\n",
    "print(\"Files saved to: dataset/01_interim/\")\n",
    "print(\"\\nMain datasets:\")\n",
    "print(f\"- cleaned_data_gentle.csv               ({df_gentle.shape})\")\n",
    "print(f\"- cleaned_data_basic.csv                ({df_basic.shape})\")\n",
    "print(f\"- cleaned_data_aggressive.csv           ({df_aggressive.shape})\")\n",
    "print(\"\\nValidation datasets:\")\n",
    "print(f\"- cleaned_validation_gentle.csv         ({val_gentle.shape})\")\n",
    "print(f\"- cleaned_validation_basic.csv          ({val_basic.shape})\")\n",
    "print(f\"- cleaned_validation_aggressive.csv     ({val_aggressive.shape})\")\n"
   ]
  },
  {
   "cell_type": "code",
   "execution_count": 14,
   "id": "10214201",
   "metadata": {},
   "outputs": [
    {
     "data": {
      "application/vnd.microsoft.datawrangler.viewer.v0+json": {
       "columns": [
        {
         "name": "index",
         "rawType": "int64",
         "type": "integer"
        },
        {
         "name": "label",
         "rawType": "int64",
         "type": "integer"
        },
        {
         "name": "title",
         "rawType": "object",
         "type": "string"
        },
        {
         "name": "text",
         "rawType": "object",
         "type": "string"
        },
        {
         "name": "subject",
         "rawType": "object",
         "type": "string"
        },
        {
         "name": "year",
         "rawType": "float64",
         "type": "float"
        },
        {
         "name": "quarter",
         "rawType": "object",
         "type": "string"
        },
        {
         "name": "is_weekend",
         "rawType": "bool",
         "type": "boolean"
        },
        {
         "name": "clean_title",
         "rawType": "object",
         "type": "string"
        },
        {
         "name": "clean_text",
         "rawType": "object",
         "type": "string"
        },
        {
         "name": "title_length",
         "rawType": "int64",
         "type": "integer"
        },
        {
         "name": "title_word_count",
         "rawType": "int64",
         "type": "integer"
        },
        {
         "name": "text_length",
         "rawType": "int64",
         "type": "integer"
        },
        {
         "name": "text_word_count",
         "rawType": "int64",
         "type": "integer"
        }
       ],
       "ref": "320b33c2-4dca-4799-9783-30e0c3a380cf",
       "rows": [
        [
         "0",
         "1",
         "As U.S. budget fight looms, Republicans flip their fiscal script",
         "WASHINGTON (Reuters) - The head of a conservative Republican faction in the U.S. Congress, who voted this month for a huge expansion of the national debt to pay for tax cuts, called himself a “fiscal conservative” on Sunday and urged budget restraint in 2018. In keeping with a sharp pivot under way among Republicans, U.S. Representative Mark Meadows, speaking on CBS’ “Face the Nation,” drew a hard line on federal spending, which lawmakers are bracing to do battle over in January. When they return from the holidays on Wednesday, lawmakers will begin trying to pass a federal budget in a fight likely to be linked to other issues, such as immigration policy, even as the November congressional election campaigns approach in which Republicans will seek to keep control of Congress. President Donald Trump and his Republicans want a big budget increase in military spending, while Democrats also want proportional increases for non-defense “discretionary” spending on programs that support education, scientific research, infrastructure, public health and environmental protection. “The (Trump) administration has already been willing to say: ‘We’re going to increase non-defense discretionary spending ... by about 7 percent,’” Meadows, chairman of the small but influential House Freedom Caucus, said on the program. “Now, Democrats are saying that’s not enough, we need to give the government a pay raise of 10 to 11 percent. For a fiscal conservative, I don’t see where the rationale is. ... Eventually you run out of other people’s money,” he said. Meadows was among Republicans who voted in late December for their party’s debt-financed tax overhaul, which is expected to balloon the federal budget deficit and add about $1.5 trillion over 10 years to the $20 trillion national debt. “It’s interesting to hear Mark talk about fiscal responsibility,” Democratic U.S. Representative Joseph Crowley said on CBS. Crowley said the Republican tax bill would require the  United States to borrow $1.5 trillion, to be paid off by future generations, to finance tax cuts for corporations and the rich. “This is one of the least ... fiscally responsible bills we’ve ever seen passed in the history of the House of Representatives. I think we’re going to be paying for this for many, many years to come,” Crowley said. Republicans insist the tax package, the biggest U.S. tax overhaul in more than 30 years,  will boost the economy and job growth. House Speaker Paul Ryan, who also supported the tax bill, recently went further than Meadows, making clear in a radio interview that welfare or “entitlement reform,” as the party often calls it, would be a top Republican priority in 2018. In Republican parlance, “entitlement” programs mean food stamps, housing assistance, Medicare and Medicaid health insurance for the elderly, poor and disabled, as well as other programs created by Washington to assist the needy. Democrats seized on Ryan’s early December remarks, saying they showed Republicans would try to pay for their tax overhaul by seeking spending cuts for social programs. But the goals of House Republicans may have to take a back seat to the Senate, where the votes of some Democrats will be needed to approve a budget and prevent a government shutdown. Democrats will use their leverage in the Senate, which Republicans narrowly control, to defend both discretionary non-defense programs and social spending, while tackling the issue of the “Dreamers,” people brought illegally to the country as children. Trump in September put a March 2018 expiration date on the Deferred Action for Childhood Arrivals, or DACA, program, which protects the young immigrants from deportation and provides them with work permits. The president has said in recent Twitter messages he wants funding for his proposed Mexican border wall and other immigration law changes in exchange for agreeing to help the Dreamers. Representative Debbie Dingell told CBS she did not favor linking that issue to other policy objectives, such as wall funding. “We need to do DACA clean,” she said.  On Wednesday, Trump aides will meet with congressional leaders to discuss those issues. That will be followed by a weekend of strategy sessions for Trump and Republican leaders on Jan. 6 and 7, the White House said. Trump was also scheduled to meet on Sunday with Florida Republican Governor Rick Scott, who wants more emergency aid. The House has passed an $81 billion aid package after hurricanes in Florida, Texas and Puerto Rico, and wildfires in California. The package far exceeded the $44 billion requested by the Trump administration. The Senate has not yet voted on the aid. ",
         "politicsNews",
         "2017.0",
         "Q4.0",
         "True",
         "as u.s. budget fight looms republicans flip their fiscal script",
         "washington reuters the head of a conservative republican faction in the u.s. congress who voted this month for a huge expansion of the national debt to pay for tax cuts called himself a fiscal conservative on sunday and urged budget restraint in . in keeping with a sharp pivot under way among republicans u.s. representative mark meadows speaking on cbs face the nation drew a hard line on federal spending which lawmakers are bracing to do battle over in january. when they return from the holidays on wednesday lawmakers will begin trying to pass a federal budget in a fight likely to be linked to other issues such as immigration policy even as the november congressional election campaigns approach in which republicans will seek to keep control of congress. president donald trump and his republicans want a big budget increase in military spending while democrats also want proportional increases for non defense discretionary spending on programs that support education scientific research infrastructure public health and environmental protection. the trump administration has already been willing to say we re going to increase non defense discretionary spending ... by about percent meadows chairman of the small but influential house freedom caucus said on the program. now democrats are saying that s not enough we need to give the government a pay raise of to percent. for a fiscal conservative i don t see where the rationale is. ... eventually you run out of other people s money he said. meadows was among republicans who voted in late december for their party s debt financed tax overhaul which is expected to balloon the federal budget deficit and add about . trillion over years to the trillion national debt. it s interesting to hear mark talk about fiscal responsibility democratic u.s. representative joseph crowley said on cbs. crowley said the republican tax bill would require the united states to borrow . trillion to be paid off by future generations to finance tax cuts for corporations and the rich. this is one of the least ... fiscally responsible bills we ve ever seen passed in the history of the house of representatives. i think we re going to be paying for this for many many years to come crowley said. republicans insist the tax package the biggest u.s. tax overhaul in more than years will boost the economy and job growth. house speaker paul ryan who also supported the tax bill recently went further than meadows making clear in a radio interview that welfare or entitlement reform as the party often calls it would be a top republican priority in . in republican parlance entitlement programs mean food stamps housing assistance medicare and medicaid health insurance for the elderly poor and disabled as well as other programs created by washington to assist the needy. democrats seized on ryan s early december remarks saying they showed republicans would try to pay for their tax overhaul by seeking spending cuts for social programs. but the goals of house republicans may have to take a back seat to the senate where the votes of some democrats will be needed to approve a budget and prevent a government shutdown. democrats will use their leverage in the senate which republicans narrowly control to defend both discretionary non defense programs and social spending while tackling the issue of the dreamers people brought illegally to the country as children. trump in september put a march expiration date on the deferred action for childhood arrivals or daca program which protects the young immigrants from deportation and provides them with work permits. the president has said in recent twitter messages he wants funding for his proposed mexican border wall and other immigration law changes in exchange for agreeing to help the dreamers. representative debbie dingell told cbs she did not favor linking that issue to other policy objectives such as wall funding. we need to do daca clean she said. on wednesday trump aides will meet with congressional leaders to discuss those issues. that will be followed by a weekend of strategy sessions for trump and republican leaders on jan. and the white house said. trump was also scheduled to meet on sunday with florida republican governor rick scott who wants more emergency aid. the house has passed an billion aid package after hurricanes in florida texas and puerto rico and wildfires in california. the package far exceeded the billion requested by the trump administration. the senate has not yet voted on the aid.",
         "64",
         "10",
         "4659",
         "749"
        ]
       ],
       "shape": {
        "columns": 13,
        "rows": 1
       }
      },
      "text/html": [
       "<div>\n",
       "<style scoped>\n",
       "    .dataframe tbody tr th:only-of-type {\n",
       "        vertical-align: middle;\n",
       "    }\n",
       "\n",
       "    .dataframe tbody tr th {\n",
       "        vertical-align: top;\n",
       "    }\n",
       "\n",
       "    .dataframe thead th {\n",
       "        text-align: right;\n",
       "    }\n",
       "</style>\n",
       "<table border=\"1\" class=\"dataframe\">\n",
       "  <thead>\n",
       "    <tr style=\"text-align: right;\">\n",
       "      <th></th>\n",
       "      <th>label</th>\n",
       "      <th>title</th>\n",
       "      <th>text</th>\n",
       "      <th>subject</th>\n",
       "      <th>year</th>\n",
       "      <th>quarter</th>\n",
       "      <th>is_weekend</th>\n",
       "      <th>clean_title</th>\n",
       "      <th>clean_text</th>\n",
       "      <th>title_length</th>\n",
       "      <th>title_word_count</th>\n",
       "      <th>text_length</th>\n",
       "      <th>text_word_count</th>\n",
       "    </tr>\n",
       "  </thead>\n",
       "  <tbody>\n",
       "    <tr>\n",
       "      <th>0</th>\n",
       "      <td>1</td>\n",
       "      <td>As U.S. budget fight looms, Republicans flip t...</td>\n",
       "      <td>WASHINGTON (Reuters) - The head of a conservat...</td>\n",
       "      <td>politicsNews</td>\n",
       "      <td>2017.0</td>\n",
       "      <td>Q4.0</td>\n",
       "      <td>True</td>\n",
       "      <td>as u.s. budget fight looms republicans flip th...</td>\n",
       "      <td>washington reuters the head of a conservative ...</td>\n",
       "      <td>64</td>\n",
       "      <td>10</td>\n",
       "      <td>4659</td>\n",
       "      <td>749</td>\n",
       "    </tr>\n",
       "  </tbody>\n",
       "</table>\n",
       "</div>"
      ],
      "text/plain": [
       "   label                                              title  \\\n",
       "0      1  As U.S. budget fight looms, Republicans flip t...   \n",
       "\n",
       "                                                text       subject    year  \\\n",
       "0  WASHINGTON (Reuters) - The head of a conservat...  politicsNews  2017.0   \n",
       "\n",
       "  quarter  is_weekend                                        clean_title  \\\n",
       "0    Q4.0        True  as u.s. budget fight looms republicans flip th...   \n",
       "\n",
       "                                          clean_text  title_length  \\\n",
       "0  washington reuters the head of a conservative ...            64   \n",
       "\n",
       "   title_word_count  text_length  text_word_count  \n",
       "0                10         4659              749  "
      ]
     },
     "metadata": {},
     "output_type": "display_data"
    }
   ],
   "source": [
    "display(df_gentle.head(1))"
   ]
  },
  {
   "cell_type": "code",
   "execution_count": 15,
   "id": "fc671410",
   "metadata": {},
   "outputs": [
    {
     "data": {
      "application/vnd.microsoft.datawrangler.viewer.v0+json": {
       "columns": [
        {
         "name": "index",
         "rawType": "int64",
         "type": "integer"
        },
        {
         "name": "label",
         "rawType": "int64",
         "type": "integer"
        },
        {
         "name": "title",
         "rawType": "object",
         "type": "string"
        },
        {
         "name": "text",
         "rawType": "object",
         "type": "string"
        },
        {
         "name": "subject",
         "rawType": "object",
         "type": "string"
        },
        {
         "name": "year",
         "rawType": "float64",
         "type": "float"
        },
        {
         "name": "quarter",
         "rawType": "object",
         "type": "string"
        },
        {
         "name": "is_weekend",
         "rawType": "bool",
         "type": "boolean"
        },
        {
         "name": "clean_title",
         "rawType": "object",
         "type": "string"
        },
        {
         "name": "clean_text",
         "rawType": "object",
         "type": "string"
        },
        {
         "name": "title_length",
         "rawType": "int64",
         "type": "integer"
        },
        {
         "name": "title_word_count",
         "rawType": "int64",
         "type": "integer"
        },
        {
         "name": "text_length",
         "rawType": "int64",
         "type": "integer"
        },
        {
         "name": "text_word_count",
         "rawType": "int64",
         "type": "integer"
        }
       ],
       "ref": "406a7ca0-0623-4ff7-ba91-2ed193785b9d",
       "rows": [
        [
         "0",
         "1",
         "As U.S. budget fight looms, Republicans flip their fiscal script",
         "WASHINGTON (Reuters) - The head of a conservative Republican faction in the U.S. Congress, who voted this month for a huge expansion of the national debt to pay for tax cuts, called himself a “fiscal conservative” on Sunday and urged budget restraint in 2018. In keeping with a sharp pivot under way among Republicans, U.S. Representative Mark Meadows, speaking on CBS’ “Face the Nation,” drew a hard line on federal spending, which lawmakers are bracing to do battle over in January. When they return from the holidays on Wednesday, lawmakers will begin trying to pass a federal budget in a fight likely to be linked to other issues, such as immigration policy, even as the November congressional election campaigns approach in which Republicans will seek to keep control of Congress. President Donald Trump and his Republicans want a big budget increase in military spending, while Democrats also want proportional increases for non-defense “discretionary” spending on programs that support education, scientific research, infrastructure, public health and environmental protection. “The (Trump) administration has already been willing to say: ‘We’re going to increase non-defense discretionary spending ... by about 7 percent,’” Meadows, chairman of the small but influential House Freedom Caucus, said on the program. “Now, Democrats are saying that’s not enough, we need to give the government a pay raise of 10 to 11 percent. For a fiscal conservative, I don’t see where the rationale is. ... Eventually you run out of other people’s money,” he said. Meadows was among Republicans who voted in late December for their party’s debt-financed tax overhaul, which is expected to balloon the federal budget deficit and add about $1.5 trillion over 10 years to the $20 trillion national debt. “It’s interesting to hear Mark talk about fiscal responsibility,” Democratic U.S. Representative Joseph Crowley said on CBS. Crowley said the Republican tax bill would require the  United States to borrow $1.5 trillion, to be paid off by future generations, to finance tax cuts for corporations and the rich. “This is one of the least ... fiscally responsible bills we’ve ever seen passed in the history of the House of Representatives. I think we’re going to be paying for this for many, many years to come,” Crowley said. Republicans insist the tax package, the biggest U.S. tax overhaul in more than 30 years,  will boost the economy and job growth. House Speaker Paul Ryan, who also supported the tax bill, recently went further than Meadows, making clear in a radio interview that welfare or “entitlement reform,” as the party often calls it, would be a top Republican priority in 2018. In Republican parlance, “entitlement” programs mean food stamps, housing assistance, Medicare and Medicaid health insurance for the elderly, poor and disabled, as well as other programs created by Washington to assist the needy. Democrats seized on Ryan’s early December remarks, saying they showed Republicans would try to pay for their tax overhaul by seeking spending cuts for social programs. But the goals of House Republicans may have to take a back seat to the Senate, where the votes of some Democrats will be needed to approve a budget and prevent a government shutdown. Democrats will use their leverage in the Senate, which Republicans narrowly control, to defend both discretionary non-defense programs and social spending, while tackling the issue of the “Dreamers,” people brought illegally to the country as children. Trump in September put a March 2018 expiration date on the Deferred Action for Childhood Arrivals, or DACA, program, which protects the young immigrants from deportation and provides them with work permits. The president has said in recent Twitter messages he wants funding for his proposed Mexican border wall and other immigration law changes in exchange for agreeing to help the Dreamers. Representative Debbie Dingell told CBS she did not favor linking that issue to other policy objectives, such as wall funding. “We need to do DACA clean,” she said.  On Wednesday, Trump aides will meet with congressional leaders to discuss those issues. That will be followed by a weekend of strategy sessions for Trump and Republican leaders on Jan. 6 and 7, the White House said. Trump was also scheduled to meet on Sunday with Florida Republican Governor Rick Scott, who wants more emergency aid. The House has passed an $81 billion aid package after hurricanes in Florida, Texas and Puerto Rico, and wildfires in California. The package far exceeded the $44 billion requested by the Trump administration. The Senate has not yet voted on the aid. ",
         "politicsNews",
         "2017.0",
         "Q4.0",
         "True",
         "as u.s. budget fight looms, republicans flip their fiscal script",
         "washington reuters the head of a conservative republican faction in the u.s. congress, who voted this month for a huge expansion of the national debt to pay for tax cuts, called himself a fiscal conservative on sunday and urged budget restraint in 2018. in keeping with a sharp pivot under way among republicans, u.s. representative mark meadows, speaking on cbs face the nation, drew a hard line on federal spending, which lawmakers are bracing to do battle over in january. when they return from the holidays on wednesday, lawmakers will begin trying to pass a federal budget in a fight likely to be linked to other issues, such as immigration policy, even as the november congressional election campaigns approach in which republicans will seek to keep control of congress. president donald trump and his republicans want a big budget increase in military spending, while democrats also want proportional increases for non defense discretionary spending on programs that support education, scientific research, infrastructure, public health and environmental protection. the trump administration has already been willing to say we re going to increase non defense discretionary spending ... by about 7 percent, meadows, chairman of the small but influential house freedom caucus, said on the program. now, democrats are saying that s not enough, we need to give the government a pay raise of 10 to 11 percent. for a fiscal conservative, i don t see where the rationale is. ... eventually you run out of other people s money, he said. meadows was among republicans who voted in late december for their party s debt financed tax overhaul, which is expected to balloon the federal budget deficit and add about 1.5 trillion over 10 years to the 20 trillion national debt. it s interesting to hear mark talk about fiscal responsibility, democratic u.s. representative joseph crowley said on cbs. crowley said the republican tax bill would require the united states to borrow 1.5 trillion, to be paid off by future generations, to finance tax cuts for corporations and the rich. this is one of the least ... fiscally responsible bills we ve ever seen passed in the history of the house of representatives. i think we re going to be paying for this for many, many years to come, crowley said. republicans insist the tax package, the biggest u.s. tax overhaul in more than 30 years, will boost the economy and job growth. house speaker paul ryan, who also supported the tax bill, recently went further than meadows, making clear in a radio interview that welfare or entitlement reform, as the party often calls it, would be a top republican priority in 2018. in republican parlance, entitlement programs mean food stamps, housing assistance, medicare and medicaid health insurance for the elderly, poor and disabled, as well as other programs created by washington to assist the needy. democrats seized on ryan s early december remarks, saying they showed republicans would try to pay for their tax overhaul by seeking spending cuts for social programs. but the goals of house republicans may have to take a back seat to the senate, where the votes of some democrats will be needed to approve a budget and prevent a government shutdown. democrats will use their leverage in the senate, which republicans narrowly control, to defend both discretionary non defense programs and social spending, while tackling the issue of the dreamers, people brought illegally to the country as children. trump in september put a march 2018 expiration date on the deferred action for childhood arrivals, or daca, program, which protects the young immigrants from deportation and provides them with work permits. the president has said in recent twitter messages he wants funding for his proposed mexican border wall and other immigration law changes in exchange for agreeing to help the dreamers. representative debbie dingell told cbs she did not favor linking that issue to other policy objectives, such as wall funding. we need to do daca clean, she said. on wednesday, trump aides will meet with congressional leaders to discuss those issues. that will be followed by a weekend of strategy sessions for trump and republican leaders on jan. 6 and 7, the white house said. trump was also scheduled to meet on sunday with florida republican governor rick scott, who wants more emergency aid. the house has passed an 81 billion aid package after hurricanes in florida, texas and puerto rico, and wildfires in california. the package far exceeded the 44 billion requested by the trump administration. the senate has not yet voted on the aid.",
         "64",
         "10",
         "4659",
         "749"
        ]
       ],
       "shape": {
        "columns": 13,
        "rows": 1
       }
      },
      "text/html": [
       "<div>\n",
       "<style scoped>\n",
       "    .dataframe tbody tr th:only-of-type {\n",
       "        vertical-align: middle;\n",
       "    }\n",
       "\n",
       "    .dataframe tbody tr th {\n",
       "        vertical-align: top;\n",
       "    }\n",
       "\n",
       "    .dataframe thead th {\n",
       "        text-align: right;\n",
       "    }\n",
       "</style>\n",
       "<table border=\"1\" class=\"dataframe\">\n",
       "  <thead>\n",
       "    <tr style=\"text-align: right;\">\n",
       "      <th></th>\n",
       "      <th>label</th>\n",
       "      <th>title</th>\n",
       "      <th>text</th>\n",
       "      <th>subject</th>\n",
       "      <th>year</th>\n",
       "      <th>quarter</th>\n",
       "      <th>is_weekend</th>\n",
       "      <th>clean_title</th>\n",
       "      <th>clean_text</th>\n",
       "      <th>title_length</th>\n",
       "      <th>title_word_count</th>\n",
       "      <th>text_length</th>\n",
       "      <th>text_word_count</th>\n",
       "    </tr>\n",
       "  </thead>\n",
       "  <tbody>\n",
       "    <tr>\n",
       "      <th>0</th>\n",
       "      <td>1</td>\n",
       "      <td>As U.S. budget fight looms, Republicans flip t...</td>\n",
       "      <td>WASHINGTON (Reuters) - The head of a conservat...</td>\n",
       "      <td>politicsNews</td>\n",
       "      <td>2017.0</td>\n",
       "      <td>Q4.0</td>\n",
       "      <td>True</td>\n",
       "      <td>as u.s. budget fight looms, republicans flip t...</td>\n",
       "      <td>washington reuters the head of a conservative ...</td>\n",
       "      <td>64</td>\n",
       "      <td>10</td>\n",
       "      <td>4659</td>\n",
       "      <td>749</td>\n",
       "    </tr>\n",
       "  </tbody>\n",
       "</table>\n",
       "</div>"
      ],
      "text/plain": [
       "   label                                              title  \\\n",
       "0      1  As U.S. budget fight looms, Republicans flip t...   \n",
       "\n",
       "                                                text       subject    year  \\\n",
       "0  WASHINGTON (Reuters) - The head of a conservat...  politicsNews  2017.0   \n",
       "\n",
       "  quarter  is_weekend                                        clean_title  \\\n",
       "0    Q4.0        True  as u.s. budget fight looms, republicans flip t...   \n",
       "\n",
       "                                          clean_text  title_length  \\\n",
       "0  washington reuters the head of a conservative ...            64   \n",
       "\n",
       "   title_word_count  text_length  text_word_count  \n",
       "0                10         4659              749  "
      ]
     },
     "metadata": {},
     "output_type": "display_data"
    }
   ],
   "source": [
    "display(df_basic.head(1))"
   ]
  },
  {
   "cell_type": "code",
   "execution_count": 12,
   "id": "484764ad",
   "metadata": {},
   "outputs": [
    {
     "data": {
      "application/vnd.microsoft.datawrangler.viewer.v0+json": {
       "columns": [
        {
         "name": "index",
         "rawType": "int64",
         "type": "integer"
        },
        {
         "name": "label",
         "rawType": "int64",
         "type": "integer"
        },
        {
         "name": "title",
         "rawType": "object",
         "type": "string"
        },
        {
         "name": "text",
         "rawType": "object",
         "type": "string"
        },
        {
         "name": "subject",
         "rawType": "object",
         "type": "string"
        },
        {
         "name": "date_cleaned",
         "rawType": "object",
         "type": "string"
        },
        {
         "name": "year",
         "rawType": "object",
         "type": "string"
        },
        {
         "name": "date_category",
         "rawType": "object",
         "type": "string"
        },
        {
         "name": "clean_title",
         "rawType": "object",
         "type": "string"
        },
        {
         "name": "clean_text",
         "rawType": "object",
         "type": "string"
        }
       ],
       "ref": "a06bcfa8-46fc-4b51-9ff6-40456d8a88e5",
       "rows": [
        [
         "0",
         "1",
         "As U.S. budget fight looms, Republicans flip their fiscal script",
         "WASHINGTON (Reuters) - The head of a conservative Republican faction in the U.S. Congress, who voted this month for a huge expansion of the national debt to pay for tax cuts, called himself a “fiscal conservative” on Sunday and urged budget restraint in 2018. In keeping with a sharp pivot under way among Republicans, U.S. Representative Mark Meadows, speaking on CBS’ “Face the Nation,” drew a hard line on federal spending, which lawmakers are bracing to do battle over in January. When they return from the holidays on Wednesday, lawmakers will begin trying to pass a federal budget in a fight likely to be linked to other issues, such as immigration policy, even as the November congressional election campaigns approach in which Republicans will seek to keep control of Congress. President Donald Trump and his Republicans want a big budget increase in military spending, while Democrats also want proportional increases for non-defense “discretionary” spending on programs that support education, scientific research, infrastructure, public health and environmental protection. “The (Trump) administration has already been willing to say: ‘We’re going to increase non-defense discretionary spending ... by about 7 percent,’” Meadows, chairman of the small but influential House Freedom Caucus, said on the program. “Now, Democrats are saying that’s not enough, we need to give the government a pay raise of 10 to 11 percent. For a fiscal conservative, I don’t see where the rationale is. ... Eventually you run out of other people’s money,” he said. Meadows was among Republicans who voted in late December for their party’s debt-financed tax overhaul, which is expected to balloon the federal budget deficit and add about $1.5 trillion over 10 years to the $20 trillion national debt. “It’s interesting to hear Mark talk about fiscal responsibility,” Democratic U.S. Representative Joseph Crowley said on CBS. Crowley said the Republican tax bill would require the  United States to borrow $1.5 trillion, to be paid off by future generations, to finance tax cuts for corporations and the rich. “This is one of the least ... fiscally responsible bills we’ve ever seen passed in the history of the House of Representatives. I think we’re going to be paying for this for many, many years to come,” Crowley said. Republicans insist the tax package, the biggest U.S. tax overhaul in more than 30 years,  will boost the economy and job growth. House Speaker Paul Ryan, who also supported the tax bill, recently went further than Meadows, making clear in a radio interview that welfare or “entitlement reform,” as the party often calls it, would be a top Republican priority in 2018. In Republican parlance, “entitlement” programs mean food stamps, housing assistance, Medicare and Medicaid health insurance for the elderly, poor and disabled, as well as other programs created by Washington to assist the needy. Democrats seized on Ryan’s early December remarks, saying they showed Republicans would try to pay for their tax overhaul by seeking spending cuts for social programs. But the goals of House Republicans may have to take a back seat to the Senate, where the votes of some Democrats will be needed to approve a budget and prevent a government shutdown. Democrats will use their leverage in the Senate, which Republicans narrowly control, to defend both discretionary non-defense programs and social spending, while tackling the issue of the “Dreamers,” people brought illegally to the country as children. Trump in September put a March 2018 expiration date on the Deferred Action for Childhood Arrivals, or DACA, program, which protects the young immigrants from deportation and provides them with work permits. The president has said in recent Twitter messages he wants funding for his proposed Mexican border wall and other immigration law changes in exchange for agreeing to help the Dreamers. Representative Debbie Dingell told CBS she did not favor linking that issue to other policy objectives, such as wall funding. “We need to do DACA clean,” she said.  On Wednesday, Trump aides will meet with congressional leaders to discuss those issues. That will be followed by a weekend of strategy sessions for Trump and Republican leaders on Jan. 6 and 7, the White House said. Trump was also scheduled to meet on Sunday with Florida Republican Governor Rick Scott, who wants more emergency aid. The House has passed an $81 billion aid package after hurricanes in Florida, Texas and Puerto Rico, and wildfires in California. The package far exceeded the $44 billion requested by the Trump administration. The Senate has not yet voted on the aid. ",
         "politicsNews",
         "December 31, 2017 ",
         "2017",
         "Medium (2015-2019)",
         "budget fight looms republicans flip their fiscal script",
         "washington reuters the head conservative republican faction the congress who voted this month for huge expansion the national debt pay for tax cuts called himself fiscal conservative sunday and urged budget restraint keeping with sharp pivot under way among republicans representative mark meadows speaking cbs face the nation drew hard line federal spending which lawmakers are bracing battle over january when they return from the holidays wednesday lawmakers will begin trying pass federal budget fight likely linked other issues such immigration policy even the november congressional election campaigns approach which republicans will seek keep control congress president donald trump and his republicans want big budget increase military spending while democrats also want proportional increases for non defense discretionary spending programs that support education scientific research infrastructure public health and environmental protection the trump administration has already been willing say going increase non defense discretionary spending about percent meadows chairman the small but influential house freedom caucus said the program now democrats are saying that not enough need give the government pay raise percent for fiscal conservative don see where the rationale eventually you run out other people money said meadows was among republicans who voted late december for their party debt financed tax overhaul which expected balloon the federal budget deficit and add about trillion over years the trillion national debt interesting hear mark talk about fiscal responsibility democratic representative joseph crowley said cbs crowley said the republican tax bill would require the united states borrow trillion paid off future generations finance tax cuts for corporations and the rich this one the least fiscally responsible bills ever seen passed the history the house representatives think going paying for this for many many years come crowley said republicans insist the tax package the biggest tax overhaul more than years will boost the economy and job growth house speaker paul ryan who also supported the tax bill recently went further than meadows making clear radio interview that welfare entitlement reform the party often calls would top republican priority republican parlance entitlement programs mean food stamps housing assistance medicare and medicaid health insurance for the elderly poor and disabled well other programs created washington assist the needy democrats seized ryan early december remarks saying they showed republicans would try pay for their tax overhaul seeking spending cuts for social programs but the goals house republicans may have take back seat the senate where the votes some democrats will needed approve budget and prevent government shutdown democrats will use their leverage the senate which republicans narrowly control defend both discretionary non defense programs and social spending while tackling the issue the dreamers people brought illegally the country children trump september put march expiration date the deferred action for childhood arrivals daca program which protects the young immigrants from deportation and provides them with work permits the president has said recent twitter messages wants funding for his proposed mexican border wall and other immigration law changes exchange for agreeing help the dreamers representative debbie dingell told cbs she did not favor linking that issue other policy objectives such wall funding need daca clean she said wednesday trump aides will meet with congressional leaders discuss those issues that will followed weekend strategy sessions for trump and republican leaders jan and the white house said trump was also scheduled meet sunday with florida republican governor rick scott who wants more emergency aid the house has passed billion aid package after hurricanes florida texas and puerto rico and wildfires california the package far exceeded the billion requested the trump administration the senate has not yet voted the aid"
        ]
       ],
       "shape": {
        "columns": 9,
        "rows": 1
       }
      },
      "text/html": [
       "<div>\n",
       "<style scoped>\n",
       "    .dataframe tbody tr th:only-of-type {\n",
       "        vertical-align: middle;\n",
       "    }\n",
       "\n",
       "    .dataframe tbody tr th {\n",
       "        vertical-align: top;\n",
       "    }\n",
       "\n",
       "    .dataframe thead th {\n",
       "        text-align: right;\n",
       "    }\n",
       "</style>\n",
       "<table border=\"1\" class=\"dataframe\">\n",
       "  <thead>\n",
       "    <tr style=\"text-align: right;\">\n",
       "      <th></th>\n",
       "      <th>label</th>\n",
       "      <th>title</th>\n",
       "      <th>text</th>\n",
       "      <th>subject</th>\n",
       "      <th>date_cleaned</th>\n",
       "      <th>year</th>\n",
       "      <th>date_category</th>\n",
       "      <th>clean_title</th>\n",
       "      <th>clean_text</th>\n",
       "    </tr>\n",
       "  </thead>\n",
       "  <tbody>\n",
       "    <tr>\n",
       "      <th>0</th>\n",
       "      <td>1</td>\n",
       "      <td>As U.S. budget fight looms, Republicans flip t...</td>\n",
       "      <td>WASHINGTON (Reuters) - The head of a conservat...</td>\n",
       "      <td>politicsNews</td>\n",
       "      <td>December 31, 2017</td>\n",
       "      <td>2017</td>\n",
       "      <td>Medium (2015-2019)</td>\n",
       "      <td>budget fight looms republicans flip their fisc...</td>\n",
       "      <td>washington reuters the head conservative repub...</td>\n",
       "    </tr>\n",
       "  </tbody>\n",
       "</table>\n",
       "</div>"
      ],
      "text/plain": [
       "   label                                              title  \\\n",
       "0      1  As U.S. budget fight looms, Republicans flip t...   \n",
       "\n",
       "                                                text       subject  \\\n",
       "0  WASHINGTON (Reuters) - The head of a conservat...  politicsNews   \n",
       "\n",
       "         date_cleaned  year       date_category  \\\n",
       "0  December 31, 2017   2017  Medium (2015-2019)   \n",
       "\n",
       "                                         clean_title  \\\n",
       "0  budget fight looms republicans flip their fisc...   \n",
       "\n",
       "                                          clean_text  \n",
       "0  washington reuters the head conservative repub...  "
      ]
     },
     "metadata": {},
     "output_type": "display_data"
    }
   ],
   "source": [
    "display(df_aggressive.head(1))"
   ]
  },
  {
   "cell_type": "markdown",
   "id": "7078d455",
   "metadata": {},
   "source": [
    "\n",
    "---\n",
    "\n",
    "## **🚀 How to Use This Structure**\n",
    "\n",
    "### **Option 1: Run from Notebook (Recommended for Learning)**\n",
    "1.  Create `02_Data_Cleaning.ipynb` with the content above\n",
    "2.  Run each cell step by step to see what happens\n",
    "\n",
    "### **Option 2: Run from Command Line (More Professional)**\n",
    "```bash\n",
    "# Run the cleaning pipeline directly\n",
    "python src/data_cleaning.py\n",
    "```\n",
    "\n",
    "### **Option 3: Import and Use in Other Notebooks**\n",
    "```python\n",
    "# In any notebook, you can now import your functions\n",
    "from src.data_cleaning import clean_text, run_clean_pipeline\n",
    "\n",
    "# Use individual function\n",
    "clean_text(\"Some messy text!\")\n",
    "\n",
    "# Or run the whole pipeline\n",
    "cleaned_df = run_clean_pipeline('input.csv', 'output.csv')\n",
    "```\n",
    "\n",
    "This structure gives you both the interactive notebook for learning and the reusable Python functions for professional development!"
   ]
  }
 ],
 "metadata": {
  "kernelspec": {
   "display_name": "datasci_env",
   "language": "python",
   "name": "python3"
  },
  "language_info": {
   "codemirror_mode": {
    "name": "ipython",
    "version": 3
   },
   "file_extension": ".py",
   "mimetype": "text/x-python",
   "name": "python",
   "nbconvert_exporter": "python",
   "pygments_lexer": "ipython3",
   "version": "3.12.3"
  }
 },
 "nbformat": 4,
 "nbformat_minor": 5
}
