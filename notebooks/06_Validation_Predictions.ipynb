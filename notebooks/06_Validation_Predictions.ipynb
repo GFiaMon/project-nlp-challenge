{
 "cells": [
  {
   "cell_type": "markdown",
   "id": "8c6c96f5",
   "metadata": {
    "vscode": {
     "languageId": "plaintext"
    }
   },
   "source": [
    "# 🎯 06 - Validation Predictions for Submission\n",
    "\n",
    "## 📑 Table of Contents\n",
    "1. [🎯 Objectives](#-objectives)\n",
    "2. [⚙️ Setup & Imports](#-setup--imports)\n",
    "3. [📥 Load Best Model & Data](#-load-best-model--data)\n",
    "4. [🔮 Make Predictions](#-make-predictions)\n",
    "5. [📤 Generate Submission Files](#-generate-submission-files)\n",
    "6. [📊 Submission History](#-submission-history)\n",
    "\n",
    "---\n",
    "\n",
    "## 🎯 Objectives\n",
    "- Load the best performing model from previous experiments\n",
    "- Generate predictions on the validation dataset\n",
    "- Create submission files for all 3 attempts\n",
    "- Track submission history and results\n"
   ]
  },
  {
   "cell_type": "markdown",
   "id": "4e509ff7",
   "metadata": {
    "vscode": {
     "languageId": "plaintext"
    }
   },
   "source": [
    "\n",
    "---\n",
    "\n",
    "## ⚙️ 1. Setup & Imports\n"
   ]
  },
  {
   "cell_type": "code",
   "execution_count": 1,
   "id": "e8e97599",
   "metadata": {},
   "outputs": [
    {
     "name": "stdout",
     "output_type": "stream",
     "text": [
      "✅ Libraries imported!\n"
     ]
    }
   ],
   "source": [
    "# Add project root to path\n",
    "import sys\n",
    "import os\n",
    "sys.path.append(os.path.abspath('..'))\n",
    "\n",
    "import pandas as pd\n",
    "import numpy as np\n",
    "import matplotlib.pyplot as plt\n",
    "import seaborn as sns\n",
    "import joblib\n",
    "import datetime\n",
    "import re\n",
    "\n",
    "from sentence_transformers import SentenceTransformer\n",
    "\n",
    "# Import your experiment tracker\n",
    "import sys\n",
    "sys.path.append('..')\n",
    "from src.experiment_tracker import load_experiment_results, get_best_experiment\n",
    "\n",
    "print(\"✅ Libraries imported!\")\n",
    "%matplotlib inline"
   ]
  },
  {
   "cell_type": "markdown",
   "id": "a5206879",
   "metadata": {},
   "source": [
    "\n",
    "---\n",
    "\n",
    "## 📥 2. Load Best Model & Data\n"
   ]
  },
  {
   "cell_type": "code",
   "execution_count": 2,
   "id": "039a72ea",
   "metadata": {},
   "outputs": [
    {
     "name": "stdout",
     "output_type": "stream",
     "text": [
      "📊 Loading best model from experiment tracker...\n",
      "🏆 Best Experiment Found:\n",
      "==================================================\n",
      "experiment_type     : sentence_transformers\n",
      "model_name          : SVM\n",
      "preprocessing       : aggressive\n",
      "accuracy            : 0.955313556139692\n",
      "precision           : 0.9496420636879784\n",
      "recall              : 0.96175\n",
      "f1_score            : 0.9556576822754936\n",
      "roc_auc             : 0.9907214214088744\n",
      "dataset             : fake_news\n",
      "notes               : Features: ['clean_text']\n",
      "experiment_id       : se_s_20250903_131104\n",
      "timestamp           : 2025-09-03T13:11:04.602249\n",
      "\n",
      "📋 Best Model Configuration:\n",
      "   Model: SVM\n",
      "   Preprocessing: aggressive\n",
      "   Features: ['clean_text']\n",
      "   Training F1: 0.9557\n",
      "✅ Loaded aggressive cleaned validation data\n",
      "✅ Loaded original validation data for output format: (4956, 5)\n",
      "✅ Found model file: ../models/best_model_svm_20250902_192249.pkl\n",
      "✅ Loaded model: SVC\n"
     ]
    }
   ],
   "source": [
    "print(\"📊 Loading best model from experiment tracker...\")\n",
    "\n",
    "# Load all experiment results\n",
    "all_results = load_experiment_results()\n",
    "\n",
    "if all_results.empty:\n",
    "    raise ValueError(\"❌ No experiment results found! Run some experiments first.\")\n",
    "\n",
    "# Find the best experiment based on F1 score (primary metric)\n",
    "best_experiment = get_best_experiment(all_results, 'f1_score')\n",
    "\n",
    "print(\"🏆 Best Experiment Found:\")\n",
    "print(\"=\" * 50)\n",
    "for key, value in best_experiment.items():\n",
    "    print(f\"{key:20}: {value}\")\n",
    "\n",
    "# Extract information from the best experiment\n",
    "experiment_type = best_experiment['experiment_type']\n",
    "model_name = best_experiment['model_name']\n",
    "preprocessing_strategy = best_experiment['preprocessing']\n",
    "features_notes = best_experiment.get('notes', '')\n",
    "training_f1 = best_experiment['f1_score']\n",
    "\n",
    "# Extract features from notes (assuming format: \"Features: ['feature1', 'feature2']\")\n",
    "features = []\n",
    "if 'Features:' in features_notes:\n",
    "    features_str = features_notes.split('Features: ')[1].strip(\"[]\").replace(\"'\", \"\")\n",
    "    features = [feature.strip() for feature in features_str.split(\",\")]\n",
    "\n",
    "print(f\"\\n📋 Best Model Configuration:\")\n",
    "print(f\"   Model: {model_name}\")\n",
    "print(f\"   Preprocessing: {preprocessing_strategy}\")\n",
    "print(f\"   Features: {features}\")\n",
    "print(f\"   Training F1: {training_f1:.4f}\")\n",
    "\n",
    "# Load the appropriate cleaned validation data\n",
    "if preprocessing_strategy == 'basic':\n",
    "    val_df = pd.read_csv('../dataset/01_interim/cleaned_validation_basic.csv')\n",
    "    print(\"✅ Loaded basic cleaned validation data\")\n",
    "elif preprocessing_strategy == 'aggressive':\n",
    "    val_df = pd.read_csv('../dataset/01_interim/cleaned_validation_aggressive.csv')\n",
    "    print(\"✅ Loaded aggressive cleaned validation data\")\n",
    "else:\n",
    "    # Fallback to basic if unknown\n",
    "    val_df = pd.read_csv('../dataset/01_interim/cleaned_validation_basic.csv')\n",
    "    print(\"⚠️  Unknown preprocessing strategy, using basic cleaned data\")\n",
    "\n",
    "# Load original validation data for the final output format\n",
    "original_val_df = pd.read_csv('../dataset/00_raw/validation_data.csv')\n",
    "print(f\"✅ Loaded original validation data for output format: {original_val_df.shape}\")\n",
    "\n",
    "# Now we need to find the actual model file\n",
    "# The model filename is based on the experiment ID pattern\n",
    "experiment_id = best_experiment['experiment_id']\n",
    "model_filename = f\"../models/best_model_{model_name.lower().replace(' ', '_')}_{experiment_id.split('_')[-1]}.pkl\"\n",
    "\n",
    "# Try to find the model file\n",
    "model_path = None\n",
    "possible_patterns = [\n",
    "    model_filename,\n",
    "    f\"../models/best_model_*.pkl\",  # Fallback: any best model file\n",
    "    f\"../models/*{model_name.lower().replace(' ', '_')}*.pkl\"  # Fallback: any file with model name\n",
    "]\n",
    "\n",
    "for pattern in possible_patterns:\n",
    "    if pattern == model_filename and os.path.exists(pattern):\n",
    "        model_path = pattern\n",
    "        break\n",
    "    else:\n",
    "        # Try to find files matching the pattern\n",
    "        import glob\n",
    "        matching_files = glob.glob(pattern)\n",
    "        if matching_files:\n",
    "            model_path = matching_files[0]  # Take the first match\n",
    "            break\n",
    "\n",
    "if model_path and os.path.exists(model_path):\n",
    "    print(f\"✅ Found model file: {model_path}\")\n",
    "    best_model = joblib.load(model_path)\n",
    "    print(f\"✅ Loaded model: {type(best_model).__name__}\")\n",
    "else:\n",
    "    print(\"❌ Model file not found automatically. Please specify the path manually.\")\n",
    "    print(\"💡 You may need to train a model first or check the models directory.\")\n",
    "    # You can add manual path specification here if needed\n",
    "    raise FileNotFoundError(\"Model file not found\")"
   ]
  },
  {
   "cell_type": "code",
   "execution_count": 4,
   "id": "7b69aaf8",
   "metadata": {},
   "outputs": [
    {
     "name": "stdout",
     "output_type": "stream",
     "text": [
      "🔍 Checking for data leakage...\n",
      "✅ Loaded original validation data for output format: (4956, 5)\n",
      "📊 Training vs Validation Comparison:\n",
      "Training shape: (39942, 5)\n",
      "Validation shape: (4956, 5)\n",
      "\n",
      "📋 Subject distribution comparison:\n",
      "                    Train  Validation\n",
      "subject                              \n",
      "Government News  0.039307         NaN\n",
      "Middle-east           NaN    0.156981\n",
      "News             0.226579         NaN\n",
      "US_News               NaN    0.157990\n",
      "left-news        0.062140    0.398910\n",
      "politics         0.171273         NaN\n",
      "politicsNews     0.282209         NaN\n",
      "worldnews        0.218492    0.286118\n",
      "\n",
      "📅 Date range comparison:\n",
      "Train dates: 14-Feb-18 to https://fedup.wpengine.com/wp-content/uploads/2015/04/hillarystreetart.jpg\n",
      "Validation dates: Apr 1, 2015 to https://fedup.wpengine.com/wp-content/uploads/2015/04/hillarystreetart.jpg\n",
      "\n",
      "🎯 Label distribution (validation):\n",
      "label\n",
      "2    1.0\n",
      "Name: proportion, dtype: float64\n"
     ]
    }
   ],
   "source": [
    "# Add this to your validation notebook BEFORE predicting\n",
    "print(\"🔍 Checking for data leakage...\")\n",
    "\n",
    "# Load original validation data for the final output format\n",
    "original_df = pd.read_csv('../dataset/00_raw/data.csv')\n",
    "print(f\"✅ Loaded original validation data for output format: {original_val_df.shape}\")\n",
    "\n",
    "\n",
    "# Compare training vs validation distributions\n",
    "print(\"📊 Training vs Validation Comparison:\")\n",
    "print(f\"Training shape: {original_df.shape}\")\n",
    "print(f\"Validation shape: {original_val_df.shape}\")\n",
    "\n",
    "# Check subject distribution\n",
    "print(\"\\n📋 Subject distribution comparison:\")\n",
    "train_subjects = original_df['subject'].value_counts(normalize=True)\n",
    "val_subjects = original_val_df['subject'].value_counts(normalize=True)\n",
    "subject_comparison = pd.DataFrame({'Train': train_subjects, 'Validation': val_subjects})\n",
    "print(subject_comparison)\n",
    "\n",
    "# Check date range\n",
    "print(\"\\n📅 Date range comparison:\")\n",
    "print(f\"Train dates: {original_df['date'].min()} to {original_df['date'].max()}\")\n",
    "print(f\"Validation dates: {original_val_df['date'].min()} to {original_val_df['date'].max()}\")\n",
    "\n",
    "# Check label distribution (if any labels exist in validation)\n",
    "if 'label' in original_val_df.columns:\n",
    "    val_label_counts = original_val_df['label'].value_counts(normalize=True)\n",
    "    print(f\"\\n🎯 Label distribution (validation):\")\n",
    "    print(val_label_counts)"
   ]
  },
  {
   "cell_type": "code",
   "execution_count": 5,
   "id": "21b24d95",
   "metadata": {},
   "outputs": [
    {
     "name": "stdout",
     "output_type": "stream",
     "text": [
      "🔄 Verifying preprocessing consistency...\n",
      "Validation samples after cleaning:\n",
      "0    london reuters british prime minister theresa ...\n",
      "1    london reuters british counter terrorism polic...\n",
      "2    wellington reuters south pacific island nation...\n",
      "Name: clean_text, dtype: object\n",
      "Missing values: 0\n"
     ]
    }
   ],
   "source": [
    "# Ensure EXACT same preprocessing for validation as training\n",
    "print(\"🔄 Verifying preprocessing consistency...\")\n",
    "\n",
    "# Load the exact same preprocessing parameters used for training\n",
    "from src.data_cleaning import aggressive_clean_text\n",
    "\n",
    "# Apply the EXACT same cleaning function\n",
    "original_val_df['clean_text'] = original_val_df['text'].apply(aggressive_clean_text)\n",
    "\n",
    "# Verify the cleaning worked\n",
    "print(f\"Validation samples after cleaning:\")\n",
    "print(original_val_df['clean_text'].head(3))\n",
    "print(f\"Missing values: {original_val_df['clean_text'].isnull().sum()}\")"
   ]
  },
  {
   "cell_type": "markdown",
   "id": "c8a7d955",
   "metadata": {},
   "source": [
    "\n",
    "---\n",
    "\n",
    "## 🔮 3. Make Predictions\n"
   ]
  },
  {
   "cell_type": "code",
   "execution_count": 3,
   "id": "bbab122b",
   "metadata": {},
   "outputs": [
    {
     "name": "stdout",
     "output_type": "stream",
     "text": [
      "\n",
      "🔮 Making predictions...\n",
      "✅ Loaded sentence transformer model\n",
      "📋 Using features: ['clean_text']\n",
      "🔄 Creating embeddings for validation data...\n"
     ]
    },
    {
     "data": {
      "application/vnd.jupyter.widget-view+json": {
       "model_id": "2599814d3557442d9b71cc6934b12c74",
       "version_major": 2,
       "version_minor": 0
      },
      "text/plain": [
       "Batches:   0%|          | 0/155 [00:00<?, ?it/s]"
      ]
     },
     "metadata": {},
     "output_type": "display_data"
    },
    {
     "name": "stdout",
     "output_type": "stream",
     "text": [
      "📊 Embeddings shape: (4956, 384)\n",
      "🎯 Making predictions...\n",
      "✅ Predictions completed: 4956 samples\n",
      "📊 Prediction distribution:\n",
      "0    3041\n",
      "1    1915\n",
      "Name: count, dtype: int64\n",
      "Fake (0): 3041\n",
      "Real (1): 1915\n"
     ]
    }
   ],
   "source": [
    "print(\"\\n🔮 Making predictions...\")\n",
    "\n",
    "# Load the same sentence transformer model\n",
    "sentence_model = SentenceTransformer('all-MiniLM-L6-v2')\n",
    "print(\"✅ Loaded sentence transformer model\")\n",
    "\n",
    "# Prepare the text data based on the features used in training\n",
    "def combine_features_for_prediction(data, features):\n",
    "    \"\"\"Combine features for prediction based on training configuration\"\"\"\n",
    "    if not features or len(features) == 0:\n",
    "        # Default to clean_title if no features specified\n",
    "        return data['clean_title'].fillna('').astype(str)\n",
    "    elif len(features) == 1:\n",
    "        return data[features[0]].fillna('').astype(str)\n",
    "    else:\n",
    "        combined = data[features].fillna('').astype(str)\n",
    "        return combined.apply(lambda x: ' | '.join(x), axis=1)\n",
    "\n",
    "print(f\"📋 Using features: {features}\")\n",
    "\n",
    "# Prepare the text data\n",
    "X_val_text = combine_features_for_prediction(val_df, features)\n",
    "\n",
    "# Create embeddings\n",
    "print(\"🔄 Creating embeddings for validation data...\")\n",
    "X_val_embeddings = sentence_model.encode(X_val_text.tolist(), show_progress_bar=True)\n",
    "print(f\"📊 Embeddings shape: {X_val_embeddings.shape}\")\n",
    "\n",
    "# Make predictions\n",
    "print(\"🎯 Making predictions...\")\n",
    "val_predictions = best_model.predict(X_val_embeddings)\n",
    "val_probabilities = best_model.predict_proba(X_val_embeddings)[:, 1]  # Probability of class 1\n",
    "\n",
    "print(f\"✅ Predictions completed: {len(val_predictions)} samples\")\n",
    "\n",
    "# Add predictions to the original validation dataframe (to preserve the original format)\n",
    "original_val_df['label'] = val_predictions\n",
    "\n",
    "print(\"📊 Prediction distribution:\")\n",
    "pred_counts = pd.Series(val_predictions).value_counts()\n",
    "print(pred_counts)\n",
    "print(f\"Fake (0): {pred_counts.get(0, 0)}\")\n",
    "print(f\"Real (1): {pred_counts.get(1, 0)}\")"
   ]
  },
  {
   "cell_type": "markdown",
   "id": "1f71e0ae",
   "metadata": {},
   "source": [
    "\n",
    "---\n",
    "\n",
    "## 📤 4. Generate Submission Files\n"
   ]
  },
  {
   "cell_type": "code",
   "execution_count": 4,
   "id": "c2a442c6",
   "metadata": {},
   "outputs": [
    {
     "name": "stdout",
     "output_type": "stream",
     "text": [
      "\n",
      "📤 Generating submission file...\n",
      "📋 No previous submissions found\n",
      "🎯 Preparing attempt 1\n",
      "✅ Saved attempt 1: gfm_1.csv\n",
      "✅ Submission recorded in history: ../dataset/02_submissions/submission_history.csv\n",
      "📁 File size: 15821.5 KB\n",
      "📊 Predictions: 3041 Fake (0), 1915 Real (1)\n"
     ]
    }
   ],
   "source": [
    "print(\"\\n📤 Generating submission file...\")\n",
    "\n",
    "# Get your initials (change this to your actual initials)\n",
    "your_initials = \"gfm\"  # Change to your initials, e.g., \"js\" for John Smith\n",
    "\n",
    "# Create submissions directory\n",
    "submissions_dir = \"../dataset/02_submissions\"\n",
    "os.makedirs(submissions_dir, exist_ok=True)\n",
    "\n",
    "# Load submission history to determine next attempt number\n",
    "history_file = os.path.join(submissions_dir, \"submission_history.csv\")\n",
    "\n",
    "if os.path.exists(history_file):\n",
    "    history_df = pd.read_csv(history_file)\n",
    "    next_attempt = history_df['attempt'].max() + 1\n",
    "    print(f\"📋 Previous attempts found: {len(history_df)}\")\n",
    "    print(f\"   Last attempt: {history_df['attempt'].max()}\")\n",
    "else:\n",
    "    history_df = pd.DataFrame()\n",
    "    next_attempt = 1\n",
    "    print(\"📋 No previous submissions found\")\n",
    "\n",
    "print(f\"🎯 Preparing attempt {next_attempt}\")\n",
    "\n",
    "# Create filename according to the required format\n",
    "filename = f\"{your_initials}_{next_attempt}.csv\"\n",
    "filepath = os.path.join(submissions_dir, filename)\n",
    "\n",
    "# Check if file already exists to avoid overwriting\n",
    "if os.path.exists(filepath):\n",
    "    print(f\"⚠️  Warning: {filename} already exists!\")\n",
    "    overwrite = input(\"Do you want to overwrite it? (y/n): \")\n",
    "    if overwrite.lower() != 'y':\n",
    "        print(\"❌ Submission cancelled\")\n",
    "        # You might want to handle this differently based on your workflow\n",
    "    else:\n",
    "        print(\"✅ Will overwrite existing file\")\n",
    "\n",
    "# Save the predictions\n",
    "original_val_df.to_csv(filepath, index=False)\n",
    "print(f\"✅ Saved attempt {next_attempt}: {filename}\")\n",
    "\n",
    "# Record this submission in history\n",
    "submission_record = {\n",
    "    'timestamp': datetime.datetime.now().isoformat(),\n",
    "    'attempt': next_attempt,\n",
    "    'filename': filename,\n",
    "    'model': model_name,\n",
    "    'preprocessing': preprocessing_strategy,\n",
    "    'features': str(features),\n",
    "    'prediction_count_0': pred_counts.get(0, 0),\n",
    "    'prediction_count_1': pred_counts.get(1, 0),\n",
    "    'training_f1': training_f1,\n",
    "    'experiment_id': experiment_id,\n",
    "    'submission_status': 'submitted',\n",
    "    'teacher_feedback': ''  # To be filled later\n",
    "}\n",
    "\n",
    "# Update history file\n",
    "if not history_df.empty:\n",
    "    updated_history = pd.concat([history_df, pd.DataFrame([submission_record])], ignore_index=True)\n",
    "else:\n",
    "    updated_history = pd.DataFrame([submission_record])\n",
    "\n",
    "updated_history.to_csv(history_file, index=False)\n",
    "print(f\"✅ Submission recorded in history: {history_file}\")\n",
    "\n",
    "# Display file info\n",
    "file_size = os.path.getsize(filepath) / 1024  # Size in KB\n",
    "print(f\"📁 File size: {file_size:.1f} KB\")\n",
    "print(f\"📊 Predictions: {pred_counts.get(0, 0)} Fake (0), {pred_counts.get(1, 0)} Real (1)\")"
   ]
  },
  {
   "cell_type": "markdown",
   "id": "d0c85bef",
   "metadata": {},
   "source": [
    "\n",
    "---\n",
    "\n",
    "## 📊 5. Submission History & Analysis\n"
   ]
  },
  {
   "cell_type": "code",
   "execution_count": 5,
   "id": "de29e502",
   "metadata": {},
   "outputs": [
    {
     "name": "stdout",
     "output_type": "stream",
     "text": [
      "\n",
      "📊 Submission History & Feedback Tracking\n",
      "==================================================\n",
      "📋 Your Submission History:\n"
     ]
    },
    {
     "data": {
      "application/vnd.microsoft.datawrangler.viewer.v0+json": {
       "columns": [
        {
         "name": "index",
         "rawType": "int64",
         "type": "integer"
        },
        {
         "name": "attempt",
         "rawType": "int64",
         "type": "integer"
        },
        {
         "name": "timestamp",
         "rawType": "object",
         "type": "string"
        },
        {
         "name": "model",
         "rawType": "object",
         "type": "string"
        },
        {
         "name": "preprocessing",
         "rawType": "object",
         "type": "string"
        },
        {
         "name": "prediction_count_0",
         "rawType": "int64",
         "type": "integer"
        },
        {
         "name": "prediction_count_1",
         "rawType": "int64",
         "type": "integer"
        },
        {
         "name": "training_f1",
         "rawType": "float64",
         "type": "float"
        },
        {
         "name": "submission_status",
         "rawType": "object",
         "type": "string"
        },
        {
         "name": "teacher_feedback",
         "rawType": "float64",
         "type": "float"
        }
       ],
       "ref": "0afbff39-2981-4797-9ee6-68413daee397",
       "rows": [
        [
         "0",
         "1",
         "2025-09-03T15:07:07.014236",
         "SVM",
         "aggressive",
         "3041",
         "1915",
         "0.9556576822754936",
         "submitted",
         null
        ]
       ],
       "shape": {
        "columns": 9,
        "rows": 1
       }
      },
      "text/html": [
       "<div>\n",
       "<style scoped>\n",
       "    .dataframe tbody tr th:only-of-type {\n",
       "        vertical-align: middle;\n",
       "    }\n",
       "\n",
       "    .dataframe tbody tr th {\n",
       "        vertical-align: top;\n",
       "    }\n",
       "\n",
       "    .dataframe thead th {\n",
       "        text-align: right;\n",
       "    }\n",
       "</style>\n",
       "<table border=\"1\" class=\"dataframe\">\n",
       "  <thead>\n",
       "    <tr style=\"text-align: right;\">\n",
       "      <th></th>\n",
       "      <th>attempt</th>\n",
       "      <th>timestamp</th>\n",
       "      <th>model</th>\n",
       "      <th>preprocessing</th>\n",
       "      <th>prediction_count_0</th>\n",
       "      <th>prediction_count_1</th>\n",
       "      <th>training_f1</th>\n",
       "      <th>submission_status</th>\n",
       "      <th>teacher_feedback</th>\n",
       "    </tr>\n",
       "  </thead>\n",
       "  <tbody>\n",
       "    <tr>\n",
       "      <th>0</th>\n",
       "      <td>1</td>\n",
       "      <td>2025-09-03T15:07:07.014236</td>\n",
       "      <td>SVM</td>\n",
       "      <td>aggressive</td>\n",
       "      <td>3041</td>\n",
       "      <td>1915</td>\n",
       "      <td>0.955658</td>\n",
       "      <td>submitted</td>\n",
       "      <td>NaN</td>\n",
       "    </tr>\n",
       "  </tbody>\n",
       "</table>\n",
       "</div>"
      ],
      "text/plain": [
       "   attempt                   timestamp model preprocessing  \\\n",
       "0        1  2025-09-03T15:07:07.014236   SVM    aggressive   \n",
       "\n",
       "   prediction_count_0  prediction_count_1  training_f1 submission_status  \\\n",
       "0                3041                1915     0.955658         submitted   \n",
       "\n",
       "   teacher_feedback  \n",
       "0               NaN  "
      ]
     },
     "metadata": {},
     "output_type": "display_data"
    },
    {
     "name": "stdout",
     "output_type": "stream",
     "text": [
      "\n",
      "📈 Current Prediction Analysis:\n"
     ]
    },
    {
     "data": {
      "application/vnd.microsoft.datawrangler.viewer.v0+json": {
       "columns": [
        {
         "name": "index",
         "rawType": "int64",
         "type": "integer"
        },
        {
         "name": "Class",
         "rawType": "object",
         "type": "string"
        },
        {
         "name": "Count",
         "rawType": "int64",
         "type": "integer"
        },
        {
         "name": "Percentage",
         "rawType": "float64",
         "type": "float"
        }
       ],
       "ref": "f0008ef8-f01f-47ee-ad9d-2ea84a9b3d44",
       "rows": [
        [
         "0",
         "Fake (0)",
         "3041",
         "61.36"
        ],
        [
         "1",
         "Real (1)",
         "1915",
         "38.64"
        ]
       ],
       "shape": {
        "columns": 3,
        "rows": 2
       }
      },
      "text/html": [
       "<div>\n",
       "<style scoped>\n",
       "    .dataframe tbody tr th:only-of-type {\n",
       "        vertical-align: middle;\n",
       "    }\n",
       "\n",
       "    .dataframe tbody tr th {\n",
       "        vertical-align: top;\n",
       "    }\n",
       "\n",
       "    .dataframe thead th {\n",
       "        text-align: right;\n",
       "    }\n",
       "</style>\n",
       "<table border=\"1\" class=\"dataframe\">\n",
       "  <thead>\n",
       "    <tr style=\"text-align: right;\">\n",
       "      <th></th>\n",
       "      <th>Class</th>\n",
       "      <th>Count</th>\n",
       "      <th>Percentage</th>\n",
       "    </tr>\n",
       "  </thead>\n",
       "  <tbody>\n",
       "    <tr>\n",
       "      <th>0</th>\n",
       "      <td>Fake (0)</td>\n",
       "      <td>3041</td>\n",
       "      <td>61.36</td>\n",
       "    </tr>\n",
       "    <tr>\n",
       "      <th>1</th>\n",
       "      <td>Real (1)</td>\n",
       "      <td>1915</td>\n",
       "      <td>38.64</td>\n",
       "    </tr>\n",
       "  </tbody>\n",
       "</table>\n",
       "</div>"
      ],
      "text/plain": [
       "      Class  Count  Percentage\n",
       "0  Fake (0)   3041       61.36\n",
       "1  Real (1)   1915       38.64"
      ]
     },
     "metadata": {},
     "output_type": "display_data"
    },
    {
     "data": {
      "image/png": "[encoded data removed]",
      "text/plain": [
       "<Figure size 1000x600 with 1 Axes>"
      ]
     },
     "metadata": {},
     "output_type": "display_data"
    },
    {
     "name": "stdout",
     "output_type": "stream",
     "text": [
      "🎯 Next Steps:\n",
      "==================================================\n",
      "1. 📤 Submit 'gfm_1.csv' to your teacher via Slack DM\n",
      "2. 📝 You will receive accuracy, precision, recall, and F1 scores\n",
      "3. 💡 Use the feedback to improve your model for next attempt\n",
      "4. 🔄 Return here to generate your next submission when ready\n",
      "\n",
      "📋 File ready for submission:\n",
      "   📁 Filename: gfm_1.csv\n",
      "   📊 Location: ../dataset/02_submissions/gfm_1.csv\n",
      "   🎯 Attempt: 1\n",
      "   🤖 Model: SVM\n",
      "   🧹 Preprocessing: aggressive\n",
      "\n",
      "⚠️  Important Notes:\n",
      "==================================================\n",
      "1. Your submission files are ready in the '../submissions/' folder\n",
      "2. Files follow the format: {initials}_{attempt}.csv\n",
      "3. Send the files via DM to your teacher on Slack\n",
      "4. You will receive accuracy, precision, recall, and F1 scores\n",
      "5. Remember: F1 score is the primary ranking metric!\n",
      "6. You have 3 attempts - use them wisely!\n",
      "\n",
      "✅ Single submission file created successfully!\n",
      "🚀 Good luck with your submission!\n"
     ]
    }
   ],
   "source": [
    "print(\"\\n📊 Submission History & Feedback Tracking\")\n",
    "print(\"=\" * 50)\n",
    "\n",
    "# Display current submission history\n",
    "if os.path.exists(history_file):\n",
    "    history_df = pd.read_csv(history_file)\n",
    "    print(\"📋 Your Submission History:\")\n",
    "    \n",
    "    # Display only essential columns for clarity\n",
    "    display_cols = ['attempt', 'timestamp', 'model', 'preprocessing', 'prediction_count_0', 'prediction_count_1', 'training_f1', 'submission_status']\n",
    "    if 'teacher_feedback' in history_df.columns:\n",
    "        display_cols.append('teacher_feedback')\n",
    "    \n",
    "    display(history_df[display_cols])\n",
    "else:\n",
    "    print(\"No submission history found.\")\n",
    "\n",
    "# Analyze prediction distribution\n",
    "print(\"\\n📈 Current Prediction Analysis:\")\n",
    "prediction_analysis = pd.DataFrame({\n",
    "    'Class': ['Fake (0)', 'Real (1)'],\n",
    "    'Count': [pred_counts.get(0, 0), pred_counts.get(1, 0)],\n",
    "    'Percentage': [\n",
    "        pred_counts.get(0, 0) / len(val_predictions) * 100,\n",
    "        pred_counts.get(1, 0) / len(val_predictions) * 100\n",
    "    ]\n",
    "})\n",
    "prediction_analysis['Percentage'] = prediction_analysis['Percentage'].round(2)\n",
    "\n",
    "display(prediction_analysis)\n",
    "\n",
    "# Show confidence distribution if available\n",
    "if val_probabilities is not None:\n",
    "    plt.figure(figsize=(10, 6))\n",
    "    plt.hist(val_probabilities, bins=20, alpha=0.7, color='skyblue')\n",
    "    plt.axvline(x=0.5, color='red', linestyle='--', label='Decision Threshold (0.5)')\n",
    "    plt.title('Prediction Confidence Distribution')\n",
    "    plt.xlabel('Probability of being Real News (1)')\n",
    "    plt.ylabel('Count')\n",
    "    plt.legend()\n",
    "    plt.grid(alpha=0.3)\n",
    "    plt.show()\n",
    "\n",
    "print(\"🎯 Next Steps:\")\n",
    "print(\"=\" * 50)\n",
    "print(f\"1. 📤 Submit '{filename}' to your teacher via Slack DM\")\n",
    "print(\"2. 📝 You will receive accuracy, precision, recall, and F1 scores\")\n",
    "print(\"3. 💡 Use the feedback to improve your model for next attempt\")\n",
    "print(\"4. 🔄 Return here to generate your next submission when ready\")\n",
    "\n",
    "print(f\"\\n📋 File ready for submission:\")\n",
    "print(f\"   📁 Filename: {filename}\")\n",
    "print(f\"   📊 Location: {filepath}\")\n",
    "print(f\"   🎯 Attempt: {next_attempt}\")\n",
    "print(f\"   🤖 Model: {model_name}\")\n",
    "print(f\"   🧹 Preprocessing: {preprocessing_strategy}\")\n",
    "\n",
    "print(\"\\n⚠️  Important Notes:\")\n",
    "print(\"=\" * 50)\n",
    "print(\"1. Your submission files are ready in the '../submissions/' folder\")\n",
    "print(\"2. Files follow the format: {initials}_{attempt}.csv\")\n",
    "print(\"3. Send the files via DM to your teacher on Slack\")\n",
    "print(\"4. You will receive accuracy, precision, recall, and F1 scores\")\n",
    "print(\"5. Remember: F1 score is the primary ranking metric!\")\n",
    "print(\"6. You have 3 attempts - use them wisely!\")\n",
    "\n",
    "\n",
    "print(\"\\n✅ Single submission file created successfully!\")\n",
    "print(\"🚀 Good luck with your submission!\")"
   ]
  },
  {
   "cell_type": "markdown",
   "id": "63881481",
   "metadata": {},
   "source": [
    "## 📝 6. Feedback Integration Helper (For Future Use)"
   ]
  },
  {
   "cell_type": "code",
   "execution_count": 6,
   "id": "734da6af",
   "metadata": {},
   "outputs": [
    {
     "name": "stdout",
     "output_type": "stream",
     "text": [
      "\n",
      "📝 Feedback Integration Helper\n",
      "==================================================\n",
      "When you receive feedback from your teacher, you can use this section to record it.\n",
      "📋 Latest submission awaiting feedback: Attempt 1\n",
      "To add feedback, you can:\n",
      "1. Open the submission history CSV file\n",
      "2. Find your attempt and add the feedback in the 'teacher_feedback' column\n",
      "3. Update the 'submission_status' to 'reviewed'\n",
      "\n",
      "💡 Tips for using feedback:\n",
      "• Analyze which examples your model got wrong\n",
      "• Consider adjusting your preprocessing strategy\n",
      "• Try different feature combinations\n",
      "• Experiment with different models\n",
      "• Remember: F1 score is the primary metric!\n",
      "\n",
      "🔄 When you're ready for your next attempt:\n",
      "1. Improve your model based on feedback\n",
      "2. Run your experiments again\n",
      "3. Return to this notebook\n",
      "4. Run all cells to generate your next submission\n"
     ]
    }
   ],
   "source": [
    "# This cell is for when you receive feedback from your teacher\n",
    "print(\"\\n📝 Feedback Integration Helper\")\n",
    "print(\"=\" * 50)\n",
    "print(\"When you receive feedback from your teacher, you can use this section to record it.\")\n",
    "\n",
    "if os.path.exists(history_file):\n",
    "    history_df = pd.read_csv(history_file)\n",
    "    \n",
    "    # Show latest submission that might need feedback\n",
    "    latest_submission = history_df[history_df['submission_status'] == 'submitted'].tail(1)\n",
    "    \n",
    "    if not latest_submission.empty:\n",
    "        latest_attempt = latest_submission['attempt'].iloc[0]\n",
    "        print(f\"📋 Latest submission awaiting feedback: Attempt {latest_attempt}\")\n",
    "        \n",
    "        # You can manually add feedback here or update the CSV directly\n",
    "        print(\"To add feedback, you can:\")\n",
    "        print(\"1. Open the submission history CSV file\")\n",
    "        print(\"2. Find your attempt and add the feedback in the 'teacher_feedback' column\")\n",
    "        print(\"3. Update the 'submission_status' to 'reviewed'\")\n",
    "        \n",
    "        # Example of how to update programmatically (uncomment and modify as needed)\n",
    "        \"\"\"\n",
    "        # Uncomment and modify these lines when you have feedback\n",
    "        feedback = \"Accuracy: 0.92, Precision: 0.91, Recall: 0.93, F1: 0.92\"\n",
    "        history_df.loc[history_df['attempt'] == latest_attempt, 'teacher_feedback'] = feedback\n",
    "        history_df.loc[history_df['attempt'] == latest_attempt, 'submission_status'] = 'reviewed'\n",
    "        history_df.to_csv(history_file, index=False)\n",
    "        print(\"✅ Feedback recorded!\")\n",
    "        \"\"\"\n",
    "    else:\n",
    "        print(\"No submissions awaiting feedback\")\n",
    "else:\n",
    "    print(\"No submission history found\")\n",
    "\n",
    "print(\"\\n💡 Tips for using feedback:\")\n",
    "print(\"• Analyze which examples your model got wrong\")\n",
    "print(\"• Consider adjusting your preprocessing strategy\")\n",
    "print(\"• Try different feature combinations\")\n",
    "print(\"• Experiment with different models\")\n",
    "print(\"• Remember: F1 score is the primary metric!\")\n",
    "\n",
    "print(\"\\n🔄 When you're ready for your next attempt:\")\n",
    "print(\"1. Improve your model based on feedback\")\n",
    "print(\"2. Run your experiments again\")\n",
    "print(\"3. Return to this notebook\")\n",
    "print(\"4. Run all cells to generate your next submission\")"
   ]
  },
  {
   "cell_type": "markdown",
   "id": "0b63a987",
   "metadata": {},
   "source": [
    "## 🎯 7. Quick Submission Checklist"
   ]
  },
  {
   "cell_type": "code",
   "execution_count": 7,
   "id": "e5ade022",
   "metadata": {},
   "outputs": [
    {
     "name": "stdout",
     "output_type": "stream",
     "text": [
      "\n",
      "✅ Quick Submission Checklist\n",
      "==================================================\n",
      "✅ File follows naming format {initials}_{attempt}.csv\n",
      "✅ File contains only original columns\n",
      "✅ All '2' labels replaced with predictions\n",
      "✅ File saved in submissions folder\n",
      "✅ Submission recorded in history\n",
      "\n",
      "🎉 All checks passed! Your file is ready for submission.\n",
      "📤 Send 'gfm_1.csv' to your teacher via Slack DM\n",
      "\n",
      "📁 Submission file: ../dataset/02_submissions/gfm_1.csv\n",
      "📋 Attempt number: 1\n",
      "📊 Total submissions so far: 1\n"
     ]
    }
   ],
   "source": [
    "print(\"\\n✅ Quick Submission Checklist\")\n",
    "print(\"=\" * 50)\n",
    "\n",
    "checklist_items = [\n",
    "    (\"File follows naming format {initials}_{attempt}.csv\", filename == f\"{your_initials}_{next_attempt}.csv\"),\n",
    "    (\"File contains only original columns\", set(original_val_df.columns) == {'label', 'title', 'text', 'subject', 'date'}),\n",
    "    (\"All '2' labels replaced with predictions\", original_val_df['label'].isin([0, 1]).all()),\n",
    "    (\"File saved in submissions folder\", os.path.exists(filepath)),\n",
    "    (\"Submission recorded in history\", os.path.exists(history_file)),\n",
    "]\n",
    "\n",
    "all_checks_passed = True\n",
    "\n",
    "for item, check_passed in checklist_items:\n",
    "    status = \"✅\" if check_passed else \"❌\"\n",
    "    print(f\"{status} {item}\")\n",
    "    if not check_passed:\n",
    "        all_checks_passed = False\n",
    "\n",
    "if all_checks_passed:\n",
    "    print(\"\\n🎉 All checks passed! Your file is ready for submission.\")\n",
    "    print(f\"📤 Send '{filename}' to your teacher via Slack DM\")\n",
    "else:\n",
    "    print(\"\\n⚠️  Some checks failed. Please review your submission file.\")\n",
    "\n",
    "print(f\"\\n📁 Submission file: {filepath}\")\n",
    "print(f\"📋 Attempt number: {next_attempt}\")\n",
    "print(f\"📊 Total submissions so far: {len(history_df) if os.path.exists(history_file) else 0}\")"
   ]
  },
  {
   "cell_type": "markdown",
   "id": "8336a559",
   "metadata": {},
   "source": [
    "\n",
    "---\n",
    "\n",
    "## 📁 Expected File Structure\n",
    "\n",
    "After running this notebook, you'll have:\n",
    "\n",
    "```\n",
    "your_project_folder/\n",
    "├── submissions/\n",
    "│   ├── nm_1.csv          # Your first attempt\n",
    "│   ├── nm_2.csv          # Your second attempt  \n",
    "│   ├── nm_3.csv          # Your third attempt\n",
    "│   └── submission_history.csv  # Tracks all your submissions\n",
    "├── models/\n",
    "│   ├── best_model_svm_20231115_1430.pkl      # Your best model\n",
    "│   └── best_model_metadata_20231115_1430.csv # Model metadata\n",
    "└── data/\n",
    "    ├── 00_raw/\n",
    "    │   └── validation_data.csv          # Original validation data\n",
    "    └── 01_interim/\n",
    "        ├── cleaned_validation_basic.csv      # Cleaned data (basic)\n",
    "        └── cleaned_validation_aggressive.csv # Cleaned data (aggressive)\n",
    "```\n",
    "\n",
    "## 🎯 How to Use This Notebook\n",
    "\n",
    "1. **Update the paths** to your actual best model and metadata files\n",
    "2. **Change `your_initials`** to your actual initials\n",
    "3. **Run the entire notebook** to generate all 3 submission files\n",
    "4. **Submit the files** to your teacher via Slack DM\n",
    "5. **Update the notebook** for subsequent attempts with improved models\n",
    "\n",
    "## 💡 Pro Tips\n",
    "\n",
    "1. **First attempt**: Use your current best model to get a baseline\n",
    "2. **Second attempt**: Improve based on teacher feedback from attempt 1\n",
    "3. **Third attempt**: Final optimization based on both previous attempts' feedback\n",
    "4. **Keep track** of what changes you make between attempts in the submission history\n"
   ]
  }
 ],
 "metadata": {
  "kernelspec": {
   "display_name": "datasci_env",
   "language": "python",
   "name": "python3"
  },
  "language_info": {
   "codemirror_mode": {
    "name": "ipython",
    "version": 3
   },
   "file_extension": ".py",
   "mimetype": "text/x-python",
   "name": "python",
   "nbconvert_exporter": "python",
   "pygments_lexer": "ipython3",
   "version": "3.12.3"
  }
 },
 "nbformat": 4,
 "nbformat_minor": 5
}
